{
  "nbformat": 4,
  "nbformat_minor": 0,
  "metadata": {
    "colab": {
      "name": "Linguagen_R_Tratamento_de_Dados.ipynb",
      "provenance": [],
      "authorship_tag": "ABX9TyN8jMiPIzUMGCWrGYFHLsu+",
      "include_colab_link": true
    },
    "kernelspec": {
      "name": "ir",
      "display_name": "R"
    }
  },
  "cells": [
    {
      "cell_type": "markdown",
      "metadata": {
        "id": "view-in-github",
        "colab_type": "text"
      },
      "source": [
        "<a href=\"https://colab.research.google.com/github/DanielMGuedes/Ling_R_Introduc_EVg/blob/main/Linguagen_R_Tratamento_de_Dados.ipynb\" target=\"_parent\"><img src=\"https://colab.research.google.com/assets/colab-badge.svg\" alt=\"Open In Colab\"/></a>"
      ]
    },
    {
      "cell_type": "markdown",
      "metadata": {
        "id": "4aSwRxhUey1r"
      },
      "source": [
        "# **Criando o primeiro Script em R** *2.1*\n",
        "\n",
        "\n",
        "*   Criar uma variavél\n",
        "* Conhecer o comando \"<-\" = recebe(serve para atribuir valores a uma variavél\n",
        "*   utilizar o comando \"print()\"\n",
        "\n",
        "\n",
        "\n",
        "vamos criar uma variavel \"msg\" e atribuir uma mensagem \"Hello Word\""
      ]
    },
    {
      "cell_type": "code",
      "metadata": {
        "id": "MnpzzbSaeTYZ"
      },
      "source": [
        "msg <- \"Heloo word\""
      ],
      "execution_count": 2,
      "outputs": []
    },
    {
      "cell_type": "markdown",
      "metadata": {
        "id": "CJPAEs6XfNJs"
      },
      "source": [
        "para mostra na tela o valor armazenado na variavél basta  digitar o comando>\n",
        "\n",
        "print(msg)"
      ]
    },
    {
      "cell_type": "code",
      "metadata": {
        "id": "2V_P8EFLfGjo",
        "outputId": "89005a36-46f4-4c15-8d33-b7794ed05d6a",
        "colab": {
          "base_uri": "https://localhost:8080/"
        }
      },
      "source": [
        "print (msg)"
      ],
      "execution_count": 3,
      "outputs": [
        {
          "output_type": "stream",
          "text": [
            "[1] \"Heloo word\"\n"
          ],
          "name": "stdout"
        }
      ]
    },
    {
      "cell_type": "markdown",
      "metadata": {
        "id": "difYBWj2fLFw"
      },
      "source": [
        "# Comentar seu Código (Documentação) *2.2*\n",
        "\n",
        "* Aprender a comentar o código utilizando \"#\"\n",
        "\n",
        "> Vamos criar comentários em nosso código\n",
        "\n",
        "Obs.: Uma boa prática no desenvolvimento de aplicações e códigos, é utilizar de comentários ao longo do cógigo para facilitar a identificação e objetivos daquele código. Chamamos isso de \"Documentação do Programa\"\n"
      ]
    },
    {
      "cell_type": "code",
      "metadata": {
        "id": "Z7e_oi8Nh8lq",
        "outputId": "6edf8b00-1266-4770-f7bc-79814e042c40",
        "colab": {
          "base_uri": "https://localhost:8080/"
        }
      },
      "source": [
        "msg <- \"Heloo word\"\n",
        "print (msg)\n",
        "# Isso é um comentário"
      ],
      "execution_count": 4,
      "outputs": [
        {
          "output_type": "stream",
          "text": [
            "[1] \"Heloo word\"\n"
          ],
          "name": "stdout"
        }
      ]
    },
    {
      "cell_type": "markdown",
      "metadata": {
        "id": "iAHSif86isTz"
      },
      "source": [
        "observe que a saída após a execução do código, não mostra a mensagem antes de \"#\" \n"
      ]
    },
    {
      "cell_type": "markdown",
      "metadata": {
        "id": "_-pgai96jCJV"
      },
      "source": [
        "#Documentação da Função *2.3*\n",
        "\n",
        "Toda vez que tiver dúvida sobre um parametro ou função que será utilizada é possível consultar a documentação através do comando \"?\" na frente da função que se tem dúvida.\n",
        "Ex.:\n"
      ]
    },
    {
      "cell_type": "code",
      "metadata": {
        "id": "nya-pildi2PZ"
      },
      "source": [
        "?print"
      ],
      "execution_count": 5,
      "outputs": []
    },
    {
      "cell_type": "markdown",
      "metadata": {
        "id": "A5GsB0uDjrk7"
      },
      "source": [
        "O Programa tráz como saída a documentação da função \"print\".\n",
        "\n"
      ]
    },
    {
      "cell_type": "code",
      "metadata": {
        "id": "eQfIia8JkvM3"
      },
      "source": [
        ""
      ],
      "execution_count": null,
      "outputs": []
    },
    {
      "cell_type": "code",
      "metadata": {
        "id": "BGrealU4j1W6"
      },
      "source": [
        ""
      ],
      "execution_count": null,
      "outputs": []
    }
  ]
}