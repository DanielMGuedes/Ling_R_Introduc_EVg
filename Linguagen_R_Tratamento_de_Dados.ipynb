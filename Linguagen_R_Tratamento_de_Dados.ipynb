{
  "nbformat": 4,
  "nbformat_minor": 0,
  "metadata": {
    "colab": {
      "name": "Linguagen_R_Tratamento_de_Dados.ipynb",
      "provenance": [],
      "collapsed_sections": [],
      "authorship_tag": "ABX9TyNa5Ct8Bp9Ogu7XP0WPvBoK",
      "include_colab_link": true
    },
    "kernelspec": {
      "name": "ir",
      "display_name": "R"
    }
  },
  "cells": [
    {
      "cell_type": "markdown",
      "metadata": {
        "id": "view-in-github",
        "colab_type": "text"
      },
      "source": [
        "<a href=\"https://colab.research.google.com/github/DanielMGuedes/Ling_R_Introduc_EVg/blob/main/Linguagen_R_Tratamento_de_Dados.ipynb\" target=\"_parent\"><img src=\"https://colab.research.google.com/assets/colab-badge.svg\" alt=\"Open In Colab\"/></a>"
      ]
    },
    {
      "cell_type": "markdown",
      "metadata": {
        "id": "KVWF1WsxAv1o"
      },
      "source": [
        "# **Análise de Dados em Linguagem R**\n",
        "A análise de dados tem grande importância na tomada de decisões, auxiliando instituições na detecção de anomalias, monitoramento de indicadores ou melhoria de processos. Neste Mini-curso, aprenda a utilizar a linguagem R na preparação e exploração dos dados, apresentando os resultados por meio de gráficos e painéis gerenciais."
      ]
    },
    {
      "cell_type": "markdown",
      "metadata": {
        "id": "4aSwRxhUey1r"
      },
      "source": [
        "# **Criando o primeiro Script em R** *2.1*\n",
        "\n",
        "\n",
        "*   Criar uma variavel\n",
        "* Conhecer o comando \"<-\" = recebe(serve para atribuir valores a uma variavel\n",
        "*   utilizar o comando \"print()\"\n",
        "\n",
        "\n",
        "\n",
        "vamos criar uma variavel \"msg\" e atribuir uma mensagem \"Hello Word\""
      ]
    },
    {
      "cell_type": "code",
      "metadata": {
        "id": "MnpzzbSaeTYZ"
      },
      "source": [
        "msg <- \"Heloo word\""
      ],
      "execution_count": 1,
      "outputs": []
    },
    {
      "cell_type": "markdown",
      "metadata": {
        "id": "CJPAEs6XfNJs"
      },
      "source": [
        "para mostra na tela o valor armazenado na variavel basta  digitar o comando>\n",
        "\n",
        "print(msg)"
      ]
    },
    {
      "cell_type": "code",
      "metadata": {
        "id": "2V_P8EFLfGjo",
        "outputId": "96fc2e1a-af17-4d6d-f1ec-c10b362bf135",
        "colab": {
          "base_uri": "https://localhost:8080/"
        }
      },
      "source": [
        "print (msg)"
      ],
      "execution_count": 2,
      "outputs": [
        {
          "output_type": "stream",
          "text": [
            "[1] \"Heloo word\"\n"
          ],
          "name": "stdout"
        }
      ]
    },
    {
      "cell_type": "markdown",
      "metadata": {
        "id": "difYBWj2fLFw"
      },
      "source": [
        "# Comentar seu Código (Documentação) *2.2*\n",
        "\n",
        "* Aprender a comentar o código utilizando \"#\"\n",
        "\n",
        "> Vamos criar comentários em nosso código\n",
        "\n",
        "Obs.: Uma boa prática no desenvolvimento de aplicações e códigos, é utilizar de comentários ao longo do cógigo para facilitar a identificação e objetivos daquele código. Chamamos isso de \"Documentação do Programa\"\n"
      ]
    },
    {
      "cell_type": "code",
      "metadata": {
        "id": "Z7e_oi8Nh8lq",
        "outputId": "c0eb9112-a9c9-437e-8536-7e61eaaac061",
        "colab": {
          "base_uri": "https://localhost:8080/"
        }
      },
      "source": [
        "msg <- \"Heloo word\"\n",
        "print (msg)\n",
        "# Isso é um comentário"
      ],
      "execution_count": 3,
      "outputs": [
        {
          "output_type": "stream",
          "text": [
            "[1] \"Heloo word\"\n"
          ],
          "name": "stdout"
        }
      ]
    },
    {
      "cell_type": "markdown",
      "metadata": {
        "id": "iAHSif86isTz"
      },
      "source": [
        "observe que a saída após a execução do código, não mostra a mensagem antes de \"#\" \n"
      ]
    },
    {
      "cell_type": "markdown",
      "metadata": {
        "id": "_-pgai96jCJV"
      },
      "source": [
        "#Documentação da Função *2.3*\n",
        "\n",
        "Toda vez que tiver dúvida sobre um parametro ou função que será utilizada é possível consultar a documentação através do comando \"?\" na frente da função que se tem dúvida.\n",
        "Ex.:\n"
      ]
    },
    {
      "cell_type": "code",
      "metadata": {
        "id": "nya-pildi2PZ"
      },
      "source": [
        "?print"
      ],
      "execution_count": 4,
      "outputs": []
    },
    {
      "cell_type": "markdown",
      "metadata": {
        "id": "A5GsB0uDjrk7"
      },
      "source": [
        "O Programa tráz como saída a documentação da função \"print\".\n",
        "\n"
      ]
    },
    {
      "cell_type": "markdown",
      "metadata": {
        "id": "hEEZ4IFpthFp"
      },
      "source": [
        "# Instalando Pacotes *2.4*\n",
        "Uma das grandes vantagens do R são diversos pacotes disponíveis. \n",
        "Para usarmos as funções que um pacote oferece, primeiro é necessário instalar o pacote desejado por meio da função “install.packages()” e depois carregá-lo utilizando a função “library()”.\n",
        "Exemplo:\n"
      ]
    },
    {
      "cell_type": "code",
      "metadata": {
        "id": "ztZnDy2-tv4P",
        "outputId": "1d5b4102-13fa-4e2f-c1d9-0fbe00b64fa2",
        "colab": {
          "base_uri": "https://localhost:8080/"
        }
      },
      "source": [
        "install.packages (\"ggplot2\")"
      ],
      "execution_count": 5,
      "outputs": [
        {
          "output_type": "stream",
          "text": [
            "Installing package into ‘/usr/local/lib/R/site-library’\n",
            "(as ‘lib’ is unspecified)\n",
            "\n"
          ],
          "name": "stderr"
        }
      ]
    },
    {
      "cell_type": "code",
      "metadata": {
        "id": "eQfIia8JkvM3"
      },
      "source": [
        "library(ggplot2)"
      ],
      "execution_count": 6,
      "outputs": []
    },
    {
      "cell_type": "markdown",
      "metadata": {
        "id": "_KTXvxjivwL0"
      },
      "source": [
        "Após essa instalação e carregamento. Já podemos utilizar as funções do Pacote GGPLOT2"
      ]
    },
    {
      "cell_type": "code",
      "metadata": {
        "id": "Yo8u3nkFv8LQ"
      },
      "source": [
        ""
      ],
      "execution_count": 7,
      "outputs": []
    },
    {
      "cell_type": "markdown",
      "metadata": {
        "id": "wkNRhK0Vv-7R"
      },
      "source": [
        "# Estrutura de dados *2.5*\n",
        "\n",
        "Na linguagem R temos diversas estruturas que permitem armazenar os dados produzidos. Nesse tópico, vamos conhecer essas estruturas e suas principais funções.\n",
        "\n",
        "**Vetor**\n",
        "Armazena um conjunto de valores ordenados chamados de elementos. Todos os elementos de um vetor devem ser do mesmo tipo.\n",
        "\n",
        "**Fator**\n",
        "Armazena valores categóricos (nominal ou ordinal).\n",
        "\n",
        "**Lista**\n",
        "É um tipo especial de vetor, porém é possível adicionar elementos de tipos diferentes.\n",
        "\n",
        "**Data frame**\n",
        "É utilizado para organizar elementos em linhas e colunas, semelhante a uma planilha ou base de dados. Além disso, pode ser formado por listas ou vetores.\n",
        "\n",
        "**Matriz**\n",
        "Armazena dados tabulares semelhante ao data frame, porém só aceita um tipo de dado."
      ]
    },
    {
      "cell_type": "markdown",
      "metadata": {
        "id": "c6Fl4iDU0LBF"
      },
      "source": [
        "## Vetores"
      ]
    },
    {
      "cell_type": "code",
      "metadata": {
        "id": "BGrealU4j1W6",
        "outputId": "dab8f682-4689-4590-a083-c596a4de339f",
        "colab": {
          "base_uri": "https://localhost:8080/",
          "height": 34
        }
      },
      "source": [
        "#Vamos criar o vetor cidade com a função: \"c()\" - Obs.: A virgula separa cada elemento do vetor. Como estamos digitando strin(texto, precisamos fazer isso entre aspas)\n",
        "cidade <- c(\"Brasília\", \"São Paulo\", \"Rio de Janeiro\", \"Porto Alegre\")\n",
        "\n",
        "cidade\n"
      ],
      "execution_count": 8,
      "outputs": [
        {
          "output_type": "display_data",
          "data": {
            "text/plain": [
              "[1] \"Brasília\"       \"São Paulo\"      \"Rio de Janeiro\" \"Porto Alegre\"  "
            ],
            "text/latex": "\\begin{enumerate*}\n\\item 'Brasília'\n\\item 'São Paulo'\n\\item 'Rio de Janeiro'\n\\item 'Porto Alegre'\n\\end{enumerate*}\n",
            "text/markdown": "1. 'Brasília'\n2. 'São Paulo'\n3. 'Rio de Janeiro'\n4. 'Porto Alegre'\n\n\n",
            "text/html": [
              "<style>\n",
              ".list-inline {list-style: none; margin:0; padding: 0}\n",
              ".list-inline>li {display: inline-block}\n",
              ".list-inline>li:not(:last-child)::after {content: \"\\00b7\"; padding: 0 .5ex}\n",
              "</style>\n",
              "<ol class=list-inline><li>'Brasília'</li><li>'São Paulo'</li><li>'Rio de Janeiro'</li><li>'Porto Alegre'</li></ol>\n"
            ]
          },
          "metadata": {
            "tags": []
          }
        }
      ]
    },
    {
      "cell_type": "code",
      "metadata": {
        "id": "uaoPDiMHyjOC"
      },
      "source": [
        "#Agora vamos criar outros vetores  \"temperatura e regiao\" com a função \"c() \"\n",
        "\n",
        "temperatura <- c(32,22,35,17)\n",
        "regiao <- c(1,2,2,3)\n"
      ],
      "execution_count": 9,
      "outputs": []
    },
    {
      "cell_type": "markdown",
      "metadata": {
        "id": "hIUcreOI0CeC"
      },
      "source": [
        "### Operações com Vetores"
      ]
    },
    {
      "cell_type": "code",
      "metadata": {
        "id": "ejoljAECzjNk",
        "outputId": "a54565e1-08b7-4015-c128-424cf5c157a4",
        "colab": {
          "base_uri": "https://localhost:8080/",
          "height": 34
        }
      },
      "source": [
        "# Acessando o primeiro elemento de um vetor ...\n",
        "#Comando: NomeVetor[posição]\n",
        "\n",
        "cidade[1]\n",
        "\n",
        "#Obs1.: As informações dos vetores sempre vão utilizar []\n",
        "#Obs2.: Diferente das Outras Linguagens de Programação em \"R\" a contagem de elementos na mémoria começa em 1.\n"
      ],
      "execution_count": 10,
      "outputs": [
        {
          "output_type": "display_data",
          "data": {
            "text/plain": [
              "[1] \"Brasília\""
            ],
            "text/latex": "'Brasília'",
            "text/markdown": "'Brasília'",
            "text/html": [
              "'Brasília'"
            ]
          },
          "metadata": {
            "tags": []
          }
        }
      ]
    },
    {
      "cell_type": "code",
      "metadata": {
        "id": "bKR4yH6bC0Fg",
        "outputId": "8b1b6243-1628-47a4-d5f9-596def5690a6",
        "colab": {
          "base_uri": "https://localhost:8080/",
          "height": 34
        }
      },
      "source": [
        "# Acessar um intervalo de valores denro do vetor:\n",
        "# Comando: NomeVetor [x1:x2] (x1 = inicio e x2 = fim)\n",
        "temperatura[1:3]"
      ],
      "execution_count": 11,
      "outputs": [
        {
          "output_type": "display_data",
          "data": {
            "text/plain": [
              "[1] 32 22 35"
            ],
            "text/latex": "\\begin{enumerate*}\n\\item 32\n\\item 22\n\\item 35\n\\end{enumerate*}\n",
            "text/markdown": "1. 32\n2. 22\n3. 35\n\n\n",
            "text/html": [
              "<style>\n",
              ".list-inline {list-style: none; margin:0; padding: 0}\n",
              ".list-inline>li {display: inline-block}\n",
              ".list-inline>li:not(:last-child)::after {content: \"\\00b7\"; padding: 0 .5ex}\n",
              "</style>\n",
              "<ol class=list-inline><li>32</li><li>22</li><li>35</li></ol>\n"
            ]
          },
          "metadata": {
            "tags": []
          }
        }
      ]
    },
    {
      "cell_type": "code",
      "metadata": {
        "id": "7U1YzFEgECEn",
        "outputId": "dc3d897e-06da-4b0a-d7b0-5ea9080336bd",
        "colab": {
          "base_uri": "https://localhost:8080/",
          "height": 34
        }
      },
      "source": [
        "# Copiar um vetor, Para copiar um vetor é necessário ter uma outra variavél que vai receber o vetor\n",
        "# por exemplo vamos declarar a nova variavél \"cidade2\" e depois atribuir o vetor cidade nessa variavel. \n",
        "# Comando: NovaVariavel <- NomeVetor\n",
        "cidade2 <- cidade\n",
        "cidade2"
      ],
      "execution_count": 12,
      "outputs": [
        {
          "output_type": "display_data",
          "data": {
            "text/plain": [
              "[1] \"Brasília\"       \"São Paulo\"      \"Rio de Janeiro\" \"Porto Alegre\"  "
            ],
            "text/latex": "\\begin{enumerate*}\n\\item 'Brasília'\n\\item 'São Paulo'\n\\item 'Rio de Janeiro'\n\\item 'Porto Alegre'\n\\end{enumerate*}\n",
            "text/markdown": "1. 'Brasília'\n2. 'São Paulo'\n3. 'Rio de Janeiro'\n4. 'Porto Alegre'\n\n\n",
            "text/html": [
              "<style>\n",
              ".list-inline {list-style: none; margin:0; padding: 0}\n",
              ".list-inline>li {display: inline-block}\n",
              ".list-inline>li:not(:last-child)::after {content: \"\\00b7\"; padding: 0 .5ex}\n",
              "</style>\n",
              "<ol class=list-inline><li>'Brasília'</li><li>'São Paulo'</li><li>'Rio de Janeiro'</li><li>'Porto Alegre'</li></ol>\n"
            ]
          },
          "metadata": {
            "tags": []
          }
        }
      ]
    },
    {
      "cell_type": "code",
      "metadata": {
        "id": "SGBM3qDqFChg",
        "outputId": "0eaf758b-05ff-409f-e5a1-fd6aee2f793d",
        "colab": {
          "base_uri": "https://localhost:8080/",
          "height": 34
        }
      },
      "source": [
        "#Excluir um elemento do VETOR.\n",
        "# para excluir um elemento utilizamos o sinal de - (menos)\n",
        "#Comando: NomeVetor[-posição]\n",
        "temperatura[-2]\n",
        "# Retotnou o vetor temperatura, sem o elemento que estava na posição 2 = 22"
      ],
      "execution_count": 13,
      "outputs": [
        {
          "output_type": "display_data",
          "data": {
            "text/plain": [
              "[1] 32 35 17"
            ],
            "text/latex": "\\begin{enumerate*}\n\\item 32\n\\item 35\n\\item 17\n\\end{enumerate*}\n",
            "text/markdown": "1. 32\n2. 35\n3. 17\n\n\n",
            "text/html": [
              "<style>\n",
              ".list-inline {list-style: none; margin:0; padding: 0}\n",
              ".list-inline>li {display: inline-block}\n",
              ".list-inline>li:not(:last-child)::after {content: \"\\00b7\"; padding: 0 .5ex}\n",
              "</style>\n",
              "<ol class=list-inline><li>32</li><li>35</li><li>17</li></ol>\n"
            ]
          },
          "metadata": {
            "tags": []
          }
        }
      ]
    },
    {
      "cell_type": "code",
      "metadata": {
        "id": "9qQxJqOPGN5_",
        "outputId": "4b1d1053-8dad-403c-c3ee-84fddd74ad98",
        "colab": {
          "base_uri": "https://localhost:8080/",
          "height": 34
        }
      },
      "source": [
        "# Alterar/Substituir um elemento do Vetor.\n",
        "# é necessário declarar o Vetor com a posição que será alterada.\n",
        "# Comando: NomeVetor[posição <- \"Alteração\"]\n",
        "\n",
        "cidade2[3] <- \"Belo Horizonte\"\n",
        "cidade2\n",
        "\n",
        "# A posição 3 do Vetor cidade2 foi alterada de \"Rio de Janeiro\" para \"Belo Horizonte\""
      ],
      "execution_count": 14,
      "outputs": [
        {
          "output_type": "display_data",
          "data": {
            "text/plain": [
              "[1] \"Brasília\"       \"São Paulo\"      \"Belo Horizonte\" \"Porto Alegre\"  "
            ],
            "text/latex": "\\begin{enumerate*}\n\\item 'Brasília'\n\\item 'São Paulo'\n\\item 'Belo Horizonte'\n\\item 'Porto Alegre'\n\\end{enumerate*}\n",
            "text/markdown": "1. 'Brasília'\n2. 'São Paulo'\n3. 'Belo Horizonte'\n4. 'Porto Alegre'\n\n\n",
            "text/html": [
              "<style>\n",
              ".list-inline {list-style: none; margin:0; padding: 0}\n",
              ".list-inline>li {display: inline-block}\n",
              ".list-inline>li:not(:last-child)::after {content: \"\\00b7\"; padding: 0 .5ex}\n",
              "</style>\n",
              "<ol class=list-inline><li>'Brasília'</li><li>'São Paulo'</li><li>'Belo Horizonte'</li><li>'Porto Alegre'</li></ol>\n"
            ]
          },
          "metadata": {
            "tags": []
          }
        }
      ]
    },
    {
      "cell_type": "code",
      "metadata": {
        "id": "RoqX1lKPHi9f",
        "outputId": "948dd7d9-14aa-448b-b23e-5c30f6a2f2c8",
        "colab": {
          "base_uri": "https://localhost:8080/",
          "height": 34
        }
      },
      "source": [
        "# Incluir um novo elemento.\n",
        "#Comando: NomeVetor[NovaPosiçao] <- \"NovoElemento\"\n",
        "\n",
        "cidade2[5] <- \"Curitiba\"\n",
        "cidade2\n",
        "# A SAída mostra que o Vetor agora possui 5 elementos"
      ],
      "execution_count": 15,
      "outputs": [
        {
          "output_type": "display_data",
          "data": {
            "text/plain": [
              "[1] \"Brasília\"       \"São Paulo\"      \"Belo Horizonte\" \"Porto Alegre\"  \n",
              "[5] \"Curitiba\"      "
            ],
            "text/latex": "\\begin{enumerate*}\n\\item 'Brasília'\n\\item 'São Paulo'\n\\item 'Belo Horizonte'\n\\item 'Porto Alegre'\n\\item 'Curitiba'\n\\end{enumerate*}\n",
            "text/markdown": "1. 'Brasília'\n2. 'São Paulo'\n3. 'Belo Horizonte'\n4. 'Porto Alegre'\n5. 'Curitiba'\n\n\n",
            "text/html": [
              "<style>\n",
              ".list-inline {list-style: none; margin:0; padding: 0}\n",
              ".list-inline>li {display: inline-block}\n",
              ".list-inline>li:not(:last-child)::after {content: \"\\00b7\"; padding: 0 .5ex}\n",
              "</style>\n",
              "<ol class=list-inline><li>'Brasília'</li><li>'São Paulo'</li><li>'Belo Horizonte'</li><li>'Porto Alegre'</li><li>'Curitiba'</li></ol>\n"
            ]
          },
          "metadata": {
            "tags": []
          }
        }
      ]
    },
    {
      "cell_type": "code",
      "metadata": {
        "id": "jakMk2IwHjGm",
        "outputId": "f26cad4c-f642-48af-fb53-651a309bb196",
        "colab": {
          "base_uri": "https://localhost:8080/",
          "height": 34
        }
      },
      "source": [
        "# Deletar/Apagar o Vetor: (NULL)\n",
        "# Comando: NomVetor <- NULL\n",
        "\n",
        "cidade2 <- NULL\n",
        "cidade2"
      ],
      "execution_count": 16,
      "outputs": [
        {
          "output_type": "display_data",
          "data": {
            "text/plain": [
              "NULL"
            ]
          },
          "metadata": {
            "tags": []
          }
        }
      ]
    },
    {
      "cell_type": "markdown",
      "metadata": {
        "id": "O3RLmE2oHjPT"
      },
      "source": [
        "## **Fator**\n",
        "\n",
        "Fatores armazem variáveis categóricas (de categorias) e tipos enumerados.\n",
        "Para criar os fatos utilizamos a função \"factor()\""
      ]
    },
    {
      "cell_type": "code",
      "metadata": {
        "id": "8xnSmGutI-Of",
        "outputId": "88c9ccd0-542b-49ad-a64a-46b6863b3bc9",
        "colab": {
          "base_uri": "https://localhost:8080/",
          "height": 50
        }
      },
      "source": [
        "#Criar a variável \"UF\", com uma lista de unidades federativas\n",
        "?factor\n",
        "UF <- factor(c(\"DF\", \"SP\", \"RJ\", \"RS\"))\n",
        "UF\n",
        "# A SAída do comando foi demonstrar as categorias existentes chamadas \"Levels\""
      ],
      "execution_count": 17,
      "outputs": [
        {
          "output_type": "display_data",
          "data": {
            "text/plain": [
              "[1] DF SP RJ RS\n",
              "Levels: DF RJ RS SP"
            ],
            "text/latex": "\\begin{enumerate*}\n\\item DF\n\\item SP\n\\item RJ\n\\item RS\n\\end{enumerate*}\n\n\\emph{Levels}: \\begin{enumerate*}\n\\item 'DF'\n\\item 'RJ'\n\\item 'RS'\n\\item 'SP'\n\\end{enumerate*}\n",
            "text/markdown": "1. DF\n2. SP\n3. RJ\n4. RS\n\n\n\n**Levels**: 1. 'DF'\n2. 'RJ'\n3. 'RS'\n4. 'SP'\n\n\n",
            "text/html": [
              "<style>\n",
              ".list-inline {list-style: none; margin:0; padding: 0}\n",
              ".list-inline>li {display: inline-block}\n",
              ".list-inline>li:not(:last-child)::after {content: \"\\00b7\"; padding: 0 .5ex}\n",
              "</style>\n",
              "<ol class=list-inline><li>DF</li><li>SP</li><li>RJ</li><li>RS</li></ol>\n",
              "\n",
              "<details>\n",
              "\t<summary style=display:list-item;cursor:pointer>\n",
              "\t\t<strong>Levels</strong>:\n",
              "\t</summary>\n",
              "\t<style>\n",
              "\t.list-inline {list-style: none; margin:0; padding: 0}\n",
              "\t.list-inline>li {display: inline-block}\n",
              "\t.list-inline>li:not(:last-child)::after {content: \"\\00b7\"; padding: 0 .5ex}\n",
              "\t</style>\n",
              "\t<ol class=list-inline><li>'DF'</li><li>'RJ'</li><li>'RS'</li><li>'SP'</li></ol>\n",
              "</details>"
            ]
          },
          "metadata": {
            "tags": []
          }
        }
      ]
    },
    {
      "cell_type": "code",
      "metadata": {
        "id": "qEWDp1GgI98v"
      },
      "source": [
        "# A Funcionalidade \"fatores ordenados\" :\n",
        "#Parâmetros: \"leves\" e \"ordered\".\n",
        "\n",
        "grau.instrucao <- factor(c(\"Nível Médio\",\n",
        "                        \"Superior\",\n",
        "                        \"Nivel Médio\",\n",
        "                        \"Fundamental\"),\n",
        "                  levels = c(\"Fundamental\",\n",
        "                           \"Nível Médio\",\n",
        "                            \"Superior\"),\n",
        "                  ordered = TRUE)\n",
        "    "
      ],
      "execution_count": 18,
      "outputs": []
    },
    {
      "cell_type": "code",
      "metadata": {
        "id": "_V6TOraYaRZk",
        "outputId": "4144ce3f-e1ca-4ef8-fa22-cd4b33a6081c",
        "colab": {
          "base_uri": "https://localhost:8080/",
          "height": 50
        }
      },
      "source": [
        "grau.instrucao"
      ],
      "execution_count": 19,
      "outputs": [
        {
          "output_type": "display_data",
          "data": {
            "text/plain": [
              "[1] Nível Médio Superior    <NA>        Fundamental\n",
              "Levels: Fundamental < Nível Médio < Superior"
            ],
            "text/latex": "\\begin{enumerate*}\n\\item Nível Médio\n\\item Superior\n\\item <NA>\n\\item Fundamental\n\\end{enumerate*}\n\n\\emph{Levels}: \\begin{enumerate*}\n\\item 'Fundamental'\n\\item 'Nível Médio'\n\\item 'Superior'\n\\end{enumerate*}\n",
            "text/markdown": "1. Nível Médio\n2. Superior\n3. &lt;NA&gt;\n4. Fundamental\n\n\n\n**Levels**: 1. 'Fundamental'\n2. 'Nível Médio'\n3. 'Superior'\n\n\n",
            "text/html": [
              "<style>\n",
              ".list-inline {list-style: none; margin:0; padding: 0}\n",
              ".list-inline>li {display: inline-block}\n",
              ".list-inline>li:not(:last-child)::after {content: \"\\00b7\"; padding: 0 .5ex}\n",
              "</style>\n",
              "<ol class=list-inline><li>Nível Médio</li><li>Superior</li><li>&lt;NA&gt;</li><li>Fundamental</li></ol>\n",
              "\n",
              "<details>\n",
              "\t<summary style=display:list-item;cursor:pointer>\n",
              "\t\t<strong>Levels</strong>:\n",
              "\t</summary>\n",
              "\t<style>\n",
              "\t.list-inline {list-style: none; margin:0; padding: 0}\n",
              "\t.list-inline>li {display: inline-block}\n",
              "\t.list-inline>li:not(:last-child)::after {content: \"\\00b7\"; padding: 0 .5ex}\n",
              "\t</style>\n",
              "\t<ol class=list-inline><li>'Fundamental'</li><li>'Nível Médio'</li><li>'Superior'</li></ol>\n",
              "</details>"
            ]
          },
          "metadata": {
            "tags": []
          }
        }
      ]
    },
    {
      "cell_type": "markdown",
      "metadata": {
        "id": "OOqcPN43dYeJ"
      },
      "source": [
        "Ao visualizar o fator ordenado \"grau.instrucao\", que foi criado. É possível verificar a ordem atribuida:O Sinal de menor indica que \"Fundamental\", vem antes de \"Nível Médio\" que vem antes de \"Superior\"."
      ]
    },
    {
      "cell_type": "markdown",
      "metadata": {
        "id": "OS6wmXZveJeK"
      },
      "source": [
        "## **Lista**\n",
        "\n",
        "Vamos aprender a estrutura de uma lista. Para criar uma lista utilizamos: \"list()\""
      ]
    },
    {
      "cell_type": "code",
      "metadata": {
        "id": "zoeDW0-ieAo1",
        "outputId": "bec0a611-6aec-4b2f-b498-712430e6ffaa",
        "colab": {
          "base_uri": "https://localhost:8080/",
          "height": 146
        }
      },
      "source": [
        "?list()\n",
        "pessoa <- list(sexo = \"M\", cidade = \"Brasília\", idade = 20)\n",
        "\n",
        "pessoa"
      ],
      "execution_count": 20,
      "outputs": [
        {
          "output_type": "display_data",
          "data": {
            "text/plain": [
              "$sexo\n",
              "[1] \"M\"\n",
              "\n",
              "$cidade\n",
              "[1] \"Brasília\"\n",
              "\n",
              "$idade\n",
              "[1] 20\n"
            ],
            "text/latex": "\\begin{description}\n\\item[\\$sexo] 'M'\n\\item[\\$cidade] 'Brasília'\n\\item[\\$idade] 20\n\\end{description}\n",
            "text/markdown": "$sexo\n:   'M'\n$cidade\n:   'Brasília'\n$idade\n:   20\n\n\n",
            "text/html": [
              "<dl>\n",
              "\t<dt>$sexo</dt>\n",
              "\t\t<dd>'M'</dd>\n",
              "\t<dt>$cidade</dt>\n",
              "\t\t<dd>'Brasília'</dd>\n",
              "\t<dt>$idade</dt>\n",
              "\t\t<dd>20</dd>\n",
              "</dl>\n"
            ]
          },
          "metadata": {
            "tags": []
          }
        }
      ]
    },
    {
      "cell_type": "code",
      "metadata": {
        "id": "oZRaibtxe7tC",
        "outputId": "dc623222-425d-4236-ccfb-6389ba289d1d",
        "colab": {
          "base_uri": "https://localhost:8080/",
          "height": 50
        }
      },
      "source": [
        "#Para acessar um item da lista, utilizamo a notação \"Lista[posição]\", que ira retornar o valor da posição informada:\n",
        "# O 1º exemplo retorna o atributo e o valor da lista\n",
        "# O 2º exemplo retorna apenas o valor da lista\n",
        "pessoa[1] \n",
        "#Ou\n",
        "pessoa[[1]]"
      ],
      "execution_count": 21,
      "outputs": [
        {
          "output_type": "display_data",
          "data": {
            "text/plain": [
              "$sexo\n",
              "[1] \"M\"\n"
            ],
            "text/latex": "\\textbf{\\$sexo} = 'M'",
            "text/markdown": "**$sexo** = 'M'",
            "text/html": [
              "<strong>$sexo</strong> = 'M'"
            ]
          },
          "metadata": {
            "tags": []
          }
        },
        {
          "output_type": "display_data",
          "data": {
            "text/plain": [
              "[1] \"M\""
            ],
            "text/latex": "'M'",
            "text/markdown": "'M'",
            "text/html": [
              "'M'"
            ]
          },
          "metadata": {
            "tags": []
          }
        }
      ]
    },
    {
      "cell_type": "code",
      "metadata": {
        "id": "l2o4NM6Nfg9c",
        "outputId": "203a5d69-654c-4bb0-aa24-1cea4551d1ed",
        "colab": {
          "base_uri": "https://localhost:8080/",
          "height": 146
        }
      },
      "source": [
        "# Deletar/Apagar uma Lista: (NULL)\n",
        "# Comando: NomeLista <- NULL\n",
        "\n",
        "pessoa[[\"idade\"]] <- 22\n",
        "pessoa\n"
      ],
      "execution_count": 22,
      "outputs": [
        {
          "output_type": "display_data",
          "data": {
            "text/plain": [
              "$sexo\n",
              "[1] \"M\"\n",
              "\n",
              "$cidade\n",
              "[1] \"Brasília\"\n",
              "\n",
              "$idade\n",
              "[1] 22\n"
            ],
            "text/latex": "\\begin{description}\n\\item[\\$sexo] 'M'\n\\item[\\$cidade] 'Brasília'\n\\item[\\$idade] 22\n\\end{description}\n",
            "text/markdown": "$sexo\n:   'M'\n$cidade\n:   'Brasília'\n$idade\n:   22\n\n\n",
            "text/html": [
              "<dl>\n",
              "\t<dt>$sexo</dt>\n",
              "\t\t<dd>'M'</dd>\n",
              "\t<dt>$cidade</dt>\n",
              "\t\t<dd>'Brasília'</dd>\n",
              "\t<dt>$idade</dt>\n",
              "\t\t<dd>22</dd>\n",
              "</dl>\n"
            ]
          },
          "metadata": {
            "tags": []
          }
        }
      ]
    },
    {
      "cell_type": "code",
      "metadata": {
        "id": "JGTG_nXvgceT",
        "outputId": "d74f7ac4-d010-42ce-8601-79d40623507a",
        "colab": {
          "base_uri": "https://localhost:8080/",
          "height": 112
        }
      },
      "source": [
        "pessoa[[\"idade\"]] <- NULL\n",
        "pessoa"
      ],
      "execution_count": 23,
      "outputs": [
        {
          "output_type": "display_data",
          "data": {
            "text/plain": [
              "$sexo\n",
              "[1] \"M\"\n",
              "\n",
              "$cidade\n",
              "[1] \"Brasília\"\n"
            ],
            "text/latex": "\\begin{description}\n\\item[\\$sexo] 'M'\n\\item[\\$cidade] 'Brasília'\n\\end{description}\n",
            "text/markdown": "$sexo\n:   'M'\n$cidade\n:   'Brasília'\n\n\n",
            "text/html": [
              "<dl>\n",
              "\t<dt>$sexo</dt>\n",
              "\t\t<dd>'M'</dd>\n",
              "\t<dt>$cidade</dt>\n",
              "\t\t<dd>'Brasília'</dd>\n",
              "</dl>\n"
            ]
          },
          "metadata": {
            "tags": []
          }
        }
      ]
    },
    {
      "cell_type": "code",
      "metadata": {
        "id": "nMse03IjghaJ",
        "outputId": "67c704ff-54a5-4cb1-e9a0-d66d5b164065",
        "colab": {
          "base_uri": "https://localhost:8080/",
          "height": 112
        }
      },
      "source": [
        "# Filtrando elementos da lista\n",
        "# Neste caso o valor não é deletado da lista.\n",
        "pessoa[c(\"cidade\", \"sexo\")]"
      ],
      "execution_count": 24,
      "outputs": [
        {
          "output_type": "display_data",
          "data": {
            "text/plain": [
              "$cidade\n",
              "[1] \"Brasília\"\n",
              "\n",
              "$sexo\n",
              "[1] \"M\"\n"
            ],
            "text/latex": "\\begin{description}\n\\item[\\$cidade] 'Brasília'\n\\item[\\$sexo] 'M'\n\\end{description}\n",
            "text/markdown": "$cidade\n:   'Brasília'\n$sexo\n:   'M'\n\n\n",
            "text/html": [
              "<dl>\n",
              "\t<dt>$cidade</dt>\n",
              "\t\t<dd>'Brasília'</dd>\n",
              "\t<dt>$sexo</dt>\n",
              "\t\t<dd>'M'</dd>\n",
              "</dl>\n"
            ]
          },
          "metadata": {
            "tags": []
          }
        }
      ]
    },
    {
      "cell_type": "markdown",
      "metadata": {
        "id": "JdenYgg_jUAF"
      },
      "source": [
        "Uma lista aceita diferentes tipo de dados. No exemplo abaixo vamos criar uma lista com o vetores criados anteriormente.\n",
        "** Lista de Listas**\n"
      ]
    },
    {
      "cell_type": "code",
      "metadata": {
        "id": "mW55fm0vhXTk"
      },
      "source": [
        "# Lista de Listas\n",
        "cidades <- list(cidade = cidade,\n",
        "                  temperatura = temperatura,\n",
        "                  regiao = regiao)"
      ],
      "execution_count": 25,
      "outputs": []
    },
    {
      "cell_type": "markdown",
      "metadata": {
        "id": "GBjC4RNuke45"
      },
      "source": [
        ""
      ]
    },
    {
      "cell_type": "code",
      "metadata": {
        "id": "iP3Q6N9NhW0v",
        "outputId": "cd40e4a1-54ae-4e17-be70-964164b7b71f",
        "colab": {
          "base_uri": "https://localhost:8080/",
          "height": 146
        }
      },
      "source": [
        "cidades"
      ],
      "execution_count": 26,
      "outputs": [
        {
          "output_type": "display_data",
          "data": {
            "text/plain": [
              "$cidade\n",
              "[1] \"Brasília\"       \"São Paulo\"      \"Rio de Janeiro\" \"Porto Alegre\"  \n",
              "\n",
              "$temperatura\n",
              "[1] 32 22 35 17\n",
              "\n",
              "$regiao\n",
              "[1] 1 2 2 3\n"
            ],
            "text/latex": "\\begin{description}\n\\item[\\$cidade] \\begin{enumerate*}\n\\item 'Brasília'\n\\item 'São Paulo'\n\\item 'Rio de Janeiro'\n\\item 'Porto Alegre'\n\\end{enumerate*}\n\n\\item[\\$temperatura] \\begin{enumerate*}\n\\item 32\n\\item 22\n\\item 35\n\\item 17\n\\end{enumerate*}\n\n\\item[\\$regiao] \\begin{enumerate*}\n\\item 1\n\\item 2\n\\item 2\n\\item 3\n\\end{enumerate*}\n\n\\end{description}\n",
            "text/markdown": "$cidade\n:   1. 'Brasília'\n2. 'São Paulo'\n3. 'Rio de Janeiro'\n4. 'Porto Alegre'\n\n\n\n$temperatura\n:   1. 32\n2. 22\n3. 35\n4. 17\n\n\n\n$regiao\n:   1. 1\n2. 2\n3. 2\n4. 3\n\n\n\n\n\n",
            "text/html": [
              "<dl>\n",
              "\t<dt>$cidade</dt>\n",
              "\t\t<dd><style>\n",
              ".list-inline {list-style: none; margin:0; padding: 0}\n",
              ".list-inline>li {display: inline-block}\n",
              ".list-inline>li:not(:last-child)::after {content: \"\\00b7\"; padding: 0 .5ex}\n",
              "</style>\n",
              "<ol class=list-inline><li>'Brasília'</li><li>'São Paulo'</li><li>'Rio de Janeiro'</li><li>'Porto Alegre'</li></ol>\n",
              "</dd>\n",
              "\t<dt>$temperatura</dt>\n",
              "\t\t<dd><style>\n",
              ".list-inline {list-style: none; margin:0; padding: 0}\n",
              ".list-inline>li {display: inline-block}\n",
              ".list-inline>li:not(:last-child)::after {content: \"\\00b7\"; padding: 0 .5ex}\n",
              "</style>\n",
              "<ol class=list-inline><li>32</li><li>22</li><li>35</li><li>17</li></ol>\n",
              "</dd>\n",
              "\t<dt>$regiao</dt>\n",
              "\t\t<dd><style>\n",
              ".list-inline {list-style: none; margin:0; padding: 0}\n",
              ".list-inline>li {display: inline-block}\n",
              ".list-inline>li:not(:last-child)::after {content: \"\\00b7\"; padding: 0 .5ex}\n",
              "</style>\n",
              "<ol class=list-inline><li>1</li><li>2</li><li>2</li><li>3</li></ol>\n",
              "</dd>\n",
              "</dl>\n"
            ]
          },
          "metadata": {
            "tags": []
          }
        }
      ]
    },
    {
      "cell_type": "markdown",
      "metadata": {
        "id": "zi83g9CnknIJ"
      },
      "source": [
        "## **data.frame**\n",
        "\n",
        "**Vamos aprender a criar data.frame**\n",
        "\n",
        "Um data.frame é uma estrutura que organiza elementos semelhantes a uma planilha ou base de dados."
      ]
    },
    {
      "cell_type": "code",
      "metadata": {
        "id": "1XXVh4sXojj7",
        "outputId": "e31199fe-4f61-4e61-90e5-4327167c9cc6",
        "colab": {
          "base_uri": "https://localhost:8080/",
          "height": 155
        }
      },
      "source": [
        "# Neste exemplo criamos um data.frame com os VETORES \"cidade\" e \"temperatura\"\n",
        "df <-data.frame(cidade, temperatura)\n",
        "df"
      ],
      "execution_count": 27,
      "outputs": [
        {
          "output_type": "display_data",
          "data": {
            "text/plain": [
              "  cidade         temperatura\n",
              "1 Brasília       32         \n",
              "2 São Paulo      22         \n",
              "3 Rio de Janeiro 35         \n",
              "4 Porto Alegre   17         "
            ],
            "text/latex": "A data.frame: 4 × 2\n\\begin{tabular}{ll}\n cidade & temperatura\\\\\n <chr> & <dbl>\\\\\n\\hline\n\t Brasília       & 32\\\\\n\t São Paulo      & 22\\\\\n\t Rio de Janeiro & 35\\\\\n\t Porto Alegre   & 17\\\\\n\\end{tabular}\n",
            "text/markdown": "\nA data.frame: 4 × 2\n\n| cidade &lt;chr&gt; | temperatura &lt;dbl&gt; |\n|---|---|\n| Brasília       | 32 |\n| São Paulo      | 22 |\n| Rio de Janeiro | 35 |\n| Porto Alegre   | 17 |\n\n",
            "text/html": [
              "<table>\n",
              "<caption>A data.frame: 4 × 2</caption>\n",
              "<thead>\n",
              "\t<tr><th scope=col>cidade</th><th scope=col>temperatura</th></tr>\n",
              "\t<tr><th scope=col>&lt;chr&gt;</th><th scope=col>&lt;dbl&gt;</th></tr>\n",
              "</thead>\n",
              "<tbody>\n",
              "\t<tr><td>Brasília      </td><td>32</td></tr>\n",
              "\t<tr><td>São Paulo     </td><td>22</td></tr>\n",
              "\t<tr><td>Rio de Janeiro</td><td>35</td></tr>\n",
              "\t<tr><td>Porto Alegre  </td><td>17</td></tr>\n",
              "</tbody>\n",
              "</table>\n"
            ]
          },
          "metadata": {
            "tags": []
          }
        }
      ]
    },
    {
      "cell_type": "code",
      "metadata": {
        "id": "cY65hm4Xk5E6",
        "outputId": "28d4f041-af69-425c-c86f-89a9b63429b5",
        "colab": {
          "base_uri": "https://localhost:8080/",
          "height": 155
        }
      },
      "source": [
        "#Criando um data.frame com a LISTA cidades2\n",
        "df2 <- data.frame(cidades)\n",
        "df2"
      ],
      "execution_count": 28,
      "outputs": [
        {
          "output_type": "display_data",
          "data": {
            "text/plain": [
              "  cidade         temperatura regiao\n",
              "1 Brasília       32          1     \n",
              "2 São Paulo      22          2     \n",
              "3 Rio de Janeiro 35          2     \n",
              "4 Porto Alegre   17          3     "
            ],
            "text/latex": "A data.frame: 4 × 3\n\\begin{tabular}{lll}\n cidade & temperatura & regiao\\\\\n <chr> & <dbl> & <dbl>\\\\\n\\hline\n\t Brasília       & 32 & 1\\\\\n\t São Paulo      & 22 & 2\\\\\n\t Rio de Janeiro & 35 & 2\\\\\n\t Porto Alegre   & 17 & 3\\\\\n\\end{tabular}\n",
            "text/markdown": "\nA data.frame: 4 × 3\n\n| cidade &lt;chr&gt; | temperatura &lt;dbl&gt; | regiao &lt;dbl&gt; |\n|---|---|---|\n| Brasília       | 32 | 1 |\n| São Paulo      | 22 | 2 |\n| Rio de Janeiro | 35 | 2 |\n| Porto Alegre   | 17 | 3 |\n\n",
            "text/html": [
              "<table>\n",
              "<caption>A data.frame: 4 × 3</caption>\n",
              "<thead>\n",
              "\t<tr><th scope=col>cidade</th><th scope=col>temperatura</th><th scope=col>regiao</th></tr>\n",
              "\t<tr><th scope=col>&lt;chr&gt;</th><th scope=col>&lt;dbl&gt;</th><th scope=col>&lt;dbl&gt;</th></tr>\n",
              "</thead>\n",
              "<tbody>\n",
              "\t<tr><td>Brasília      </td><td>32</td><td>1</td></tr>\n",
              "\t<tr><td>São Paulo     </td><td>22</td><td>2</td></tr>\n",
              "\t<tr><td>Rio de Janeiro</td><td>35</td><td>2</td></tr>\n",
              "\t<tr><td>Porto Alegre  </td><td>17</td><td>3</td></tr>\n",
              "</tbody>\n",
              "</table>\n"
            ]
          },
          "metadata": {
            "tags": []
          }
        }
      ]
    },
    {
      "cell_type": "markdown",
      "metadata": {
        "id": "kjFtaRjKoyp3"
      },
      "source": [
        "As saídas mostram o número de Linhas e numero de colunas, respectivamente(4 x 2) e (4 x 3)"
      ]
    },
    {
      "cell_type": "markdown",
      "metadata": {
        "id": "ArhyWZzOUvZm"
      },
      "source": [
        "### **Operações com data.frame**"
      ]
    },
    {
      "cell_type": "code",
      "metadata": {
        "id": "R9MH3YR0pAYE",
        "outputId": "87b2470a-e8d0-4c7e-c3ba-6084e9e761de",
        "colab": {
          "base_uri": "https://localhost:8080/",
          "height": 34
        }
      },
      "source": [
        "# Para filtrar uma informação digitamos o nome do data.frame e entre colchetes colocamos a Linha e a Coluna que desejamos\n",
        "# Comando: data.frame[Linha,Coluna]\n",
        "df[1,2]\n"
      ],
      "execution_count": 29,
      "outputs": [
        {
          "output_type": "display_data",
          "data": {
            "text/plain": [
              "[1] 32"
            ],
            "text/latex": "32",
            "text/markdown": "32",
            "text/html": [
              "32"
            ]
          },
          "metadata": {
            "tags": []
          }
        }
      ]
    },
    {
      "cell_type": "code",
      "metadata": {
        "id": "ZBWrNmzXVhfZ",
        "outputId": "c65eaab4-dd67-4dca-c89f-e5d1363a102d",
        "colab": {
          "base_uri": "https://localhost:8080/",
          "height": 34
        }
      },
      "source": [
        "# No exemplo como não colocamos a posição da Linha o filtro trouxe toda a Coluna 1 (posição 1)\n",
        "df[,1]"
      ],
      "execution_count": 30,
      "outputs": [
        {
          "output_type": "display_data",
          "data": {
            "text/plain": [
              "[1] \"Brasília\"       \"São Paulo\"      \"Rio de Janeiro\" \"Porto Alegre\"  "
            ],
            "text/latex": "\\begin{enumerate*}\n\\item 'Brasília'\n\\item 'São Paulo'\n\\item 'Rio de Janeiro'\n\\item 'Porto Alegre'\n\\end{enumerate*}\n",
            "text/markdown": "1. 'Brasília'\n2. 'São Paulo'\n3. 'Rio de Janeiro'\n4. 'Porto Alegre'\n\n\n",
            "text/html": [
              "<style>\n",
              ".list-inline {list-style: none; margin:0; padding: 0}\n",
              ".list-inline>li {display: inline-block}\n",
              ".list-inline>li:not(:last-child)::after {content: \"\\00b7\"; padding: 0 .5ex}\n",
              "</style>\n",
              "<ol class=list-inline><li>'Brasília'</li><li>'São Paulo'</li><li>'Rio de Janeiro'</li><li>'Porto Alegre'</li></ol>\n"
            ]
          },
          "metadata": {
            "tags": []
          }
        }
      ]
    },
    {
      "cell_type": "code",
      "metadata": {
        "id": "KZZj2B7yV4u5",
        "outputId": "30ef4482-3563-40a5-ef1f-ce67f58012fe",
        "colab": {
          "base_uri": "https://localhost:8080/",
          "height": 95
        }
      },
      "source": [
        "# Como não informamos a posição da coluna, apenas a Linha 1, o filtro trouxe TODA a linha 1\n",
        "df[1,]"
      ],
      "execution_count": 31,
      "outputs": [
        {
          "output_type": "display_data",
          "data": {
            "text/plain": [
              "  cidade   temperatura\n",
              "1 Brasília 32         "
            ],
            "text/latex": "A data.frame: 1 × 2\n\\begin{tabular}{r|ll}\n  & cidade & temperatura\\\\\n  & <chr> & <dbl>\\\\\n\\hline\n\t1 & Brasília & 32\\\\\n\\end{tabular}\n",
            "text/markdown": "\nA data.frame: 1 × 2\n\n| <!--/--> | cidade &lt;chr&gt; | temperatura &lt;dbl&gt; |\n|---|---|---|\n| 1 | Brasília | 32 |\n\n",
            "text/html": [
              "<table>\n",
              "<caption>A data.frame: 1 × 2</caption>\n",
              "<thead>\n",
              "\t<tr><th></th><th scope=col>cidade</th><th scope=col>temperatura</th></tr>\n",
              "\t<tr><th></th><th scope=col>&lt;chr&gt;</th><th scope=col>&lt;dbl&gt;</th></tr>\n",
              "</thead>\n",
              "<tbody>\n",
              "\t<tr><th scope=row>1</th><td>Brasília</td><td>32</td></tr>\n",
              "</tbody>\n",
              "</table>\n"
            ]
          },
          "metadata": {
            "tags": []
          }
        }
      ]
    },
    {
      "cell_type": "code",
      "metadata": {
        "id": "QXC4xhqsWP6D",
        "outputId": "ca0c5bd6-e0ed-4157-fba9-8e8f863535b5",
        "colab": {
          "base_uri": "https://localhost:8080/",
          "height": 135
        }
      },
      "source": [
        "# Selecionando as 3 primeiras linhas, da 1ª e 3ª coluna\n",
        "df2 [c(1:3), c(1,3)]"
      ],
      "execution_count": 32,
      "outputs": [
        {
          "output_type": "display_data",
          "data": {
            "text/plain": [
              "  cidade         regiao\n",
              "1 Brasília       1     \n",
              "2 São Paulo      2     \n",
              "3 Rio de Janeiro 2     "
            ],
            "text/latex": "A data.frame: 3 × 2\n\\begin{tabular}{r|ll}\n  & cidade & regiao\\\\\n  & <chr> & <dbl>\\\\\n\\hline\n\t1 & Brasília       & 1\\\\\n\t2 & São Paulo      & 2\\\\\n\t3 & Rio de Janeiro & 2\\\\\n\\end{tabular}\n",
            "text/markdown": "\nA data.frame: 3 × 2\n\n| <!--/--> | cidade &lt;chr&gt; | regiao &lt;dbl&gt; |\n|---|---|---|\n| 1 | Brasília       | 1 |\n| 2 | São Paulo      | 2 |\n| 3 | Rio de Janeiro | 2 |\n\n",
            "text/html": [
              "<table>\n",
              "<caption>A data.frame: 3 × 2</caption>\n",
              "<thead>\n",
              "\t<tr><th></th><th scope=col>cidade</th><th scope=col>regiao</th></tr>\n",
              "\t<tr><th></th><th scope=col>&lt;chr&gt;</th><th scope=col>&lt;dbl&gt;</th></tr>\n",
              "</thead>\n",
              "<tbody>\n",
              "\t<tr><th scope=row>1</th><td>Brasília      </td><td>1</td></tr>\n",
              "\t<tr><th scope=row>2</th><td>São Paulo     </td><td>2</td></tr>\n",
              "\t<tr><th scope=row>3</th><td>Rio de Janeiro</td><td>2</td></tr>\n",
              "</tbody>\n",
              "</table>\n"
            ]
          },
          "metadata": {
            "tags": []
          }
        }
      ]
    },
    {
      "cell_type": "code",
      "metadata": {
        "id": "gGkincy1WQGj",
        "outputId": "ef3fec5e-0227-4290-a589-a4dccad4b791",
        "colab": {
          "base_uri": "https://localhost:8080/",
          "height": 34
        }
      },
      "source": [
        "# Verificar o nome das Colunas:\n",
        "names(df)"
      ],
      "execution_count": 33,
      "outputs": [
        {
          "output_type": "display_data",
          "data": {
            "text/plain": [
              "[1] \"cidade\"      \"temperatura\""
            ],
            "text/latex": "\\begin{enumerate*}\n\\item 'cidade'\n\\item 'temperatura'\n\\end{enumerate*}\n",
            "text/markdown": "1. 'cidade'\n2. 'temperatura'\n\n\n",
            "text/html": [
              "<style>\n",
              ".list-inline {list-style: none; margin:0; padding: 0}\n",
              ".list-inline>li {display: inline-block}\n",
              ".list-inline>li:not(:last-child)::after {content: \"\\00b7\"; padding: 0 .5ex}\n",
              "</style>\n",
              "<ol class=list-inline><li>'cidade'</li><li>'temperatura'</li></ol>\n"
            ]
          },
          "metadata": {
            "tags": []
          }
        }
      ]
    },
    {
      "cell_type": "code",
      "metadata": {
        "id": "bUPWBUj2YVDv",
        "outputId": "9a55db78-93ab-44db-d9d7-081be3d5d27a",
        "colab": {
          "base_uri": "https://localhost:8080/",
          "height": 34
        }
      },
      "source": [
        "# Verificar o numero de Linhas e de Colunas:\n",
        "dim(df)\n",
        "# O resultado mostra que o data.frama possui 4 linhas e 2 colunas (4x2)"
      ],
      "execution_count": 34,
      "outputs": [
        {
          "output_type": "display_data",
          "data": {
            "text/plain": [
              "[1] 4 2"
            ],
            "text/latex": "\\begin{enumerate*}\n\\item 4\n\\item 2\n\\end{enumerate*}\n",
            "text/markdown": "1. 4\n2. 2\n\n\n",
            "text/html": [
              "<style>\n",
              ".list-inline {list-style: none; margin:0; padding: 0}\n",
              ".list-inline>li {display: inline-block}\n",
              ".list-inline>li:not(:last-child)::after {content: \"\\00b7\"; padding: 0 .5ex}\n",
              "</style>\n",
              "<ol class=list-inline><li>4</li><li>2</li></ol>\n"
            ]
          },
          "metadata": {
            "tags": []
          }
        }
      ]
    },
    {
      "cell_type": "code",
      "metadata": {
        "id": "DQNNbiTqYjo-",
        "outputId": "1a04b569-9e28-4735-f529-1d99f46c9e51",
        "colab": {
          "base_uri": "https://localhost:8080/"
        }
      },
      "source": [
        "#Ver os TIPOS dos dados das colunas:\n",
        "str(df)\n",
        "# A saida mostra que ac COluna Cidade é do tipo: \"chr\" e temperatura é do tipo \"num\""
      ],
      "execution_count": 35,
      "outputs": [
        {
          "output_type": "stream",
          "text": [
            "'data.frame':\t4 obs. of  2 variables:\n",
            " $ cidade     : chr  \"Brasília\" \"São Paulo\" \"Rio de Janeiro\" \"Porto Alegre\"\n",
            " $ temperatura: num  32 22 35 17\n"
          ],
          "name": "stdout"
        }
      ]
    },
    {
      "cell_type": "code",
      "metadata": {
        "id": "I_utOJ8NY-3D",
        "outputId": "3869ee3c-0ac1-42ae-e4dd-779e1dd0cc6e",
        "colab": {
          "base_uri": "https://localhost:8080/",
          "height": 34
        }
      },
      "source": [
        "# Para buscar os daods de uma coluna, existem duas formas básicas:\n",
        "# Comandos: \"data.frame$NomeColuna\" ou \" data.frame['NomeColuna']\"\n",
        "df$cidade\n",
        "#A saida da consulta é apenas os dados na COLUNA\n"
      ],
      "execution_count": 36,
      "outputs": [
        {
          "output_type": "display_data",
          "data": {
            "text/plain": [
              "[1] \"Brasília\"       \"São Paulo\"      \"Rio de Janeiro\" \"Porto Alegre\"  "
            ],
            "text/latex": "\\begin{enumerate*}\n\\item 'Brasília'\n\\item 'São Paulo'\n\\item 'Rio de Janeiro'\n\\item 'Porto Alegre'\n\\end{enumerate*}\n",
            "text/markdown": "1. 'Brasília'\n2. 'São Paulo'\n3. 'Rio de Janeiro'\n4. 'Porto Alegre'\n\n\n",
            "text/html": [
              "<style>\n",
              ".list-inline {list-style: none; margin:0; padding: 0}\n",
              ".list-inline>li {display: inline-block}\n",
              ".list-inline>li:not(:last-child)::after {content: \"\\00b7\"; padding: 0 .5ex}\n",
              "</style>\n",
              "<ol class=list-inline><li>'Brasília'</li><li>'São Paulo'</li><li>'Rio de Janeiro'</li><li>'Porto Alegre'</li></ol>\n"
            ]
          },
          "metadata": {
            "tags": []
          }
        }
      ]
    },
    {
      "cell_type": "code",
      "metadata": {
        "id": "O5xMOjSxZ1kj",
        "outputId": "905b86a3-4576-41cc-aeac-080366e858b1",
        "colab": {
          "base_uri": "https://localhost:8080/",
          "height": 172
        }
      },
      "source": [
        "df['cidade']\n",
        "# Aqui além dos dados da coluna vemos também outras informações do data.frama como:\n",
        "# dimensão, nome do dataframe e tipo da coluna."
      ],
      "execution_count": 37,
      "outputs": [
        {
          "output_type": "display_data",
          "data": {
            "text/plain": [
              "  cidade        \n",
              "1 Brasília      \n",
              "2 São Paulo     \n",
              "3 Rio de Janeiro\n",
              "4 Porto Alegre  "
            ],
            "text/latex": "A data.frame: 4 × 1\n\\begin{tabular}{l}\n cidade\\\\\n <chr>\\\\\n\\hline\n\t Brasília      \\\\\n\t São Paulo     \\\\\n\t Rio de Janeiro\\\\\n\t Porto Alegre  \\\\\n\\end{tabular}\n",
            "text/markdown": "\nA data.frame: 4 × 1\n\n| cidade &lt;chr&gt; |\n|---|\n| Brasília       |\n| São Paulo      |\n| Rio de Janeiro |\n| Porto Alegre   |\n\n",
            "text/html": [
              "<table>\n",
              "<caption>A data.frame: 4 × 1</caption>\n",
              "<thead>\n",
              "\t<tr><th scope=col>cidade</th></tr>\n",
              "\t<tr><th scope=col>&lt;chr&gt;</th></tr>\n",
              "</thead>\n",
              "<tbody>\n",
              "\t<tr><td>Brasília      </td></tr>\n",
              "\t<tr><td>São Paulo     </td></tr>\n",
              "\t<tr><td>Rio de Janeiro</td></tr>\n",
              "\t<tr><td>Porto Alegre  </td></tr>\n",
              "</tbody>\n",
              "</table>\n"
            ]
          },
          "metadata": {
            "tags": []
          }
        }
      ]
    },
    {
      "cell_type": "markdown",
      "metadata": {
        "id": "OnTrbxd-axqg"
      },
      "source": [
        "## **Matrizes**\n",
        "\n",
        "**Vamos aprender a criar matrizes**\n",
        "\n",
        "As matrizes também organizam elementos com em uma planilha ou base de dados. A diferença entre o DataFrame é que a matrix só aceita um tipo de dados."
      ]
    },
    {
      "cell_type": "code",
      "metadata": {
        "id": "eXZotmLXahBO",
        "outputId": "9119ed82-98bf-4fec-d305-70add7db0816",
        "colab": {
          "base_uri": "https://localhost:8080/",
          "height": 179
        }
      },
      "source": [
        "#Criando Matrizes: Comando: \"matrix()\"\n",
        "matrize <- matrix(seq(1:9), nrow = 3)\n",
        "matrize\n",
        "# A saida mostra: Uma Matrix, 3x3, com tipo \"int\"\n",
        "# Os dados da Matriz são a sequência de 1 ao 9 \"seq(1:9)\", distribuido em 3 linhas(nrow=3)"
      ],
      "execution_count": 38,
      "outputs": [
        {
          "output_type": "display_data",
          "data": {
            "text/plain": [
              "     [,1] [,2] [,3]\n",
              "[1,] 1    4    7   \n",
              "[2,] 2    5    8   \n",
              "[3,] 3    6    9   "
            ],
            "text/latex": "A matrix: 3 × 3 of type int\n\\begin{tabular}{lll}\n\t 1 & 4 & 7\\\\\n\t 2 & 5 & 8\\\\\n\t 3 & 6 & 9\\\\\n\\end{tabular}\n",
            "text/markdown": "\nA matrix: 3 × 3 of type int\n\n| 1 | 4 | 7 |\n| 2 | 5 | 8 |\n| 3 | 6 | 9 |\n\n",
            "text/html": [
              "<table>\n",
              "<caption>A matrix: 3 × 3 of type int</caption>\n",
              "<tbody>\n",
              "\t<tr><td>1</td><td>4</td><td>7</td></tr>\n",
              "\t<tr><td>2</td><td>5</td><td>8</td></tr>\n",
              "\t<tr><td>3</td><td>6</td><td>9</td></tr>\n",
              "</tbody>\n",
              "</table>\n"
            ]
          },
          "metadata": {
            "tags": []
          }
        }
      ]
    },
    {
      "cell_type": "code",
      "metadata": {
        "id": "Vwzlplmlb9Ew",
        "outputId": "1913ec4e-7af2-4a98-dc0c-2214f46a5c68",
        "colab": {
          "base_uri": "https://localhost:8080/",
          "height": 172
        }
      },
      "source": [
        "# vamos criar outra Matriz e especificar a quantidade de colunas EM 5 e dar nome as colunas\n",
        "# o parâmetro \"byrow = TRUE\" inidca que a matriz deverá ser preenchida por linhas\n",
        "# e o dimnames determina o nome das colunas\n",
        " matrize2 <- matrix(seq(1:25),\n",
        "                    ncol = 5,\n",
        "                    byrow = TRUE,\n",
        "                    dimnames = list(c(seq(1:5)),\n",
        "                                    c('A','B','C','D','E')\n",
        "                                    )\n",
        "                    )\n",
        "matrize2"
      ],
      "execution_count": 39,
      "outputs": [
        {
          "output_type": "display_data",
          "data": {
            "text/plain": [
              "  A  B  C  D  E \n",
              "1  1  2  3  4  5\n",
              "2  6  7  8  9 10\n",
              "3 11 12 13 14 15\n",
              "4 16 17 18 19 20\n",
              "5 21 22 23 24 25"
            ],
            "text/latex": "A matrix: 5 × 5 of type int\n\\begin{tabular}{r|lllll}\n  & A & B & C & D & E\\\\\n\\hline\n\t1 &  1 &  2 &  3 &  4 &  5\\\\\n\t2 &  6 &  7 &  8 &  9 & 10\\\\\n\t3 & 11 & 12 & 13 & 14 & 15\\\\\n\t4 & 16 & 17 & 18 & 19 & 20\\\\\n\t5 & 21 & 22 & 23 & 24 & 25\\\\\n\\end{tabular}\n",
            "text/markdown": "\nA matrix: 5 × 5 of type int\n\n| <!--/--> | A | B | C | D | E |\n|---|---|---|---|---|---|\n| 1 |  1 |  2 |  3 |  4 |  5 |\n| 2 |  6 |  7 |  8 |  9 | 10 |\n| 3 | 11 | 12 | 13 | 14 | 15 |\n| 4 | 16 | 17 | 18 | 19 | 20 |\n| 5 | 21 | 22 | 23 | 24 | 25 |\n\n",
            "text/html": [
              "<table>\n",
              "<caption>A matrix: 5 × 5 of type int</caption>\n",
              "<thead>\n",
              "\t<tr><th></th><th scope=col>A</th><th scope=col>B</th><th scope=col>C</th><th scope=col>D</th><th scope=col>E</th></tr>\n",
              "</thead>\n",
              "<tbody>\n",
              "\t<tr><th scope=row>1</th><td> 1</td><td> 2</td><td> 3</td><td> 4</td><td> 5</td></tr>\n",
              "\t<tr><th scope=row>2</th><td> 6</td><td> 7</td><td> 8</td><td> 9</td><td>10</td></tr>\n",
              "\t<tr><th scope=row>3</th><td>11</td><td>12</td><td>13</td><td>14</td><td>15</td></tr>\n",
              "\t<tr><th scope=row>4</th><td>16</td><td>17</td><td>18</td><td>19</td><td>20</td></tr>\n",
              "\t<tr><th scope=row>5</th><td>21</td><td>22</td><td>23</td><td>24</td><td>25</td></tr>\n",
              "</tbody>\n",
              "</table>\n"
            ]
          },
          "metadata": {
            "tags": []
          }
        }
      ]
    },
    {
      "cell_type": "markdown",
      "metadata": {
        "id": "dAXGIeVMd0Yl"
      },
      "source": [
        "### Filtrar os Dados da matrix\n",
        "Para filtrar os dados devemos informar a liha e as colunas entre colchetes"
      ]
    },
    {
      "cell_type": "code",
      "metadata": {
        "id": "kwZqRjRldIDA",
        "outputId": "3c3bd029-3e0b-40f7-c4c2-52a699412d43",
        "colab": {
          "base_uri": "https://localhost:8080/",
          "height": 162
        }
      },
      "source": [
        "#filtrando a matriz\n",
        "matrize2[c(1:2), c('B', 'C')]\n",
        "# O resultado traz os dados da coluna B e C nas linhas 1 e 2"
      ],
      "execution_count": 40,
      "outputs": [
        {
          "output_type": "display_data",
          "data": {
            "text/plain": [
              "  B C\n",
              "1 2 3\n",
              "2 7 8"
            ],
            "text/latex": "A matrix: 2 × 2 of type int\n\\begin{tabular}{r|ll}\n  & B & C\\\\\n\\hline\n\t1 & 2 & 3\\\\\n\t2 & 7 & 8\\\\\n\\end{tabular}\n",
            "text/markdown": "\nA matrix: 2 × 2 of type int\n\n| <!--/--> | B | C |\n|---|---|---|\n| 1 | 2 | 3 |\n| 2 | 7 | 8 |\n\n",
            "text/html": [
              "<table>\n",
              "<caption>A matrix: 2 × 2 of type int</caption>\n",
              "<thead>\n",
              "\t<tr><th></th><th scope=col>B</th><th scope=col>C</th></tr>\n",
              "</thead>\n",
              "<tbody>\n",
              "\t<tr><th scope=row>1</th><td>2</td><td>3</td></tr>\n",
              "\t<tr><th scope=row>2</th><td>7</td><td>8</td></tr>\n",
              "</tbody>\n",
              "</table>\n"
            ]
          },
          "metadata": {
            "tags": []
          }
        }
      ]
    },
    {
      "cell_type": "markdown",
      "metadata": {
        "id": "_vMdxI4Seh52"
      },
      "source": [
        "Essa são as funcionalidades básicas na linguagem R para armazenar estrututuras de dados desse estudo:\n",
        "* Matrizes\n",
        "* Data Frames\n",
        "* Listas\n",
        "* Fatores\n",
        "* Vetores"
      ]
    },
    {
      "cell_type": "code",
      "metadata": {
        "id": "1yOuL9KWe-Lz"
      },
      "source": [
        ""
      ],
      "execution_count": 41,
      "outputs": []
    }
  ]
}