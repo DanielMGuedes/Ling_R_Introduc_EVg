{
  "nbformat": 4,
  "nbformat_minor": 0,
  "metadata": {
    "colab": {
      "name": "Linguagen_R_Tratamento_de_Dados.ipynb",
      "provenance": [],
      "collapsed_sections": [
        "4k5IUNVyZZ3T",
        "KVWF1WsxAv1o",
        "4aSwRxhUey1r",
        "difYBWj2fLFw",
        "_-pgai96jCJV",
        "hEEZ4IFpthFp",
        "wkNRhK0Vv-7R",
        "c6Fl4iDU0LBF",
        "hIUcreOI0CeC",
        "O3RLmE2oHjPT",
        "OS6wmXZveJeK",
        "zi83g9CnknIJ",
        "ArhyWZzOUvZm",
        "OnTrbxd-axqg",
        "dAXGIeVMd0Yl",
        "J-0alAtxhCX3",
        "nwjYcBF2eAwU",
        "XIo9qhIah0LP",
        "8iBLifKDVji7",
        "pKgO8HdzlROT",
        "3KQoEVfX_kKM",
        "HcPiwChwaWY7",
        "GTtllOw3gEaR",
        "8RqIIBpWL7gh"
      ],
      "toc_visible": true,
      "authorship_tag": "ABX9TyPn5fnJ1w/CfXAnje6XUqe4",
      "include_colab_link": true
    },
    "kernelspec": {
      "name": "ir",
      "display_name": "R"
    }
  },
  "cells": [
    {
      "cell_type": "markdown",
      "metadata": {
        "id": "view-in-github",
        "colab_type": "text"
      },
      "source": [
        "<a href=\"https://colab.research.google.com/github/DanielMGuedes/Ling_R_Introduc_EVg/blob/main/Linguagen_R_Tratamento_de_Dados.ipynb\" target=\"_parent\"><img src=\"https://colab.research.google.com/assets/colab-badge.svg\" alt=\"Open In Colab\"/></a>"
      ]
    },
    {
      "cell_type": "markdown",
      "metadata": {
        "id": "4k5IUNVyZZ3T"
      },
      "source": [
        "# **1. Preparação do ambiente de análise de dados em R**\n",
        "\n",
        "## **1.1. Instalando o R**\n",
        "\n",
        "Primeiramente, vamos relembrar o conceito de linguagem R:\n",
        "\n",
        "A linguagem R é uma linguagem de programação usada para análise estatística e produção de gráficos. Trata-se de um software gratuito com código aberto e com uma linguagem acessível, o que facilita a sua usabilidade.\n",
        "\n",
        "Para podermos trabalhar com o R, é necessário fazer o download do programa no computador. Portanto, vamos abrir o navegador e, na barra de endereço, digitar o link: https://cran.r-project.org/. Em seguida, devemos escolher a versão de acordo com o sistema operacional utilizado e executar o arquivo de instalação. \n",
        "\n",
        "Após instalar o R em seu computador, é necessário instalar uma IDE (RStudio), para programar. \n",
        "\n",
        "##**1.2 Instalando o RStudio**\n",
        "\n",
        "Sobre o RStudio, é importante saber que ele é um software livre de ambiente de desenvolvimento integrado para R, uma linguagem de programação para gráficos e cálculos estatísticos. Pode-se afirmar ainda que o RStudio possui uma interface gráfica que simplifica o uso da linguagem R na manipulação de dados, na criação de gráficos e nos cálculos estatísticos. \n",
        "\n",
        "Depois dessa breve explicação, vamos aprender a instalar o programa RStudio. Para isso, vamos abrir o navegador e, na barra de endereço, digitar o link: https://rstudio.com/products/rstudio/download/#download. A página exibida apresentará uma lista com os principais navegadores. Em seguida, devemos escolher a versão compatível com o sistema operacional utilizado e executar o arquivo de instalação. \n",
        "\n",
        "##**1.3 Conhecendo o RStudio**\n",
        "\n",
        "Após a instalação do programa RStudio, para usá-lo efetivamente, é necessário conhecer a sua estrutura.\n",
        "\n",
        "O RStudio é dividido em quatro janelas ou quadrantes: “Source”, “Console”, “Environment” e “Visualização”.\n",
        "\n",
        "###Source\n",
        "* Parte superior à esquerda é o local onde o códdigo é digitado.\n",
        "\n",
        "###Console\n",
        "* Parte inferior a esquerda é onde é exibido o resultdo do que é executado no Source\n",
        "\n",
        "###Environment\n",
        "* Parte Superior a direita é exibido os objetos que estão carregados na memória. Também é utilizada para remover ou salvar objetos.\n",
        "\n",
        "###Visualização\n",
        "\n",
        "* Parte Inferior a direita é composta por 4 Abas:\n",
        "> **FILES**: Exibe a estrutura de arquivos do projeto /\n",
        "> **PLOTS**: Exibe os Gráfico. /\n",
        "> **PACKAGES**: Permite instalar, atualizar e pesquisar pacotes instalados. /\n",
        "> **Help**: Exibe a documentação quando a função\"help()\" é executada.\n",
        "\n",
        "## **1.4. colab.google \"R\"**\n",
        "Caso não queira instalar nada em seu computador você utilizar o ambiente de colaboração e desenvolvimento do goggle o Collaboratori ou mais conhecido como colab. A desvantagem são os recursos e facilidades que uma IDE trás a programação.\n",
        "Segue Link para novo notebook na linguagem R.\n",
        "\n",
        "https://colab.research.google.com/notebook#create=true&language=r"
      ]
    },
    {
      "cell_type": "markdown",
      "metadata": {
        "id": "KVWF1WsxAv1o"
      },
      "source": [
        "# **2. Análise de Dados em Linguagem R**\n",
        "A análise de dados tem grande importância na tomada de decisões, auxiliando instituições na detecção de anomalias, monitoramento de indicadores ou melhoria de processos. \n",
        "Neste tutorial, aprenda a utilizar a linguagem R na preparação e exploração dos dados, apresentando os resultados por meio de gráficos e painéis gerenciais."
      ]
    },
    {
      "cell_type": "markdown",
      "metadata": {
        "id": "4aSwRxhUey1r"
      },
      "source": [
        "#  2.1 - Criando o primeiro Script em R ** \n",
        "\n",
        "*   Criar uma variavel\n",
        "* Conhecer o comando \"<-\" = recebe(serve para atribuir valores a uma variavel\n",
        "*   utilizar o comando \"print()\"\n",
        "\n",
        "\n",
        "\n",
        "vamos criar uma variavel \"msg\" e atribuir uma mensagem \"Hello Word\""
      ]
    },
    {
      "cell_type": "code",
      "metadata": {
        "id": "MnpzzbSaeTYZ"
      },
      "source": [
        "msg <- \"Heloo word\""
      ],
      "execution_count": null,
      "outputs": []
    },
    {
      "cell_type": "markdown",
      "metadata": {
        "id": "CJPAEs6XfNJs"
      },
      "source": [
        "para mostra na tela o valor armazenado na variavel basta  digitar o comando>\n",
        "\n",
        "print(msg)"
      ]
    },
    {
      "cell_type": "code",
      "metadata": {
        "id": "2V_P8EFLfGjo",
        "colab": {
          "base_uri": "https://localhost:8080/"
        },
        "outputId": "3881194b-47f2-49ba-aaa8-ea6848dbc535"
      },
      "source": [
        "print (msg)"
      ],
      "execution_count": null,
      "outputs": [
        {
          "output_type": "stream",
          "text": [
            "[1] \"Heloo word\"\n"
          ],
          "name": "stdout"
        }
      ]
    },
    {
      "cell_type": "markdown",
      "metadata": {
        "id": "difYBWj2fLFw"
      },
      "source": [
        "# 2.2 - Comentar seu Código (Documentação) \n",
        "\n",
        "* Aprender a comentar o código utilizando \"#\"\n",
        "\n",
        "> Vamos criar comentários em nosso código\n",
        "\n",
        "Obs.: Uma boa prática no desenvolvimento de aplicações e códigos, é utilizar de comentários ao longo do cógigo para facilitar a identificação e objetivos daquele código. Chamamos isso de \"Documentação do Programa\"\n"
      ]
    },
    {
      "cell_type": "code",
      "metadata": {
        "id": "Z7e_oi8Nh8lq",
        "colab": {
          "base_uri": "https://localhost:8080/"
        },
        "outputId": "16d6ed9a-e36a-4f87-830e-9652e115a01c"
      },
      "source": [
        "msg <- \"Heloo word\"\n",
        "print (msg)\n",
        "# Isso é um comentário"
      ],
      "execution_count": null,
      "outputs": [
        {
          "output_type": "stream",
          "text": [
            "[1] \"Heloo word\"\n"
          ],
          "name": "stdout"
        }
      ]
    },
    {
      "cell_type": "markdown",
      "metadata": {
        "id": "iAHSif86isTz"
      },
      "source": [
        "observe que a saída após a execução do código, não mostra a mensagem antes de \"#\" \n"
      ]
    },
    {
      "cell_type": "markdown",
      "metadata": {
        "id": "_-pgai96jCJV"
      },
      "source": [
        "# 2.3 - Documentação da Função\n",
        "\n",
        "Toda vez que tiver dúvida sobre um parametro ou função que será utilizada é possível consultar a documentação através do comando \"?\" na frente da função que se tem dúvida.\n",
        "Ex.:\n"
      ]
    },
    {
      "cell_type": "code",
      "metadata": {
        "id": "nya-pildi2PZ"
      },
      "source": [
        "?print"
      ],
      "execution_count": null,
      "outputs": []
    },
    {
      "cell_type": "markdown",
      "metadata": {
        "id": "A5GsB0uDjrk7"
      },
      "source": [
        "O Programa tráz como saída a documentação da função \"print\".\n",
        "\n"
      ]
    },
    {
      "cell_type": "markdown",
      "metadata": {
        "id": "hEEZ4IFpthFp"
      },
      "source": [
        "# 2.4 - Instalando Pacotes\n",
        "Uma das grandes vantagens do R são diversos pacotes disponíveis. \n",
        "Para usarmos as funções que um pacote oferece, primeiro é necessário instalar o pacote desejado por meio da função “install.packages()” e depois carregá-lo utilizando a função “library()”.\n",
        "Exemplo:\n"
      ]
    },
    {
      "cell_type": "code",
      "metadata": {
        "id": "ztZnDy2-tv4P",
        "colab": {
          "base_uri": "https://localhost:8080/"
        },
        "outputId": "633ea815-48c5-4e98-e3ff-5264e467882b"
      },
      "source": [
        "install.packages (\"ggplot2\")"
      ],
      "execution_count": null,
      "outputs": [
        {
          "output_type": "stream",
          "text": [
            "Installing package into ‘/usr/local/lib/R/site-library’\n",
            "(as ‘lib’ is unspecified)\n",
            "\n"
          ],
          "name": "stderr"
        }
      ]
    },
    {
      "cell_type": "code",
      "metadata": {
        "id": "eQfIia8JkvM3"
      },
      "source": [
        "library(ggplot2)"
      ],
      "execution_count": null,
      "outputs": []
    },
    {
      "cell_type": "markdown",
      "metadata": {
        "id": "_KTXvxjivwL0"
      },
      "source": [
        "Após essa instalação e carregamento. Já podemos utilizar as funções do Pacote GGPLOT2"
      ]
    },
    {
      "cell_type": "code",
      "metadata": {
        "id": "Yo8u3nkFv8LQ"
      },
      "source": [
        ""
      ],
      "execution_count": null,
      "outputs": []
    },
    {
      "cell_type": "markdown",
      "metadata": {
        "id": "wkNRhK0Vv-7R"
      },
      "source": [
        "# 2.5 - Estruturas de Dados em R\n",
        "\n",
        "Na linguagem R temos diversas estruturas que permitem armazenar os dados produzidos. Nesse tópico, vamos conhecer essas estruturas e suas principais funções.\n",
        "\n",
        "**Vetor**\n",
        "Armazena um conjunto de valores ordenados chamados de elementos. Todos os elementos de um vetor devem ser do mesmo tipo.\n",
        "\n",
        "**Fator**\n",
        "Armazena valores categóricos (nominal ou ordinal).\n",
        "\n",
        "**Lista**\n",
        "É um tipo especial de vetor, porém é possível adicionar elementos de tipos diferentes.\n",
        "\n",
        "**Data frame**\n",
        "É utilizado para organizar elementos em linhas e colunas, semelhante a uma planilha ou base de dados. Além disso, pode ser formado por listas ou vetores.\n",
        "\n",
        "**Matriz**\n",
        "Armazena dados tabulares semelhante ao data frame, porém só aceita um tipo de dado."
      ]
    },
    {
      "cell_type": "markdown",
      "metadata": {
        "id": "c6Fl4iDU0LBF"
      },
      "source": [
        "## 2.5.1 - Vetores"
      ]
    },
    {
      "cell_type": "code",
      "metadata": {
        "id": "BGrealU4j1W6",
        "colab": {
          "base_uri": "https://localhost:8080/",
          "height": 34
        },
        "outputId": "b24f520d-f884-40c9-8cc2-c164e6aad311"
      },
      "source": [
        "#Vamos criar o vetor cidade com a função: \"c()\" - Obs.: A virgula separa cada elemento do vetor. Como estamos digitando strin(texto, precisamos fazer isso entre aspas)\n",
        "cidade <- c(\"Brasília\", \"São Paulo\", \"Rio de Janeiro\", \"Porto Alegre\")\n",
        "\n",
        "cidade\n"
      ],
      "execution_count": null,
      "outputs": [
        {
          "output_type": "display_data",
          "data": {
            "text/plain": [
              "[1] \"Brasília\"       \"São Paulo\"      \"Rio de Janeiro\" \"Porto Alegre\"  "
            ],
            "text/latex": "\\begin{enumerate*}\n\\item 'Brasília'\n\\item 'São Paulo'\n\\item 'Rio de Janeiro'\n\\item 'Porto Alegre'\n\\end{enumerate*}\n",
            "text/markdown": "1. 'Brasília'\n2. 'São Paulo'\n3. 'Rio de Janeiro'\n4. 'Porto Alegre'\n\n\n",
            "text/html": [
              "<style>\n",
              ".list-inline {list-style: none; margin:0; padding: 0}\n",
              ".list-inline>li {display: inline-block}\n",
              ".list-inline>li:not(:last-child)::after {content: \"\\00b7\"; padding: 0 .5ex}\n",
              "</style>\n",
              "<ol class=list-inline><li>'Brasília'</li><li>'São Paulo'</li><li>'Rio de Janeiro'</li><li>'Porto Alegre'</li></ol>\n"
            ]
          },
          "metadata": {
            "tags": []
          }
        }
      ]
    },
    {
      "cell_type": "code",
      "metadata": {
        "id": "uaoPDiMHyjOC"
      },
      "source": [
        "#Agora vamos criar outros vetores  \"temperatura e regiao\" com a função \"c() \"\n",
        "\n",
        "temperatura <- c(32,22,35,17)\n",
        "regiao <- c(1,2,2,3)\n"
      ],
      "execution_count": null,
      "outputs": []
    },
    {
      "cell_type": "markdown",
      "metadata": {
        "id": "hIUcreOI0CeC"
      },
      "source": [
        "### Operações com Vetores"
      ]
    },
    {
      "cell_type": "code",
      "metadata": {
        "id": "ejoljAECzjNk",
        "colab": {
          "base_uri": "https://localhost:8080/",
          "height": 34
        },
        "outputId": "ac5b23f1-a71b-465f-f3d8-3658d04e3518"
      },
      "source": [
        "# Acessando o primeiro elemento de um vetor ...\n",
        "#Comando: NomeVetor[posição]\n",
        "\n",
        "cidade[1]\n",
        "\n",
        "#Obs1.: As informações dos vetores sempre vão utilizar []\n",
        "#Obs2.: Diferente das Outras Linguagens de Programação em \"R\" a contagem de elementos na mémoria começa em 1.\n"
      ],
      "execution_count": null,
      "outputs": [
        {
          "output_type": "display_data",
          "data": {
            "text/plain": [
              "[1] \"Brasília\""
            ],
            "text/latex": "'Brasília'",
            "text/markdown": "'Brasília'",
            "text/html": [
              "'Brasília'"
            ]
          },
          "metadata": {
            "tags": []
          }
        }
      ]
    },
    {
      "cell_type": "code",
      "metadata": {
        "id": "bKR4yH6bC0Fg",
        "colab": {
          "base_uri": "https://localhost:8080/",
          "height": 34
        },
        "outputId": "fb5a8c03-44db-49d6-f47f-2305bd696296"
      },
      "source": [
        "# Acessar um intervalo de valores denro do vetor:\n",
        "# Comando: NomeVetor [x1:x2] (x1 = inicio e x2 = fim)\n",
        "temperatura[1:3]"
      ],
      "execution_count": null,
      "outputs": [
        {
          "output_type": "display_data",
          "data": {
            "text/plain": [
              "[1] 32 22 35"
            ],
            "text/latex": "\\begin{enumerate*}\n\\item 32\n\\item 22\n\\item 35\n\\end{enumerate*}\n",
            "text/markdown": "1. 32\n2. 22\n3. 35\n\n\n",
            "text/html": [
              "<style>\n",
              ".list-inline {list-style: none; margin:0; padding: 0}\n",
              ".list-inline>li {display: inline-block}\n",
              ".list-inline>li:not(:last-child)::after {content: \"\\00b7\"; padding: 0 .5ex}\n",
              "</style>\n",
              "<ol class=list-inline><li>32</li><li>22</li><li>35</li></ol>\n"
            ]
          },
          "metadata": {
            "tags": []
          }
        }
      ]
    },
    {
      "cell_type": "code",
      "metadata": {
        "id": "7U1YzFEgECEn",
        "colab": {
          "base_uri": "https://localhost:8080/",
          "height": 34
        },
        "outputId": "c37d0b9e-0d1a-48bd-9b99-65316c209c59"
      },
      "source": [
        "# Copiar um vetor, Para copiar um vetor é necessário ter uma outra variavél que vai receber o vetor\n",
        "# por exemplo vamos declarar a nova variavél \"cidade2\" e depois atribuir o vetor cidade nessa variavel. \n",
        "# Comando: NovaVariavel <- NomeVetor\n",
        "cidade2 <- cidade\n",
        "cidade2"
      ],
      "execution_count": null,
      "outputs": [
        {
          "output_type": "display_data",
          "data": {
            "text/plain": [
              "[1] \"Brasília\"       \"São Paulo\"      \"Rio de Janeiro\" \"Porto Alegre\"  "
            ],
            "text/latex": "\\begin{enumerate*}\n\\item 'Brasília'\n\\item 'São Paulo'\n\\item 'Rio de Janeiro'\n\\item 'Porto Alegre'\n\\end{enumerate*}\n",
            "text/markdown": "1. 'Brasília'\n2. 'São Paulo'\n3. 'Rio de Janeiro'\n4. 'Porto Alegre'\n\n\n",
            "text/html": [
              "<style>\n",
              ".list-inline {list-style: none; margin:0; padding: 0}\n",
              ".list-inline>li {display: inline-block}\n",
              ".list-inline>li:not(:last-child)::after {content: \"\\00b7\"; padding: 0 .5ex}\n",
              "</style>\n",
              "<ol class=list-inline><li>'Brasília'</li><li>'São Paulo'</li><li>'Rio de Janeiro'</li><li>'Porto Alegre'</li></ol>\n"
            ]
          },
          "metadata": {
            "tags": []
          }
        }
      ]
    },
    {
      "cell_type": "code",
      "metadata": {
        "id": "SGBM3qDqFChg",
        "colab": {
          "base_uri": "https://localhost:8080/",
          "height": 34
        },
        "outputId": "21efa6e5-d96d-421c-cdaa-097d58e26c36"
      },
      "source": [
        "#Excluir um elemento do VETOR.\n",
        "# para excluir um elemento utilizamos o sinal de - (menos)\n",
        "#Comando: NomeVetor[-posição]\n",
        "temperatura[-2]\n",
        "# Retotnou o vetor temperatura, sem o elemento que estava na posição 2 = 22"
      ],
      "execution_count": null,
      "outputs": [
        {
          "output_type": "display_data",
          "data": {
            "text/plain": [
              "[1] 32 35 17"
            ],
            "text/latex": "\\begin{enumerate*}\n\\item 32\n\\item 35\n\\item 17\n\\end{enumerate*}\n",
            "text/markdown": "1. 32\n2. 35\n3. 17\n\n\n",
            "text/html": [
              "<style>\n",
              ".list-inline {list-style: none; margin:0; padding: 0}\n",
              ".list-inline>li {display: inline-block}\n",
              ".list-inline>li:not(:last-child)::after {content: \"\\00b7\"; padding: 0 .5ex}\n",
              "</style>\n",
              "<ol class=list-inline><li>32</li><li>35</li><li>17</li></ol>\n"
            ]
          },
          "metadata": {
            "tags": []
          }
        }
      ]
    },
    {
      "cell_type": "code",
      "metadata": {
        "id": "9qQxJqOPGN5_",
        "colab": {
          "base_uri": "https://localhost:8080/",
          "height": 34
        },
        "outputId": "4dc2703e-eb4b-4978-fee3-0c328f7ac0df"
      },
      "source": [
        "# Alterar/Substituir um elemento do Vetor.\n",
        "# é necessário declarar o Vetor com a posição que será alterada.\n",
        "# Comando: NomeVetor[posição <- \"Alteração\"]\n",
        "\n",
        "cidade2[3] <- \"Belo Horizonte\"\n",
        "cidade2\n",
        "\n",
        "# A posição 3 do Vetor cidade2 foi alterada de \"Rio de Janeiro\" para \"Belo Horizonte\""
      ],
      "execution_count": null,
      "outputs": [
        {
          "output_type": "display_data",
          "data": {
            "text/plain": [
              "[1] \"Brasília\"       \"São Paulo\"      \"Belo Horizonte\" \"Porto Alegre\"  "
            ],
            "text/latex": "\\begin{enumerate*}\n\\item 'Brasília'\n\\item 'São Paulo'\n\\item 'Belo Horizonte'\n\\item 'Porto Alegre'\n\\end{enumerate*}\n",
            "text/markdown": "1. 'Brasília'\n2. 'São Paulo'\n3. 'Belo Horizonte'\n4. 'Porto Alegre'\n\n\n",
            "text/html": [
              "<style>\n",
              ".list-inline {list-style: none; margin:0; padding: 0}\n",
              ".list-inline>li {display: inline-block}\n",
              ".list-inline>li:not(:last-child)::after {content: \"\\00b7\"; padding: 0 .5ex}\n",
              "</style>\n",
              "<ol class=list-inline><li>'Brasília'</li><li>'São Paulo'</li><li>'Belo Horizonte'</li><li>'Porto Alegre'</li></ol>\n"
            ]
          },
          "metadata": {
            "tags": []
          }
        }
      ]
    },
    {
      "cell_type": "code",
      "metadata": {
        "id": "RoqX1lKPHi9f",
        "colab": {
          "base_uri": "https://localhost:8080/",
          "height": 34
        },
        "outputId": "b0225c08-0abb-42db-baf5-6e04e5c68485"
      },
      "source": [
        "# Incluir um novo elemento.\n",
        "#Comando: NomeVetor[NovaPosiçao] <- \"NovoElemento\"\n",
        "\n",
        "cidade2[5] <- \"Curitiba\"\n",
        "cidade2\n",
        "# A SAída mostra que o Vetor agora possui 5 elementos"
      ],
      "execution_count": null,
      "outputs": [
        {
          "output_type": "display_data",
          "data": {
            "text/plain": [
              "[1] \"Brasília\"       \"São Paulo\"      \"Belo Horizonte\" \"Porto Alegre\"  \n",
              "[5] \"Curitiba\"      "
            ],
            "text/latex": "\\begin{enumerate*}\n\\item 'Brasília'\n\\item 'São Paulo'\n\\item 'Belo Horizonte'\n\\item 'Porto Alegre'\n\\item 'Curitiba'\n\\end{enumerate*}\n",
            "text/markdown": "1. 'Brasília'\n2. 'São Paulo'\n3. 'Belo Horizonte'\n4. 'Porto Alegre'\n5. 'Curitiba'\n\n\n",
            "text/html": [
              "<style>\n",
              ".list-inline {list-style: none; margin:0; padding: 0}\n",
              ".list-inline>li {display: inline-block}\n",
              ".list-inline>li:not(:last-child)::after {content: \"\\00b7\"; padding: 0 .5ex}\n",
              "</style>\n",
              "<ol class=list-inline><li>'Brasília'</li><li>'São Paulo'</li><li>'Belo Horizonte'</li><li>'Porto Alegre'</li><li>'Curitiba'</li></ol>\n"
            ]
          },
          "metadata": {
            "tags": []
          }
        }
      ]
    },
    {
      "cell_type": "code",
      "metadata": {
        "id": "jakMk2IwHjGm",
        "colab": {
          "base_uri": "https://localhost:8080/",
          "height": 34
        },
        "outputId": "adc3b23b-59df-47d5-f6f6-f25dc294efce"
      },
      "source": [
        "# Deletar/Apagar o Vetor: (NULL)\n",
        "# Comando: NomVetor <- NULL\n",
        "\n",
        "cidade2 <- NULL\n",
        "cidade2"
      ],
      "execution_count": null,
      "outputs": [
        {
          "output_type": "display_data",
          "data": {
            "text/plain": [
              "NULL"
            ]
          },
          "metadata": {
            "tags": []
          }
        }
      ]
    },
    {
      "cell_type": "markdown",
      "metadata": {
        "id": "O3RLmE2oHjPT"
      },
      "source": [
        "## 2.5.2 - Fator\n",
        "\n",
        "Fatores armazem variáveis categóricas (de categorias) e tipos enumerados.\n",
        "Para criar os fatos utilizamos a função \"factor()\""
      ]
    },
    {
      "cell_type": "code",
      "metadata": {
        "id": "8xnSmGutI-Of",
        "colab": {
          "base_uri": "https://localhost:8080/",
          "height": 50
        },
        "outputId": "885924d1-1bab-4158-c16d-72617f8de584"
      },
      "source": [
        "#Criar a variável \"UF\", com uma lista de unidades federativas\n",
        "?factor\n",
        "UF <- factor(c(\"DF\", \"SP\", \"RJ\", \"RS\"))\n",
        "UF\n",
        "# A SAída do comando foi demonstrar as categorias existentes chamadas \"Levels\""
      ],
      "execution_count": null,
      "outputs": [
        {
          "output_type": "display_data",
          "data": {
            "text/plain": [
              "[1] DF SP RJ RS\n",
              "Levels: DF RJ RS SP"
            ],
            "text/latex": "\\begin{enumerate*}\n\\item DF\n\\item SP\n\\item RJ\n\\item RS\n\\end{enumerate*}\n\n\\emph{Levels}: \\begin{enumerate*}\n\\item 'DF'\n\\item 'RJ'\n\\item 'RS'\n\\item 'SP'\n\\end{enumerate*}\n",
            "text/markdown": "1. DF\n2. SP\n3. RJ\n4. RS\n\n\n\n**Levels**: 1. 'DF'\n2. 'RJ'\n3. 'RS'\n4. 'SP'\n\n\n",
            "text/html": [
              "<style>\n",
              ".list-inline {list-style: none; margin:0; padding: 0}\n",
              ".list-inline>li {display: inline-block}\n",
              ".list-inline>li:not(:last-child)::after {content: \"\\00b7\"; padding: 0 .5ex}\n",
              "</style>\n",
              "<ol class=list-inline><li>DF</li><li>SP</li><li>RJ</li><li>RS</li></ol>\n",
              "\n",
              "<details>\n",
              "\t<summary style=display:list-item;cursor:pointer>\n",
              "\t\t<strong>Levels</strong>:\n",
              "\t</summary>\n",
              "\t<style>\n",
              "\t.list-inline {list-style: none; margin:0; padding: 0}\n",
              "\t.list-inline>li {display: inline-block}\n",
              "\t.list-inline>li:not(:last-child)::after {content: \"\\00b7\"; padding: 0 .5ex}\n",
              "\t</style>\n",
              "\t<ol class=list-inline><li>'DF'</li><li>'RJ'</li><li>'RS'</li><li>'SP'</li></ol>\n",
              "</details>"
            ]
          },
          "metadata": {
            "tags": []
          }
        }
      ]
    },
    {
      "cell_type": "code",
      "metadata": {
        "id": "qEWDp1GgI98v"
      },
      "source": [
        "# A Funcionalidade \"fatores ordenados\" :\n",
        "#Parâmetros: \"leves\" e \"ordered\".\n",
        "\n",
        "grau.instrucao <- factor(c(\"Nível Médio\",\n",
        "                        \"Superior\",\n",
        "                        \"Nivel Médio\",\n",
        "                        \"Fundamental\"),\n",
        "                  levels = c(\"Fundamental\",\n",
        "                           \"Nível Médio\",\n",
        "                            \"Superior\"),\n",
        "                  ordered = TRUE)\n",
        "    "
      ],
      "execution_count": null,
      "outputs": []
    },
    {
      "cell_type": "code",
      "metadata": {
        "id": "_V6TOraYaRZk",
        "colab": {
          "base_uri": "https://localhost:8080/",
          "height": 50
        },
        "outputId": "0d76f318-1821-4ec3-b7e9-2e8ddc3727f9"
      },
      "source": [
        "grau.instrucao"
      ],
      "execution_count": null,
      "outputs": [
        {
          "output_type": "display_data",
          "data": {
            "text/plain": [
              "[1] Nível Médio Superior    <NA>        Fundamental\n",
              "Levels: Fundamental < Nível Médio < Superior"
            ],
            "text/latex": "\\begin{enumerate*}\n\\item Nível Médio\n\\item Superior\n\\item <NA>\n\\item Fundamental\n\\end{enumerate*}\n\n\\emph{Levels}: \\begin{enumerate*}\n\\item 'Fundamental'\n\\item 'Nível Médio'\n\\item 'Superior'\n\\end{enumerate*}\n",
            "text/markdown": "1. Nível Médio\n2. Superior\n3. &lt;NA&gt;\n4. Fundamental\n\n\n\n**Levels**: 1. 'Fundamental'\n2. 'Nível Médio'\n3. 'Superior'\n\n\n",
            "text/html": [
              "<style>\n",
              ".list-inline {list-style: none; margin:0; padding: 0}\n",
              ".list-inline>li {display: inline-block}\n",
              ".list-inline>li:not(:last-child)::after {content: \"\\00b7\"; padding: 0 .5ex}\n",
              "</style>\n",
              "<ol class=list-inline><li>Nível Médio</li><li>Superior</li><li>&lt;NA&gt;</li><li>Fundamental</li></ol>\n",
              "\n",
              "<details>\n",
              "\t<summary style=display:list-item;cursor:pointer>\n",
              "\t\t<strong>Levels</strong>:\n",
              "\t</summary>\n",
              "\t<style>\n",
              "\t.list-inline {list-style: none; margin:0; padding: 0}\n",
              "\t.list-inline>li {display: inline-block}\n",
              "\t.list-inline>li:not(:last-child)::after {content: \"\\00b7\"; padding: 0 .5ex}\n",
              "\t</style>\n",
              "\t<ol class=list-inline><li>'Fundamental'</li><li>'Nível Médio'</li><li>'Superior'</li></ol>\n",
              "</details>"
            ]
          },
          "metadata": {
            "tags": []
          }
        }
      ]
    },
    {
      "cell_type": "markdown",
      "metadata": {
        "id": "OOqcPN43dYeJ"
      },
      "source": [
        "Ao visualizar o fator ordenado \"grau.instrucao\", que foi criado. É possível verificar a ordem atribuida:O Sinal de menor indica que \"Fundamental\", vem antes de \"Nível Médio\" que vem antes de \"Superior\"."
      ]
    },
    {
      "cell_type": "markdown",
      "metadata": {
        "id": "OS6wmXZveJeK"
      },
      "source": [
        "## 2.5.3 - Lista\n",
        "\n",
        "Vamos aprender a estrutura de uma lista. Para criar uma lista utilizamos: \"list()\""
      ]
    },
    {
      "cell_type": "code",
      "metadata": {
        "id": "zoeDW0-ieAo1",
        "colab": {
          "base_uri": "https://localhost:8080/",
          "height": 146
        },
        "outputId": "40527a83-6d73-42be-c0d6-757af2f14bc2"
      },
      "source": [
        "?list()\n",
        "pessoa <- list(sexo = \"M\", cidade = \"Brasília\", idade = 20)\n",
        "\n",
        "pessoa"
      ],
      "execution_count": null,
      "outputs": [
        {
          "output_type": "display_data",
          "data": {
            "text/plain": [
              "$sexo\n",
              "[1] \"M\"\n",
              "\n",
              "$cidade\n",
              "[1] \"Brasília\"\n",
              "\n",
              "$idade\n",
              "[1] 20\n"
            ],
            "text/latex": "\\begin{description}\n\\item[\\$sexo] 'M'\n\\item[\\$cidade] 'Brasília'\n\\item[\\$idade] 20\n\\end{description}\n",
            "text/markdown": "$sexo\n:   'M'\n$cidade\n:   'Brasília'\n$idade\n:   20\n\n\n",
            "text/html": [
              "<dl>\n",
              "\t<dt>$sexo</dt>\n",
              "\t\t<dd>'M'</dd>\n",
              "\t<dt>$cidade</dt>\n",
              "\t\t<dd>'Brasília'</dd>\n",
              "\t<dt>$idade</dt>\n",
              "\t\t<dd>20</dd>\n",
              "</dl>\n"
            ]
          },
          "metadata": {
            "tags": []
          }
        }
      ]
    },
    {
      "cell_type": "code",
      "metadata": {
        "id": "oZRaibtxe7tC",
        "colab": {
          "base_uri": "https://localhost:8080/",
          "height": 50
        },
        "outputId": "9e703a1e-48cf-460e-f828-459f66a2a659"
      },
      "source": [
        "#Para acessar um item da lista, utilizamo a notação \"Lista[posição]\", que ira retornar o valor da posição informada:\n",
        "# O 1º exemplo retorna o atributo e o valor da lista\n",
        "# O 2º exemplo retorna apenas o valor da lista\n",
        "pessoa[1] \n",
        "#Ou\n",
        "pessoa[[1]]"
      ],
      "execution_count": null,
      "outputs": [
        {
          "output_type": "display_data",
          "data": {
            "text/plain": [
              "$sexo\n",
              "[1] \"M\"\n"
            ],
            "text/latex": "\\textbf{\\$sexo} = 'M'",
            "text/markdown": "**$sexo** = 'M'",
            "text/html": [
              "<strong>$sexo</strong> = 'M'"
            ]
          },
          "metadata": {
            "tags": []
          }
        },
        {
          "output_type": "display_data",
          "data": {
            "text/plain": [
              "[1] \"M\""
            ],
            "text/latex": "'M'",
            "text/markdown": "'M'",
            "text/html": [
              "'M'"
            ]
          },
          "metadata": {
            "tags": []
          }
        }
      ]
    },
    {
      "cell_type": "code",
      "metadata": {
        "id": "l2o4NM6Nfg9c",
        "colab": {
          "base_uri": "https://localhost:8080/",
          "height": 146
        },
        "outputId": "b57eb71b-d7eb-4c75-d660-3a71c244740d"
      },
      "source": [
        "# Deletar/Apagar uma Lista: (NULL)\n",
        "# Comando: NomeLista <- NULL\n",
        "\n",
        "pessoa[[\"idade\"]] <- 22\n",
        "pessoa\n"
      ],
      "execution_count": null,
      "outputs": [
        {
          "output_type": "display_data",
          "data": {
            "text/plain": [
              "$sexo\n",
              "[1] \"M\"\n",
              "\n",
              "$cidade\n",
              "[1] \"Brasília\"\n",
              "\n",
              "$idade\n",
              "[1] 22\n"
            ],
            "text/latex": "\\begin{description}\n\\item[\\$sexo] 'M'\n\\item[\\$cidade] 'Brasília'\n\\item[\\$idade] 22\n\\end{description}\n",
            "text/markdown": "$sexo\n:   'M'\n$cidade\n:   'Brasília'\n$idade\n:   22\n\n\n",
            "text/html": [
              "<dl>\n",
              "\t<dt>$sexo</dt>\n",
              "\t\t<dd>'M'</dd>\n",
              "\t<dt>$cidade</dt>\n",
              "\t\t<dd>'Brasília'</dd>\n",
              "\t<dt>$idade</dt>\n",
              "\t\t<dd>22</dd>\n",
              "</dl>\n"
            ]
          },
          "metadata": {
            "tags": []
          }
        }
      ]
    },
    {
      "cell_type": "code",
      "metadata": {
        "id": "JGTG_nXvgceT",
        "colab": {
          "base_uri": "https://localhost:8080/",
          "height": 112
        },
        "outputId": "570dc04c-a4d8-46de-b816-7b00442f9afa"
      },
      "source": [
        "pessoa[[\"idade\"]] <- NULL\n",
        "pessoa"
      ],
      "execution_count": null,
      "outputs": [
        {
          "output_type": "display_data",
          "data": {
            "text/plain": [
              "$sexo\n",
              "[1] \"M\"\n",
              "\n",
              "$cidade\n",
              "[1] \"Brasília\"\n"
            ],
            "text/latex": "\\begin{description}\n\\item[\\$sexo] 'M'\n\\item[\\$cidade] 'Brasília'\n\\end{description}\n",
            "text/markdown": "$sexo\n:   'M'\n$cidade\n:   'Brasília'\n\n\n",
            "text/html": [
              "<dl>\n",
              "\t<dt>$sexo</dt>\n",
              "\t\t<dd>'M'</dd>\n",
              "\t<dt>$cidade</dt>\n",
              "\t\t<dd>'Brasília'</dd>\n",
              "</dl>\n"
            ]
          },
          "metadata": {
            "tags": []
          }
        }
      ]
    },
    {
      "cell_type": "code",
      "metadata": {
        "id": "nMse03IjghaJ",
        "colab": {
          "base_uri": "https://localhost:8080/",
          "height": 112
        },
        "outputId": "8b5e35e6-970b-46d1-e598-0297ba4d1629"
      },
      "source": [
        "# Filtrando elementos da lista\n",
        "# Neste caso o valor não é deletado da lista.\n",
        "pessoa[c(\"cidade\", \"sexo\")]"
      ],
      "execution_count": null,
      "outputs": [
        {
          "output_type": "display_data",
          "data": {
            "text/plain": [
              "$cidade\n",
              "[1] \"Brasília\"\n",
              "\n",
              "$sexo\n",
              "[1] \"M\"\n"
            ],
            "text/latex": "\\begin{description}\n\\item[\\$cidade] 'Brasília'\n\\item[\\$sexo] 'M'\n\\end{description}\n",
            "text/markdown": "$cidade\n:   'Brasília'\n$sexo\n:   'M'\n\n\n",
            "text/html": [
              "<dl>\n",
              "\t<dt>$cidade</dt>\n",
              "\t\t<dd>'Brasília'</dd>\n",
              "\t<dt>$sexo</dt>\n",
              "\t\t<dd>'M'</dd>\n",
              "</dl>\n"
            ]
          },
          "metadata": {
            "tags": []
          }
        }
      ]
    },
    {
      "cell_type": "markdown",
      "metadata": {
        "id": "JdenYgg_jUAF"
      },
      "source": [
        "Uma lista aceita diferentes tipo de dados. No exemplo abaixo vamos criar uma lista com o vetores criados anteriormente.\n",
        "** Lista de Listas**\n"
      ]
    },
    {
      "cell_type": "code",
      "metadata": {
        "id": "mW55fm0vhXTk"
      },
      "source": [
        "# Lista de Listas\n",
        "cidades <- list(cidade = cidade,\n",
        "                  temperatura = temperatura,\n",
        "                  regiao = regiao)"
      ],
      "execution_count": null,
      "outputs": []
    },
    {
      "cell_type": "markdown",
      "metadata": {
        "id": "GBjC4RNuke45"
      },
      "source": [
        ""
      ]
    },
    {
      "cell_type": "code",
      "metadata": {
        "id": "iP3Q6N9NhW0v",
        "colab": {
          "base_uri": "https://localhost:8080/",
          "height": 146
        },
        "outputId": "d1a2ab11-b572-4ec7-87fc-410365292dde"
      },
      "source": [
        "cidades"
      ],
      "execution_count": null,
      "outputs": [
        {
          "output_type": "display_data",
          "data": {
            "text/plain": [
              "$cidade\n",
              "[1] \"Brasília\"       \"São Paulo\"      \"Rio de Janeiro\" \"Porto Alegre\"  \n",
              "\n",
              "$temperatura\n",
              "[1] 32 22 35 17\n",
              "\n",
              "$regiao\n",
              "[1] 1 2 2 3\n"
            ],
            "text/latex": "\\begin{description}\n\\item[\\$cidade] \\begin{enumerate*}\n\\item 'Brasília'\n\\item 'São Paulo'\n\\item 'Rio de Janeiro'\n\\item 'Porto Alegre'\n\\end{enumerate*}\n\n\\item[\\$temperatura] \\begin{enumerate*}\n\\item 32\n\\item 22\n\\item 35\n\\item 17\n\\end{enumerate*}\n\n\\item[\\$regiao] \\begin{enumerate*}\n\\item 1\n\\item 2\n\\item 2\n\\item 3\n\\end{enumerate*}\n\n\\end{description}\n",
            "text/markdown": "$cidade\n:   1. 'Brasília'\n2. 'São Paulo'\n3. 'Rio de Janeiro'\n4. 'Porto Alegre'\n\n\n\n$temperatura\n:   1. 32\n2. 22\n3. 35\n4. 17\n\n\n\n$regiao\n:   1. 1\n2. 2\n3. 2\n4. 3\n\n\n\n\n\n",
            "text/html": [
              "<dl>\n",
              "\t<dt>$cidade</dt>\n",
              "\t\t<dd><style>\n",
              ".list-inline {list-style: none; margin:0; padding: 0}\n",
              ".list-inline>li {display: inline-block}\n",
              ".list-inline>li:not(:last-child)::after {content: \"\\00b7\"; padding: 0 .5ex}\n",
              "</style>\n",
              "<ol class=list-inline><li>'Brasília'</li><li>'São Paulo'</li><li>'Rio de Janeiro'</li><li>'Porto Alegre'</li></ol>\n",
              "</dd>\n",
              "\t<dt>$temperatura</dt>\n",
              "\t\t<dd><style>\n",
              ".list-inline {list-style: none; margin:0; padding: 0}\n",
              ".list-inline>li {display: inline-block}\n",
              ".list-inline>li:not(:last-child)::after {content: \"\\00b7\"; padding: 0 .5ex}\n",
              "</style>\n",
              "<ol class=list-inline><li>32</li><li>22</li><li>35</li><li>17</li></ol>\n",
              "</dd>\n",
              "\t<dt>$regiao</dt>\n",
              "\t\t<dd><style>\n",
              ".list-inline {list-style: none; margin:0; padding: 0}\n",
              ".list-inline>li {display: inline-block}\n",
              ".list-inline>li:not(:last-child)::after {content: \"\\00b7\"; padding: 0 .5ex}\n",
              "</style>\n",
              "<ol class=list-inline><li>1</li><li>2</li><li>2</li><li>3</li></ol>\n",
              "</dd>\n",
              "</dl>\n"
            ]
          },
          "metadata": {
            "tags": []
          }
        }
      ]
    },
    {
      "cell_type": "markdown",
      "metadata": {
        "id": "zi83g9CnknIJ"
      },
      "source": [
        "## 2.5.4 - data.frame\n",
        "\n",
        "**Vamos aprender a criar data.frame**\n",
        "\n",
        "Um data.frame é uma estrutura que organiza elementos semelhantes a uma planilha ou base de dados."
      ]
    },
    {
      "cell_type": "code",
      "metadata": {
        "id": "1XXVh4sXojj7",
        "colab": {
          "base_uri": "https://localhost:8080/",
          "height": 155
        },
        "outputId": "79ef5681-aedb-4cf0-ed32-392cc21bcfc0"
      },
      "source": [
        "# Neste exemplo criamos um data.frame com os VETORES \"cidade\" e \"temperatura\"\n",
        "df <-data.frame(cidade, temperatura)\n",
        "df"
      ],
      "execution_count": null,
      "outputs": [
        {
          "output_type": "display_data",
          "data": {
            "text/plain": [
              "  cidade         temperatura\n",
              "1 Brasília       32         \n",
              "2 São Paulo      22         \n",
              "3 Rio de Janeiro 35         \n",
              "4 Porto Alegre   17         "
            ],
            "text/latex": "A data.frame: 4 × 2\n\\begin{tabular}{ll}\n cidade & temperatura\\\\\n <chr> & <dbl>\\\\\n\\hline\n\t Brasília       & 32\\\\\n\t São Paulo      & 22\\\\\n\t Rio de Janeiro & 35\\\\\n\t Porto Alegre   & 17\\\\\n\\end{tabular}\n",
            "text/markdown": "\nA data.frame: 4 × 2\n\n| cidade &lt;chr&gt; | temperatura &lt;dbl&gt; |\n|---|---|\n| Brasília       | 32 |\n| São Paulo      | 22 |\n| Rio de Janeiro | 35 |\n| Porto Alegre   | 17 |\n\n",
            "text/html": [
              "<table>\n",
              "<caption>A data.frame: 4 × 2</caption>\n",
              "<thead>\n",
              "\t<tr><th scope=col>cidade</th><th scope=col>temperatura</th></tr>\n",
              "\t<tr><th scope=col>&lt;chr&gt;</th><th scope=col>&lt;dbl&gt;</th></tr>\n",
              "</thead>\n",
              "<tbody>\n",
              "\t<tr><td>Brasília      </td><td>32</td></tr>\n",
              "\t<tr><td>São Paulo     </td><td>22</td></tr>\n",
              "\t<tr><td>Rio de Janeiro</td><td>35</td></tr>\n",
              "\t<tr><td>Porto Alegre  </td><td>17</td></tr>\n",
              "</tbody>\n",
              "</table>\n"
            ]
          },
          "metadata": {
            "tags": []
          }
        }
      ]
    },
    {
      "cell_type": "code",
      "metadata": {
        "id": "cY65hm4Xk5E6",
        "colab": {
          "base_uri": "https://localhost:8080/",
          "height": 155
        },
        "outputId": "7fc442e7-058a-4d77-883e-b0fcb71e570a"
      },
      "source": [
        "#Criando um data.frame com a LISTA cidades2\n",
        "df2 <- data.frame(cidades)\n",
        "df2"
      ],
      "execution_count": null,
      "outputs": [
        {
          "output_type": "display_data",
          "data": {
            "text/plain": [
              "  cidade         temperatura regiao\n",
              "1 Brasília       32          1     \n",
              "2 São Paulo      22          2     \n",
              "3 Rio de Janeiro 35          2     \n",
              "4 Porto Alegre   17          3     "
            ],
            "text/latex": "A data.frame: 4 × 3\n\\begin{tabular}{lll}\n cidade & temperatura & regiao\\\\\n <chr> & <dbl> & <dbl>\\\\\n\\hline\n\t Brasília       & 32 & 1\\\\\n\t São Paulo      & 22 & 2\\\\\n\t Rio de Janeiro & 35 & 2\\\\\n\t Porto Alegre   & 17 & 3\\\\\n\\end{tabular}\n",
            "text/markdown": "\nA data.frame: 4 × 3\n\n| cidade &lt;chr&gt; | temperatura &lt;dbl&gt; | regiao &lt;dbl&gt; |\n|---|---|---|\n| Brasília       | 32 | 1 |\n| São Paulo      | 22 | 2 |\n| Rio de Janeiro | 35 | 2 |\n| Porto Alegre   | 17 | 3 |\n\n",
            "text/html": [
              "<table>\n",
              "<caption>A data.frame: 4 × 3</caption>\n",
              "<thead>\n",
              "\t<tr><th scope=col>cidade</th><th scope=col>temperatura</th><th scope=col>regiao</th></tr>\n",
              "\t<tr><th scope=col>&lt;chr&gt;</th><th scope=col>&lt;dbl&gt;</th><th scope=col>&lt;dbl&gt;</th></tr>\n",
              "</thead>\n",
              "<tbody>\n",
              "\t<tr><td>Brasília      </td><td>32</td><td>1</td></tr>\n",
              "\t<tr><td>São Paulo     </td><td>22</td><td>2</td></tr>\n",
              "\t<tr><td>Rio de Janeiro</td><td>35</td><td>2</td></tr>\n",
              "\t<tr><td>Porto Alegre  </td><td>17</td><td>3</td></tr>\n",
              "</tbody>\n",
              "</table>\n"
            ]
          },
          "metadata": {
            "tags": []
          }
        }
      ]
    },
    {
      "cell_type": "markdown",
      "metadata": {
        "id": "kjFtaRjKoyp3"
      },
      "source": [
        "As saídas mostram o número de Linhas e numero de colunas, respectivamente(4 x 2) e (4 x 3)"
      ]
    },
    {
      "cell_type": "markdown",
      "metadata": {
        "id": "ArhyWZzOUvZm"
      },
      "source": [
        "### **Operações com data.frame**"
      ]
    },
    {
      "cell_type": "code",
      "metadata": {
        "id": "R9MH3YR0pAYE",
        "colab": {
          "base_uri": "https://localhost:8080/",
          "height": 34
        },
        "outputId": "2b61ae0c-0b33-4fde-a604-7f81f7aa2c2b"
      },
      "source": [
        "# Para filtrar uma informação digitamos o nome do data.frame e entre colchetes colocamos a Linha e a Coluna que desejamos\n",
        "# Comando: data.frame[Linha,Coluna]\n",
        "df[1,2]\n"
      ],
      "execution_count": null,
      "outputs": [
        {
          "output_type": "display_data",
          "data": {
            "text/plain": [
              "[1] 32"
            ],
            "text/latex": "32",
            "text/markdown": "32",
            "text/html": [
              "32"
            ]
          },
          "metadata": {
            "tags": []
          }
        }
      ]
    },
    {
      "cell_type": "code",
      "metadata": {
        "id": "ZBWrNmzXVhfZ",
        "colab": {
          "base_uri": "https://localhost:8080/",
          "height": 34
        },
        "outputId": "24ff30b5-3491-46e1-b241-132401b75c15"
      },
      "source": [
        "# No exemplo como não colocamos a posição da Linha o filtro trouxe toda a Coluna 1 (posição 1)\n",
        "df[,1]"
      ],
      "execution_count": null,
      "outputs": [
        {
          "output_type": "display_data",
          "data": {
            "text/plain": [
              "[1] \"Brasília\"       \"São Paulo\"      \"Rio de Janeiro\" \"Porto Alegre\"  "
            ],
            "text/latex": "\\begin{enumerate*}\n\\item 'Brasília'\n\\item 'São Paulo'\n\\item 'Rio de Janeiro'\n\\item 'Porto Alegre'\n\\end{enumerate*}\n",
            "text/markdown": "1. 'Brasília'\n2. 'São Paulo'\n3. 'Rio de Janeiro'\n4. 'Porto Alegre'\n\n\n",
            "text/html": [
              "<style>\n",
              ".list-inline {list-style: none; margin:0; padding: 0}\n",
              ".list-inline>li {display: inline-block}\n",
              ".list-inline>li:not(:last-child)::after {content: \"\\00b7\"; padding: 0 .5ex}\n",
              "</style>\n",
              "<ol class=list-inline><li>'Brasília'</li><li>'São Paulo'</li><li>'Rio de Janeiro'</li><li>'Porto Alegre'</li></ol>\n"
            ]
          },
          "metadata": {
            "tags": []
          }
        }
      ]
    },
    {
      "cell_type": "code",
      "metadata": {
        "id": "KZZj2B7yV4u5",
        "colab": {
          "base_uri": "https://localhost:8080/",
          "height": 95
        },
        "outputId": "4f2a98fa-3882-4c6e-fc31-6d57d4a80808"
      },
      "source": [
        "# Como não informamos a posição da coluna, apenas a Linha 1, o filtro trouxe TODA a linha 1\n",
        "df[1,]"
      ],
      "execution_count": null,
      "outputs": [
        {
          "output_type": "display_data",
          "data": {
            "text/plain": [
              "  cidade   temperatura\n",
              "1 Brasília 32         "
            ],
            "text/latex": "A data.frame: 1 × 2\n\\begin{tabular}{r|ll}\n  & cidade & temperatura\\\\\n  & <chr> & <dbl>\\\\\n\\hline\n\t1 & Brasília & 32\\\\\n\\end{tabular}\n",
            "text/markdown": "\nA data.frame: 1 × 2\n\n| <!--/--> | cidade &lt;chr&gt; | temperatura &lt;dbl&gt; |\n|---|---|---|\n| 1 | Brasília | 32 |\n\n",
            "text/html": [
              "<table>\n",
              "<caption>A data.frame: 1 × 2</caption>\n",
              "<thead>\n",
              "\t<tr><th></th><th scope=col>cidade</th><th scope=col>temperatura</th></tr>\n",
              "\t<tr><th></th><th scope=col>&lt;chr&gt;</th><th scope=col>&lt;dbl&gt;</th></tr>\n",
              "</thead>\n",
              "<tbody>\n",
              "\t<tr><th scope=row>1</th><td>Brasília</td><td>32</td></tr>\n",
              "</tbody>\n",
              "</table>\n"
            ]
          },
          "metadata": {
            "tags": []
          }
        }
      ]
    },
    {
      "cell_type": "code",
      "metadata": {
        "id": "QXC4xhqsWP6D",
        "colab": {
          "base_uri": "https://localhost:8080/",
          "height": 135
        },
        "outputId": "1d323cde-3769-43ca-892c-7df4055e0565"
      },
      "source": [
        "# Selecionando as 3 primeiras linhas, da 1ª e 3ª coluna\n",
        "df2 [c(1:3), c(1,3)]"
      ],
      "execution_count": null,
      "outputs": [
        {
          "output_type": "display_data",
          "data": {
            "text/plain": [
              "  cidade         regiao\n",
              "1 Brasília       1     \n",
              "2 São Paulo      2     \n",
              "3 Rio de Janeiro 2     "
            ],
            "text/latex": "A data.frame: 3 × 2\n\\begin{tabular}{r|ll}\n  & cidade & regiao\\\\\n  & <chr> & <dbl>\\\\\n\\hline\n\t1 & Brasília       & 1\\\\\n\t2 & São Paulo      & 2\\\\\n\t3 & Rio de Janeiro & 2\\\\\n\\end{tabular}\n",
            "text/markdown": "\nA data.frame: 3 × 2\n\n| <!--/--> | cidade &lt;chr&gt; | regiao &lt;dbl&gt; |\n|---|---|---|\n| 1 | Brasília       | 1 |\n| 2 | São Paulo      | 2 |\n| 3 | Rio de Janeiro | 2 |\n\n",
            "text/html": [
              "<table>\n",
              "<caption>A data.frame: 3 × 2</caption>\n",
              "<thead>\n",
              "\t<tr><th></th><th scope=col>cidade</th><th scope=col>regiao</th></tr>\n",
              "\t<tr><th></th><th scope=col>&lt;chr&gt;</th><th scope=col>&lt;dbl&gt;</th></tr>\n",
              "</thead>\n",
              "<tbody>\n",
              "\t<tr><th scope=row>1</th><td>Brasília      </td><td>1</td></tr>\n",
              "\t<tr><th scope=row>2</th><td>São Paulo     </td><td>2</td></tr>\n",
              "\t<tr><th scope=row>3</th><td>Rio de Janeiro</td><td>2</td></tr>\n",
              "</tbody>\n",
              "</table>\n"
            ]
          },
          "metadata": {
            "tags": []
          }
        }
      ]
    },
    {
      "cell_type": "code",
      "metadata": {
        "id": "gGkincy1WQGj",
        "colab": {
          "base_uri": "https://localhost:8080/",
          "height": 34
        },
        "outputId": "f97baa04-fa1c-4df2-b74a-dfcb67fb564d"
      },
      "source": [
        "# Verificar o nome das Colunas:\n",
        "names(df)"
      ],
      "execution_count": null,
      "outputs": [
        {
          "output_type": "display_data",
          "data": {
            "text/plain": [
              "[1] \"cidade\"      \"temperatura\""
            ],
            "text/latex": "\\begin{enumerate*}\n\\item 'cidade'\n\\item 'temperatura'\n\\end{enumerate*}\n",
            "text/markdown": "1. 'cidade'\n2. 'temperatura'\n\n\n",
            "text/html": [
              "<style>\n",
              ".list-inline {list-style: none; margin:0; padding: 0}\n",
              ".list-inline>li {display: inline-block}\n",
              ".list-inline>li:not(:last-child)::after {content: \"\\00b7\"; padding: 0 .5ex}\n",
              "</style>\n",
              "<ol class=list-inline><li>'cidade'</li><li>'temperatura'</li></ol>\n"
            ]
          },
          "metadata": {
            "tags": []
          }
        }
      ]
    },
    {
      "cell_type": "code",
      "metadata": {
        "id": "bUPWBUj2YVDv",
        "colab": {
          "base_uri": "https://localhost:8080/",
          "height": 34
        },
        "outputId": "3e5e6800-28fb-4e5a-a490-7e3d1e20dd32"
      },
      "source": [
        "# Verificar o numero de Linhas e de Colunas:\n",
        "dim(df)\n",
        "# O resultado mostra que o data.frama possui 4 linhas e 2 colunas (4x2)"
      ],
      "execution_count": null,
      "outputs": [
        {
          "output_type": "display_data",
          "data": {
            "text/plain": [
              "[1] 4 2"
            ],
            "text/latex": "\\begin{enumerate*}\n\\item 4\n\\item 2\n\\end{enumerate*}\n",
            "text/markdown": "1. 4\n2. 2\n\n\n",
            "text/html": [
              "<style>\n",
              ".list-inline {list-style: none; margin:0; padding: 0}\n",
              ".list-inline>li {display: inline-block}\n",
              ".list-inline>li:not(:last-child)::after {content: \"\\00b7\"; padding: 0 .5ex}\n",
              "</style>\n",
              "<ol class=list-inline><li>4</li><li>2</li></ol>\n"
            ]
          },
          "metadata": {
            "tags": []
          }
        }
      ]
    },
    {
      "cell_type": "code",
      "metadata": {
        "id": "DQNNbiTqYjo-",
        "colab": {
          "base_uri": "https://localhost:8080/"
        },
        "outputId": "df17fa39-2df4-4481-ed34-87b7c2b33b6e"
      },
      "source": [
        "#Ver os TIPOS dos dados das colunas:\n",
        "str(df)\n",
        "# A saida mostra que ac COluna Cidade é do tipo: \"chr\" e temperatura é do tipo \"num\""
      ],
      "execution_count": null,
      "outputs": [
        {
          "output_type": "stream",
          "text": [
            "'data.frame':\t4 obs. of  2 variables:\n",
            " $ cidade     : chr  \"Brasília\" \"São Paulo\" \"Rio de Janeiro\" \"Porto Alegre\"\n",
            " $ temperatura: num  32 22 35 17\n"
          ],
          "name": "stdout"
        }
      ]
    },
    {
      "cell_type": "code",
      "metadata": {
        "id": "I_utOJ8NY-3D",
        "colab": {
          "base_uri": "https://localhost:8080/",
          "height": 34
        },
        "outputId": "985f2e0c-0ac9-4770-b4f9-9383b6a2cff5"
      },
      "source": [
        "# Para buscar os daods de uma coluna, existem duas formas básicas:\n",
        "# Comandos: \"data.frame$NomeColuna\" ou \" data.frame['NomeColuna']\"\n",
        "df$cidade\n",
        "#A saida da consulta é apenas os dados na COLUNA\n"
      ],
      "execution_count": null,
      "outputs": [
        {
          "output_type": "display_data",
          "data": {
            "text/plain": [
              "[1] \"Brasília\"       \"São Paulo\"      \"Rio de Janeiro\" \"Porto Alegre\"  "
            ],
            "text/latex": "\\begin{enumerate*}\n\\item 'Brasília'\n\\item 'São Paulo'\n\\item 'Rio de Janeiro'\n\\item 'Porto Alegre'\n\\end{enumerate*}\n",
            "text/markdown": "1. 'Brasília'\n2. 'São Paulo'\n3. 'Rio de Janeiro'\n4. 'Porto Alegre'\n\n\n",
            "text/html": [
              "<style>\n",
              ".list-inline {list-style: none; margin:0; padding: 0}\n",
              ".list-inline>li {display: inline-block}\n",
              ".list-inline>li:not(:last-child)::after {content: \"\\00b7\"; padding: 0 .5ex}\n",
              "</style>\n",
              "<ol class=list-inline><li>'Brasília'</li><li>'São Paulo'</li><li>'Rio de Janeiro'</li><li>'Porto Alegre'</li></ol>\n"
            ]
          },
          "metadata": {
            "tags": []
          }
        }
      ]
    },
    {
      "cell_type": "code",
      "metadata": {
        "id": "O5xMOjSxZ1kj",
        "colab": {
          "base_uri": "https://localhost:8080/",
          "height": 172
        },
        "outputId": "6fb1cddd-ffeb-47c4-b4de-2f35f5132e20"
      },
      "source": [
        "df['cidade']\n",
        "# Aqui além dos dados da coluna vemos também outras informações do data.frama como:\n",
        "# dimensão, nome do dataframe e tipo da coluna."
      ],
      "execution_count": null,
      "outputs": [
        {
          "output_type": "display_data",
          "data": {
            "text/plain": [
              "  cidade        \n",
              "1 Brasília      \n",
              "2 São Paulo     \n",
              "3 Rio de Janeiro\n",
              "4 Porto Alegre  "
            ],
            "text/latex": "A data.frame: 4 × 1\n\\begin{tabular}{l}\n cidade\\\\\n <chr>\\\\\n\\hline\n\t Brasília      \\\\\n\t São Paulo     \\\\\n\t Rio de Janeiro\\\\\n\t Porto Alegre  \\\\\n\\end{tabular}\n",
            "text/markdown": "\nA data.frame: 4 × 1\n\n| cidade &lt;chr&gt; |\n|---|\n| Brasília       |\n| São Paulo      |\n| Rio de Janeiro |\n| Porto Alegre   |\n\n",
            "text/html": [
              "<table>\n",
              "<caption>A data.frame: 4 × 1</caption>\n",
              "<thead>\n",
              "\t<tr><th scope=col>cidade</th></tr>\n",
              "\t<tr><th scope=col>&lt;chr&gt;</th></tr>\n",
              "</thead>\n",
              "<tbody>\n",
              "\t<tr><td>Brasília      </td></tr>\n",
              "\t<tr><td>São Paulo     </td></tr>\n",
              "\t<tr><td>Rio de Janeiro</td></tr>\n",
              "\t<tr><td>Porto Alegre  </td></tr>\n",
              "</tbody>\n",
              "</table>\n"
            ]
          },
          "metadata": {
            "tags": []
          }
        }
      ]
    },
    {
      "cell_type": "markdown",
      "metadata": {
        "id": "OnTrbxd-axqg"
      },
      "source": [
        "## 2.5.5 - Matrizes\n",
        "\n",
        "**Vamos aprender a criar matrizes**\n",
        "\n",
        "As matrizes também organizam elementos com em uma planilha ou base de dados. A diferença entre o DataFrame é que a matrix só aceita um tipo de dados."
      ]
    },
    {
      "cell_type": "code",
      "metadata": {
        "id": "eXZotmLXahBO",
        "colab": {
          "base_uri": "https://localhost:8080/",
          "height": 179
        },
        "outputId": "c317b620-3f68-4e2d-8bf4-8bcfabb7149d"
      },
      "source": [
        "#Criando Matrizes: Comando: \"matrix()\"\n",
        "matrize <- matrix(seq(1:9), nrow = 3)\n",
        "matrize\n",
        "# A saida mostra: Uma Matrix, 3x3, com tipo \"int\"\n",
        "# Os dados da Matriz são a sequência de 1 ao 9 \"seq(1:9)\", distribuido em 3 linhas(nrow=3)"
      ],
      "execution_count": null,
      "outputs": [
        {
          "output_type": "display_data",
          "data": {
            "text/plain": [
              "     [,1] [,2] [,3]\n",
              "[1,] 1    4    7   \n",
              "[2,] 2    5    8   \n",
              "[3,] 3    6    9   "
            ],
            "text/latex": "A matrix: 3 × 3 of type int\n\\begin{tabular}{lll}\n\t 1 & 4 & 7\\\\\n\t 2 & 5 & 8\\\\\n\t 3 & 6 & 9\\\\\n\\end{tabular}\n",
            "text/markdown": "\nA matrix: 3 × 3 of type int\n\n| 1 | 4 | 7 |\n| 2 | 5 | 8 |\n| 3 | 6 | 9 |\n\n",
            "text/html": [
              "<table>\n",
              "<caption>A matrix: 3 × 3 of type int</caption>\n",
              "<tbody>\n",
              "\t<tr><td>1</td><td>4</td><td>7</td></tr>\n",
              "\t<tr><td>2</td><td>5</td><td>8</td></tr>\n",
              "\t<tr><td>3</td><td>6</td><td>9</td></tr>\n",
              "</tbody>\n",
              "</table>\n"
            ]
          },
          "metadata": {
            "tags": []
          }
        }
      ]
    },
    {
      "cell_type": "code",
      "metadata": {
        "id": "Vwzlplmlb9Ew",
        "colab": {
          "base_uri": "https://localhost:8080/",
          "height": 172
        },
        "outputId": "b4df2a56-813f-49fb-e2cb-765d516eb9a5"
      },
      "source": [
        "# vamos criar outra Matriz e especificar a quantidade de colunas EM 5 e dar nome as colunas\n",
        "# o parâmetro \"byrow = TRUE\" inidca que a matriz deverá ser preenchida por linhas\n",
        "# e o dimnames determina o nome das colunas\n",
        " matrize2 <- matrix(seq(1:25),\n",
        "                    ncol = 5,\n",
        "                    byrow = TRUE,\n",
        "                    dimnames = list(c(seq(1:5)),\n",
        "                                    c('A','B','C','D','E')\n",
        "                                    )\n",
        "                    )\n",
        "matrize2"
      ],
      "execution_count": null,
      "outputs": [
        {
          "output_type": "display_data",
          "data": {
            "text/plain": [
              "  A  B  C  D  E \n",
              "1  1  2  3  4  5\n",
              "2  6  7  8  9 10\n",
              "3 11 12 13 14 15\n",
              "4 16 17 18 19 20\n",
              "5 21 22 23 24 25"
            ],
            "text/latex": "A matrix: 5 × 5 of type int\n\\begin{tabular}{r|lllll}\n  & A & B & C & D & E\\\\\n\\hline\n\t1 &  1 &  2 &  3 &  4 &  5\\\\\n\t2 &  6 &  7 &  8 &  9 & 10\\\\\n\t3 & 11 & 12 & 13 & 14 & 15\\\\\n\t4 & 16 & 17 & 18 & 19 & 20\\\\\n\t5 & 21 & 22 & 23 & 24 & 25\\\\\n\\end{tabular}\n",
            "text/markdown": "\nA matrix: 5 × 5 of type int\n\n| <!--/--> | A | B | C | D | E |\n|---|---|---|---|---|---|\n| 1 |  1 |  2 |  3 |  4 |  5 |\n| 2 |  6 |  7 |  8 |  9 | 10 |\n| 3 | 11 | 12 | 13 | 14 | 15 |\n| 4 | 16 | 17 | 18 | 19 | 20 |\n| 5 | 21 | 22 | 23 | 24 | 25 |\n\n",
            "text/html": [
              "<table>\n",
              "<caption>A matrix: 5 × 5 of type int</caption>\n",
              "<thead>\n",
              "\t<tr><th></th><th scope=col>A</th><th scope=col>B</th><th scope=col>C</th><th scope=col>D</th><th scope=col>E</th></tr>\n",
              "</thead>\n",
              "<tbody>\n",
              "\t<tr><th scope=row>1</th><td> 1</td><td> 2</td><td> 3</td><td> 4</td><td> 5</td></tr>\n",
              "\t<tr><th scope=row>2</th><td> 6</td><td> 7</td><td> 8</td><td> 9</td><td>10</td></tr>\n",
              "\t<tr><th scope=row>3</th><td>11</td><td>12</td><td>13</td><td>14</td><td>15</td></tr>\n",
              "\t<tr><th scope=row>4</th><td>16</td><td>17</td><td>18</td><td>19</td><td>20</td></tr>\n",
              "\t<tr><th scope=row>5</th><td>21</td><td>22</td><td>23</td><td>24</td><td>25</td></tr>\n",
              "</tbody>\n",
              "</table>\n"
            ]
          },
          "metadata": {
            "tags": []
          }
        }
      ]
    },
    {
      "cell_type": "markdown",
      "metadata": {
        "id": "dAXGIeVMd0Yl"
      },
      "source": [
        "### Filtrar os Dados da matrix\n",
        "Para filtrar os dados devemos informar a liha e as colunas entre colchetes"
      ]
    },
    {
      "cell_type": "code",
      "metadata": {
        "id": "kwZqRjRldIDA",
        "colab": {
          "base_uri": "https://localhost:8080/",
          "height": 162
        },
        "outputId": "9d953af3-278e-4e33-cc6f-e738a10c3dd1"
      },
      "source": [
        "#filtrando a matriz\n",
        "matrize2[c(1:2), c('B', 'C')]\n",
        "# O resultado traz os dados da coluna B e C nas linhas 1 e 2"
      ],
      "execution_count": null,
      "outputs": [
        {
          "output_type": "display_data",
          "data": {
            "text/plain": [
              "  B C\n",
              "1 2 3\n",
              "2 7 8"
            ],
            "text/latex": "A matrix: 2 × 2 of type int\n\\begin{tabular}{r|ll}\n  & B & C\\\\\n\\hline\n\t1 & 2 & 3\\\\\n\t2 & 7 & 8\\\\\n\\end{tabular}\n",
            "text/markdown": "\nA matrix: 2 × 2 of type int\n\n| <!--/--> | B | C |\n|---|---|---|\n| 1 | 2 | 3 |\n| 2 | 7 | 8 |\n\n",
            "text/html": [
              "<table>\n",
              "<caption>A matrix: 2 × 2 of type int</caption>\n",
              "<thead>\n",
              "\t<tr><th></th><th scope=col>B</th><th scope=col>C</th></tr>\n",
              "</thead>\n",
              "<tbody>\n",
              "\t<tr><th scope=row>1</th><td>2</td><td>3</td></tr>\n",
              "\t<tr><th scope=row>2</th><td>7</td><td>8</td></tr>\n",
              "</tbody>\n",
              "</table>\n"
            ]
          },
          "metadata": {
            "tags": []
          }
        }
      ]
    },
    {
      "cell_type": "markdown",
      "metadata": {
        "id": "_vMdxI4Seh52"
      },
      "source": [
        "Essa são as funcionalidades básicas na linguagem R para armazenar estrututuras de dados desse estudo:\n",
        "* Matrizes\n",
        "* Data Frames\n",
        "* Listas\n",
        "* Fatores\n",
        "* Vetores"
      ]
    },
    {
      "cell_type": "markdown",
      "metadata": {
        "id": "J-0alAtxhCX3"
      },
      "source": [
        "# 2.6 - Estruturas de Repetição em R - \"for()\" e \"while()\"\n",
        "\n",
        "Nesse tópico, vamos aprender como utilizar as estruturas de repetição na linguagem R, pegando duas como exemplo: For e While. \n",
        "\n",
        "A função “for()” é utilizada para acessar cada elemento de uma sequência (vetor, coluna de matriz ou data frame matriz), enquanto a função “while()” é utilizada para repetir uma operação por um determinado número de vezes. "
      ]
    },
    {
      "cell_type": "code",
      "metadata": {
        "id": "1yOuL9KWe-Lz",
        "colab": {
          "base_uri": "https://localhost:8080/"
        },
        "outputId": "b93b42a9-25fc-48e7-f350-36be1faeeb9a"
      },
      "source": [
        "# A função \"for()\" é utilizada para acessar cada elemento de uma estrutura de dados: vetor, matrizes ou data frame\n",
        "\n",
        "#Loops\n",
        "#For\n",
        "#Comando: for(valorinsequencia) {\n",
        "#  código...\n",
        "#}\n",
        "# Exemplo for\n",
        "for (i in seq(12)) {\n",
        "  print (i)\n",
        "}\n",
        "# No exemplo criamos uma sequencia de 12 elementos coma  função \"seq()\"\n",
        "# A Saída temos uma operação para cada iteração da função \"for()\" no caso 12 iterações"
      ],
      "execution_count": null,
      "outputs": [
        {
          "output_type": "stream",
          "text": [
            "[1] 1\n",
            "[1] 2\n",
            "[1] 3\n",
            "[1] 4\n",
            "[1] 5\n",
            "[1] 6\n",
            "[1] 7\n",
            "[1] 8\n",
            "[1] 9\n",
            "[1] 10\n",
            "[1] 11\n",
            "[1] 12\n"
          ],
          "name": "stdout"
        }
      ]
    },
    {
      "cell_type": "code",
      "metadata": {
        "id": "lB8dHmmqjFj4",
        "colab": {
          "base_uri": "https://localhost:8080/"
        },
        "outputId": "1f10f94a-773c-4f94-c3ad-84ebc1ba4e00"
      },
      "source": [
        "# A função \"while()\" é utilizada para repetir uma operação por uma determinada quantidade de vezes\n",
        "# Deve-se inserir um parametro como condição . E enquanto a condição for verdadeira vai haver repetição.\n",
        "i <- 0\n",
        "while (i <= 10) {\n",
        "  # código\n",
        "  print(i)\n",
        "  i = i +1\n",
        "}\n",
        "# observe que a variavel \"i\"(contadora) é criada fora da estrutura. Depois a \"contadora\" é incrementada dentro da estrutura"
      ],
      "execution_count": null,
      "outputs": [
        {
          "output_type": "stream",
          "text": [
            "[1] 0\n",
            "[1] 1\n",
            "[1] 2\n",
            "[1] 3\n",
            "[1] 4\n",
            "[1] 5\n",
            "[1] 6\n",
            "[1] 7\n",
            "[1] 8\n",
            "[1] 9\n",
            "[1] 10\n"
          ],
          "name": "stdout"
        }
      ]
    },
    {
      "cell_type": "markdown",
      "metadata": {
        "id": "nwjYcBF2eAwU"
      },
      "source": [
        "# 2.7 - Controle de fluxos - função \"if()\" e \"else()\"\n",
        "\n",
        "O programa linguagem R possui uma função que permite testar condições e controlar o fluxo do script. \n",
        "\n",
        "Essa função permite executar parte de um código somente se alguma condição for atendida, a fim de testar as condições e controlar o **fluxo do script.**\n"
      ]
    },
    {
      "cell_type": "code",
      "metadata": {
        "colab": {
          "base_uri": "https://localhost:8080/"
        },
        "id": "Q8dOlESgej4k",
        "outputId": "a068e7c2-c0ef-4b75-c8b1-fb495dd79907"
      },
      "source": [
        "# Declaramos a vairavel x = 10 e colocamos um condição que se o valor de X maior que 0 ele vai dar o print\n",
        "x = 10\n",
        "if (x>0) {\n",
        "  print(\"Numero positivo\")\n",
        "}\n",
        "\n",
        "# como valor digitado é maior que 10 a saida foi o print. Teste com um valor negativo (não ter nenhuma saída)\n"
      ],
      "execution_count": null,
      "outputs": [
        {
          "output_type": "stream",
          "text": [
            "[1] \"Numero positivo\"\n"
          ],
          "name": "stdout"
        }
      ]
    },
    {
      "cell_type": "code",
      "metadata": {
        "colab": {
          "base_uri": "https://localhost:8080/"
        },
        "id": "MraQysEofhs6",
        "outputId": "61d6c88a-6627-4433-eec5-3f7da1e01772"
      },
      "source": [
        "# Já a função \"if()\"\" associada a função \"else if()\" é usada para testar diversas condições\n",
        "\n",
        "nota = 5\n",
        "if (nota >= 7) {\n",
        "  print(\"Aprovado\")\n",
        "} else if (nota > 5 && nota < 7) {\n",
        "  print(\"Recuperação\")\n",
        "} else {\n",
        "  print(\"Reprovado\")\n",
        "  }\n",
        "\n",
        "  # Faça teste alterando o valor da nota pra ver os resultados diversos."
      ],
      "execution_count": null,
      "outputs": [
        {
          "output_type": "stream",
          "text": [
            "[1] \"Reprovado\"\n"
          ],
          "name": "stdout"
        }
      ]
    },
    {
      "cell_type": "markdown",
      "metadata": {
        "id": "XIo9qhIah0LP"
      },
      "source": [
        "# 2.8 - Criando Funções\n",
        "\n",
        "O R já vem com várias funções instaladas e, com elas, você pode executar muitas tarefas, conforme mostramos até agora. \n",
        "\n",
        "Podemos também criar nossas funções. Com as funções facilitamos o trabalho e diminui o tempo de execução de suas análises. "
      ]
    },
    {
      "cell_type": "code",
      "metadata": {
        "id": "nvseCyLjiSBa"
      },
      "source": [
        "# Para criar funções utilizamos a palavra \"function\" e colocamos os parâmetros\n",
        "# criando uma função (par.impar) que vai dizer seo o número (num) é impar ou par\n",
        "par.impar <- function(num) {\n",
        "  if ((num %% 2)==0) {\n",
        "    return (\"Par\")\n",
        "    }else\n",
        "    return(\"Impar\")\n",
        "  }\n",
        "  # A função vai verificar se o número informado possui módulo(resto da divisão) igual a zero. Se for Igual a Zero o número é par, caso contrário ele é impar"
      ],
      "execution_count": null,
      "outputs": []
    },
    {
      "cell_type": "code",
      "metadata": {
        "colab": {
          "base_uri": "https://localhost:8080/",
          "height": 34
        },
        "id": "asQK9BdqT-Rp",
        "outputId": "08f822db-086d-47f6-a20f-9160a3ea3b1e"
      },
      "source": [
        "# Usando a função criada:\n",
        "\n",
        "num = 3\n",
        "par.impar(num)\n",
        "# utilizando apenas a função criada temos o nosso resultado"
      ],
      "execution_count": null,
      "outputs": [
        {
          "output_type": "display_data",
          "data": {
            "text/plain": [
              "[1] \"Impar\""
            ],
            "text/latex": "'Impar'",
            "text/markdown": "'Impar'",
            "text/html": [
              "'Impar'"
            ]
          },
          "metadata": {
            "tags": []
          }
        }
      ]
    },
    {
      "cell_type": "markdown",
      "metadata": {
        "id": "hEVwnwEEVVuH"
      },
      "source": [
        "A criação de funções no R, vai facilitar as análises e criação de scripts"
      ]
    },
    {
      "cell_type": "markdown",
      "metadata": {
        "id": "8iBLifKDVji7"
      },
      "source": [
        "# 2.9 - Utilizando Funções apply\n",
        "\n",
        "A função “apply”, na verdade, é um conjunto de funções, ou seja, ela possui algumas variações, tais como: “lapply”, “tapply”, “sapply” e outras. \n",
        "Veremos algumas:"
      ]
    },
    {
      "cell_type": "markdown",
      "metadata": {
        "id": "gNWHd8OBZIhU"
      },
      "source": [
        "**apply**"
      ]
    },
    {
      "cell_type": "code",
      "metadata": {
        "colab": {
          "base_uri": "https://localhost:8080/",
          "height": 184
        },
        "id": "jiMMZtmgUs9e",
        "outputId": "cb68e3a7-f592-464b-9a0b-f1e13c750680"
      },
      "source": [
        "# vamos usar a função \"apply(0)\" para somar o elementos de uma Matriz.\n",
        "# Como exemplo criamos uma matriz 3x3\n",
        "\n",
        "x <- seq(1:9)\n",
        "matriz <- matrix(x,ncol=3)\n",
        "matriz"
      ],
      "execution_count": null,
      "outputs": [
        {
          "output_type": "display_data",
          "data": {
            "text/plain": [
              "     [,1] [,2] [,3]\n",
              "[1,] 1    4    7   \n",
              "[2,] 2    5    8   \n",
              "[3,] 3    6    9   "
            ],
            "text/latex": "A matrix: 3 × 3 of type int\n\\begin{tabular}{lll}\n\t 1 & 4 & 7\\\\\n\t 2 & 5 & 8\\\\\n\t 3 & 6 & 9\\\\\n\\end{tabular}\n",
            "text/markdown": "\nA matrix: 3 × 3 of type int\n\n| 1 | 4 | 7 |\n| 2 | 5 | 8 |\n| 3 | 6 | 9 |\n\n",
            "text/html": [
              "<table>\n",
              "<caption>A matrix: 3 × 3 of type int</caption>\n",
              "<tbody>\n",
              "\t<tr><td>1</td><td>4</td><td>7</td></tr>\n",
              "\t<tr><td>2</td><td>5</td><td>8</td></tr>\n",
              "\t<tr><td>3</td><td>6</td><td>9</td></tr>\n",
              "</tbody>\n",
              "</table>\n"
            ]
          },
          "metadata": {
            "tags": []
          }
        }
      ]
    },
    {
      "cell_type": "code",
      "metadata": {
        "colab": {
          "base_uri": "https://localhost:8080/",
          "height": 34
        },
        "id": "PFUEwXiIXwlD",
        "outputId": "744e957e-fbc8-44d2-9b72-f00c536786aa"
      },
      "source": [
        "# Agora vamos indicar se a operação de soma deve ser realizado por linha ou coluna. Para usar por linha inserimos o número 1 se for por coluna usamos o número 2\n",
        "\n",
        "result1 <- apply(matriz,1,sum)\n",
        "result1\n",
        "\n",
        "# O resultado são as somas dos itens por linha."
      ],
      "execution_count": null,
      "outputs": [
        {
          "output_type": "display_data",
          "data": {
            "text/plain": [
              "[1] 12 15 18"
            ],
            "text/latex": "\\begin{enumerate*}\n\\item 12\n\\item 15\n\\item 18\n\\end{enumerate*}\n",
            "text/markdown": "1. 12\n2. 15\n3. 18\n\n\n",
            "text/html": [
              "<style>\n",
              ".list-inline {list-style: none; margin:0; padding: 0}\n",
              ".list-inline>li {display: inline-block}\n",
              ".list-inline>li:not(:last-child)::after {content: \"\\00b7\"; padding: 0 .5ex}\n",
              "</style>\n",
              "<ol class=list-inline><li>12</li><li>15</li><li>18</li></ol>\n"
            ]
          },
          "metadata": {
            "tags": []
          }
        }
      ]
    },
    {
      "cell_type": "code",
      "metadata": {
        "colab": {
          "base_uri": "https://localhost:8080/",
          "height": 34
        },
        "id": "tEMILJbWYYzp",
        "outputId": "4679865c-ca75-4af1-b4b5-03f15daa4d79"
      },
      "source": [
        "# Agora vamos inserir o numero 2, indicando que a soma deve ser feita por coluna\n",
        "result2 <- apply(matriz,2,sum)\n",
        "result2\n",
        "# Os resultados agora são a somas dos itens por coluna"
      ],
      "execution_count": null,
      "outputs": [
        {
          "output_type": "display_data",
          "data": {
            "text/plain": [
              "[1]  6 15 24"
            ],
            "text/latex": "\\begin{enumerate*}\n\\item 6\n\\item 15\n\\item 24\n\\end{enumerate*}\n",
            "text/markdown": "1. 6\n2. 15\n3. 24\n\n\n",
            "text/html": [
              "<style>\n",
              ".list-inline {list-style: none; margin:0; padding: 0}\n",
              ".list-inline>li {display: inline-block}\n",
              ".list-inline>li:not(:last-child)::after {content: \"\\00b7\"; padding: 0 .5ex}\n",
              "</style>\n",
              "<ol class=list-inline><li>6</li><li>15</li><li>24</li></ol>\n"
            ]
          },
          "metadata": {
            "tags": []
          }
        }
      ]
    },
    {
      "cell_type": "markdown",
      "metadata": {
        "id": "4tXvhI0YZMLy"
      },
      "source": [
        "**lapply**"
      ]
    },
    {
      "cell_type": "code",
      "metadata": {
        "colab": {
          "base_uri": "https://localhost:8080/",
          "height": 79
        },
        "id": "RBH83x16ZEH-",
        "outputId": "bd0636bf-42aa-415a-b1f3-bc870eb97f04"
      },
      "source": [
        "# Função \"lappy\" é parecida com a função \"apply\". A diferença é que ela é aplicada em vetores e listas\n",
        "# inicialmente vamos criar dois vetores (\"c()\"\") numeros.p(com nrs. pares) e numeros.i(impares)\n",
        "# depois vamos criar uma lista (\"list()\") com os dois vetores criados\n",
        " \n",
        " numeros.p <- c(2,4,6,8,10,12)\n",
        " numeros.i <- c(1,3,5,7,9,11)\n",
        " numeros <- list(numeros.p, numeros.i)\n",
        " numeros\n",
        " # O resultado desse código "
      ],
      "execution_count": null,
      "outputs": [
        {
          "output_type": "display_data",
          "data": {
            "text/plain": [
              "[[1]]\n",
              "[1]  2  4  6  8 10 12\n",
              "\n",
              "[[2]]\n",
              "[1]  1  3  5  7  9 11\n"
            ],
            "text/latex": "\\begin{enumerate}\n\\item \\begin{enumerate*}\n\\item 2\n\\item 4\n\\item 6\n\\item 8\n\\item 10\n\\item 12\n\\end{enumerate*}\n\n\\item \\begin{enumerate*}\n\\item 1\n\\item 3\n\\item 5\n\\item 7\n\\item 9\n\\item 11\n\\end{enumerate*}\n\n\\end{enumerate}\n",
            "text/markdown": "1. 1. 2\n2. 4\n3. 6\n4. 8\n5. 10\n6. 12\n\n\n\n2. 1. 1\n2. 3\n3. 5\n4. 7\n5. 9\n6. 11\n\n\n\n\n\n",
            "text/html": [
              "<ol>\n",
              "\t<li><style>\n",
              ".list-inline {list-style: none; margin:0; padding: 0}\n",
              ".list-inline>li {display: inline-block}\n",
              ".list-inline>li:not(:last-child)::after {content: \"\\00b7\"; padding: 0 .5ex}\n",
              "</style>\n",
              "<ol class=list-inline><li>2</li><li>4</li><li>6</li><li>8</li><li>10</li><li>12</li></ol>\n",
              "</li>\n",
              "\t<li><style>\n",
              ".list-inline {list-style: none; margin:0; padding: 0}\n",
              ".list-inline>li {display: inline-block}\n",
              ".list-inline>li:not(:last-child)::after {content: \"\\00b7\"; padding: 0 .5ex}\n",
              "</style>\n",
              "<ol class=list-inline><li>1</li><li>3</li><li>5</li><li>7</li><li>9</li><li>11</li></ol>\n",
              "</li>\n",
              "</ol>\n"
            ]
          },
          "metadata": {
            "tags": []
          }
        }
      ]
    },
    {
      "cell_type": "code",
      "metadata": {
        "colab": {
          "base_uri": "https://localhost:8080/",
          "height": 79
        },
        "id": "RZJ9VoPUZazV",
        "outputId": "73ef968f-496f-44b2-ac36-9753100631ee"
      },
      "source": [
        "# Ao aplicar a função \"lapply()\", podemos utilizar o parametro \"mean' que retorna a média dos valores\"\n",
        "\n",
        "lapply(numeros, mean)\n",
        "# O resultado mostra a média da lista 1 = 7 e a média da lista 2 = 6"
      ],
      "execution_count": null,
      "outputs": [
        {
          "output_type": "display_data",
          "data": {
            "text/plain": [
              "[[1]]\n",
              "[1] 7\n",
              "\n",
              "[[2]]\n",
              "[1] 6\n"
            ],
            "text/latex": "\\begin{enumerate}\n\\item 7\n\\item 6\n\\end{enumerate}\n",
            "text/markdown": "1. 7\n2. 6\n\n\n",
            "text/html": [
              "<ol>\n",
              "\t<li>7</li>\n",
              "\t<li>6</li>\n",
              "</ol>\n"
            ]
          },
          "metadata": {
            "tags": []
          }
        }
      ]
    },
    {
      "cell_type": "code",
      "metadata": {
        "colab": {
          "base_uri": "https://localhost:8080/",
          "height": 34
        },
        "id": "W8UN3eoFkud_",
        "outputId": "bc009ac8-15ab-409f-aecd-545aee991c27"
      },
      "source": [
        "# Ao aplicar a função \"sapply()\" com o parâmetro \"mean\", temos o mesmo resultado , porém com uma apresentação diferente.\n",
        "sapply(numeros, mean)"
      ],
      "execution_count": null,
      "outputs": [
        {
          "output_type": "display_data",
          "data": {
            "text/plain": [
              "[1] 7 6"
            ],
            "text/latex": "\\begin{enumerate*}\n\\item 7\n\\item 6\n\\end{enumerate*}\n",
            "text/markdown": "1. 7\n2. 6\n\n\n",
            "text/html": [
              "<style>\n",
              ".list-inline {list-style: none; margin:0; padding: 0}\n",
              ".list-inline>li {display: inline-block}\n",
              ".list-inline>li:not(:last-child)::after {content: \"\\00b7\"; padding: 0 .5ex}\n",
              "</style>\n",
              "<ol class=list-inline><li>7</li><li>6</li></ol>\n"
            ]
          },
          "metadata": {
            "tags": []
          }
        }
      ]
    },
    {
      "cell_type": "code",
      "metadata": {
        "colab": {
          "base_uri": "https://localhost:8080/",
          "height": 34
        },
        "id": "ChG6CWzClDsf",
        "outputId": "8396cacc-894d-4801-cc88-5338b736e238"
      },
      "source": [
        "sapply(numeros, sum)\n",
        "# Aplicando sapply com parametro Sum = vai trazer a soma dos itens de cada uma das listas"
      ],
      "execution_count": null,
      "outputs": [
        {
          "output_type": "display_data",
          "data": {
            "text/plain": [
              "[1] 42 36"
            ],
            "text/latex": "\\begin{enumerate*}\n\\item 42\n\\item 36\n\\end{enumerate*}\n",
            "text/markdown": "1. 42\n2. 36\n\n\n",
            "text/html": [
              "<style>\n",
              ".list-inline {list-style: none; margin:0; padding: 0}\n",
              ".list-inline>li {display: inline-block}\n",
              ".list-inline>li:not(:last-child)::after {content: \"\\00b7\"; padding: 0 .5ex}\n",
              "</style>\n",
              "<ol class=list-inline><li>42</li><li>36</li></ol>\n"
            ]
          },
          "metadata": {
            "tags": []
          }
        }
      ]
    },
    {
      "cell_type": "markdown",
      "metadata": {
        "id": "pKgO8HdzlROT"
      },
      "source": [
        "# 2.10 - Criando Gráficos\n",
        "\n",
        "O ápice do estudo de análise de dados com R é a criação de gráficos.\n",
        "Os gráficos facilitam a análise e a interpretação dos dados, além de possibilitar a apresentação dos dados e auxiliar a tomada de decisão. "
      ]
    },
    {
      "cell_type": "code",
      "metadata": {
        "id": "EDzEH2kGln0B",
        "colab": {
          "base_uri": "https://localhost:8080/",
          "height": 195
        },
        "outputId": "c598feb1-b82a-465f-9c65-d30915079e05"
      },
      "source": [
        "?mtcars\n",
        "#mtcars é um dataset já na base da linguagem R. Serve para treinamentos\n",
        "#VAmos criar uma variavel \"carros\" que vai receber um vetor do dataset mtcars , nas colunas 1,2 e 9\n",
        "# É possivel consultar as posições e quais as colunas do dataset pela aba help com o comando: \"?mtcars\"\n",
        "carros <- mtcars[,c(1,2,9)]\n",
        "\n",
        "head(carros)"
      ],
      "execution_count": null,
      "outputs": [
        {
          "output_type": "display_data",
          "data": {
            "text/plain": [
              "                  mpg  cyl am\n",
              "Mazda RX4         21.0 6   1 \n",
              "Mazda RX4 Wag     21.0 6   1 \n",
              "Datsun 710        22.8 4   1 \n",
              "Hornet 4 Drive    21.4 6   0 \n",
              "Hornet Sportabout 18.7 8   0 \n",
              "Valiant           18.1 6   0 "
            ],
            "text/latex": "A data.frame: 6 × 3\n\\begin{tabular}{r|lll}\n  & mpg & cyl & am\\\\\n  & <dbl> & <dbl> & <dbl>\\\\\n\\hline\n\tMazda RX4 & 21.0 & 6 & 1\\\\\n\tMazda RX4 Wag & 21.0 & 6 & 1\\\\\n\tDatsun 710 & 22.8 & 4 & 1\\\\\n\tHornet 4 Drive & 21.4 & 6 & 0\\\\\n\tHornet Sportabout & 18.7 & 8 & 0\\\\\n\tValiant & 18.1 & 6 & 0\\\\\n\\end{tabular}\n",
            "text/markdown": "\nA data.frame: 6 × 3\n\n| <!--/--> | mpg &lt;dbl&gt; | cyl &lt;dbl&gt; | am &lt;dbl&gt; |\n|---|---|---|---|\n| Mazda RX4 | 21.0 | 6 | 1 |\n| Mazda RX4 Wag | 21.0 | 6 | 1 |\n| Datsun 710 | 22.8 | 4 | 1 |\n| Hornet 4 Drive | 21.4 | 6 | 0 |\n| Hornet Sportabout | 18.7 | 8 | 0 |\n| Valiant | 18.1 | 6 | 0 |\n\n",
            "text/html": [
              "<table>\n",
              "<caption>A data.frame: 6 × 3</caption>\n",
              "<thead>\n",
              "\t<tr><th></th><th scope=col>mpg</th><th scope=col>cyl</th><th scope=col>am</th></tr>\n",
              "\t<tr><th></th><th scope=col>&lt;dbl&gt;</th><th scope=col>&lt;dbl&gt;</th><th scope=col>&lt;dbl&gt;</th></tr>\n",
              "</thead>\n",
              "<tbody>\n",
              "\t<tr><th scope=row>Mazda RX4</th><td>21.0</td><td>6</td><td>1</td></tr>\n",
              "\t<tr><th scope=row>Mazda RX4 Wag</th><td>21.0</td><td>6</td><td>1</td></tr>\n",
              "\t<tr><th scope=row>Datsun 710</th><td>22.8</td><td>4</td><td>1</td></tr>\n",
              "\t<tr><th scope=row>Hornet 4 Drive</th><td>21.4</td><td>6</td><td>0</td></tr>\n",
              "\t<tr><th scope=row>Hornet Sportabout</th><td>18.7</td><td>8</td><td>0</td></tr>\n",
              "\t<tr><th scope=row>Valiant</th><td>18.1</td><td>6</td><td>0</td></tr>\n",
              "</tbody>\n",
              "</table>\n"
            ]
          },
          "metadata": {
            "tags": []
          }
        }
      ]
    },
    {
      "cell_type": "markdown",
      "metadata": {
        "id": "3KQoEVfX_kKM"
      },
      "source": [
        "## Histograma\n",
        "\n",
        "Um Histograma que já possui uma função em R = \"hist(dataframe$Coluna)\".\n",
        "Histograma, ou distribuição de frequências, é a representação gráfica em colunas ou em barras de um conjunto de dados previamente tabulado e dividido em classes uniformes ou não uniformes.\n",
        "A base de cada retângulo representa uma classe."
      ]
    },
    {
      "cell_type": "code",
      "metadata": {
        "colab": {
          "base_uri": "https://localhost:8080/",
          "height": 437
        },
        "id": "mLG5Wsis-7rr",
        "outputId": "7edaaff1-65b6-4fff-a672-35121ae105ec"
      },
      "source": [
        "# Utilizando o dataset criado \"carros\" vamos criar o primeiro gráfico.\n",
        "hist(carros$mpg)"
      ],
      "execution_count": null,
      "outputs": [
        {
          "output_type": "display_data",
          "data": {
            "image/png": "[encoded data removed]",
            "text/plain": [
              "Plot with title “Histogram of carros$mpg”"
            ]
          },
          "metadata": {
            "tags": [],
            "image/png": {
              "width": 420,
              "height": 420
            }
          }
        }
      ]
    },
    {
      "cell_type": "markdown",
      "metadata": {
        "id": "HcPiwChwaWY7"
      },
      "source": [
        "## Gráfico de Dispersão\n",
        "\n",
        "Analisa a relação entre duas variáveis quantitativas — uma de causa e uma de efeito. Quando você tem uma hipótese do que causou algo, mas ainda deseja comprová-la por meio de uma análise mais aprofundada.\n",
        "\n",
        "Esse tipo de diagrama traz números simultâneos das duas variáveis, deixando visível o que acontece em uma variável causou interferência na outra. Ao estudar a correlação, você tem uma variável dependente Y (efeito), que se relaciona a variáveis independentes X (causas).\n",
        "\n",
        "O modelo hipotético é: y = f (x)."
      ]
    },
    {
      "cell_type": "code",
      "metadata": {
        "colab": {
          "base_uri": "https://localhost:8080/",
          "height": 437
        },
        "id": "UecDN6z_aRrd",
        "outputId": "007cd469-5789-4105-e2b4-9374089557c3"
      },
      "source": [
        "plot(carros$mpg, carros$cyl)\n",
        "# Neste exemplo de relação entre as variavéis, podemos perceber que quanto mernor\n",
        "# o numero de cilintros(cyl), maior é o consumo do carro(mpg)"
      ],
      "execution_count": null,
      "outputs": [
        {
          "output_type": "display_data",
          "data": {
            "image/png": "[encoded data removed]",
            "text/plain": [
              "plot without title"
            ]
          },
          "metadata": {
            "tags": [],
            "image/png": {
              "width": 420,
              "height": 420
            }
          }
        }
      ]
    },
    {
      "cell_type": "markdown",
      "metadata": {
        "id": "GTtllOw3gEaR"
      },
      "source": [
        "## Pacote ggplot2\n",
        "\n",
        "O pacote ggplot2 é uma biblioteca do R que trás diversos tipos de gráficos.\n",
        "\" O ggplot2 é um pacote da linguagem R construído para visualização de dados. Ele é parte da coleção de pacotes Tidyverse, muito utilizada para análise de dados e machine learning. Hadley Wickham, cientista chefe do RStudio, e professor de estatística na Universidade de Auckland, Stanford University, e Rice University, desenvolveu o ggplot2 baseado no livro “A Gramática dos Gráficos” (The Grammar of Graphics), de Leland Wilkinson.\""
      ]
    },
    {
      "cell_type": "code",
      "metadata": {
        "colab": {
          "base_uri": "https://localhost:8080/",
          "height": 437
        },
        "id": "GptUtBUXhPpk",
        "outputId": "bfb3ffac-69f1-4eb1-fd32-b77464c872da"
      },
      "source": [
        "#Primeiro vamos instalar o pacote:\n",
        "library(ggplot2)\n",
        "# Vamos utilizar uma função do (ggplot2)\n",
        "ggplot(carros, aes(am)) +\n",
        "  geom_bar()\n",
        "# Foram utilizados dois parametros: o dataset e a coluna, A cada valor existente na\n",
        "# coluna, será criada uma barra no gráfico. \n"
      ],
      "execution_count": null,
      "outputs": [
        {
          "output_type": "display_data",
          "data": {
            "image/png": "[encoded data removed]",
            "text/plain": [
              "plot without title"
            ]
          },
          "metadata": {
            "tags": [],
            "image/png": {
              "width": 420,
              "height": 420
            }
          }
        }
      ]
    },
    {
      "cell_type": "markdown",
      "metadata": {
        "id": "PTO_lEwFCbDf"
      },
      "source": [
        "# 2.11 - Manipulação de Dados com R\n",
        "\n",
        "Vamos ver agora sobre as junções(joins). Uma forma de unir dois conjuntos de dados em um único lugar."
      ]
    },
    {
      "cell_type": "markdown",
      "metadata": {
        "id": "Ccl9s83kA4p9"
      },
      "source": [
        "## 2.11.1 - Utilizando Junções"
      ]
    },
    {
      "cell_type": "code",
      "metadata": {
        "id": "Ioce1VM8jNmI",
        "colab": {
          "base_uri": "https://localhost:8080/",
          "height": 327
        },
        "outputId": "e1e7f78c-8d2f-475e-99a3-dd8f6f16d093"
      },
      "source": [
        "# No exemplo vamos criar 2 Dataframes. O 1º com o código e preço de produtos.\n",
        "# E o 2º com o código e nome do produto.\n",
        "df1 <- data.frame(Produto = c(1,2,3,5), Preco = c(15,10,25,20))\n",
        "head(df1)\n",
        "\n",
        "df2 <- data.frame(Produto = c(1,2,3,5), Nome =c('A','B','C',''))\n",
        "head(df2)\n",
        "# Observe que ambos data.frames possuem o código do produto em comum.\n",
        "# Podemos ver os itens dos data.frame utilzando o head()"
      ],
      "execution_count": 49,
      "outputs": [
        {
          "output_type": "display_data",
          "data": {
            "text/plain": [
              "  Produto Preco\n",
              "1 1       15   \n",
              "2 2       10   \n",
              "3 3       25   \n",
              "4 5       20   "
            ],
            "text/latex": "A data.frame: 4 × 2\n\\begin{tabular}{r|ll}\n  & Produto & Preco\\\\\n  & <dbl> & <dbl>\\\\\n\\hline\n\t1 & 1 & 15\\\\\n\t2 & 2 & 10\\\\\n\t3 & 3 & 25\\\\\n\t4 & 5 & 20\\\\\n\\end{tabular}\n",
            "text/markdown": "\nA data.frame: 4 × 2\n\n| <!--/--> | Produto &lt;dbl&gt; | Preco &lt;dbl&gt; |\n|---|---|---|\n| 1 | 1 | 15 |\n| 2 | 2 | 10 |\n| 3 | 3 | 25 |\n| 4 | 5 | 20 |\n\n",
            "text/html": [
              "<table>\n",
              "<caption>A data.frame: 4 × 2</caption>\n",
              "<thead>\n",
              "\t<tr><th></th><th scope=col>Produto</th><th scope=col>Preco</th></tr>\n",
              "\t<tr><th></th><th scope=col>&lt;dbl&gt;</th><th scope=col>&lt;dbl&gt;</th></tr>\n",
              "</thead>\n",
              "<tbody>\n",
              "\t<tr><th scope=row>1</th><td>1</td><td>15</td></tr>\n",
              "\t<tr><th scope=row>2</th><td>2</td><td>10</td></tr>\n",
              "\t<tr><th scope=row>3</th><td>3</td><td>25</td></tr>\n",
              "\t<tr><th scope=row>4</th><td>5</td><td>20</td></tr>\n",
              "</tbody>\n",
              "</table>\n"
            ]
          },
          "metadata": {
            "tags": []
          }
        },
        {
          "output_type": "display_data",
          "data": {
            "text/plain": [
              "  Produto Nome\n",
              "1 1       A   \n",
              "2 2       B   \n",
              "3 3       C   \n",
              "4 5           "
            ],
            "text/latex": "A data.frame: 4 × 2\n\\begin{tabular}{r|ll}\n  & Produto & Nome\\\\\n  & <dbl> & <chr>\\\\\n\\hline\n\t1 & 1 & A\\\\\n\t2 & 2 & B\\\\\n\t3 & 3 & C\\\\\n\t4 & 5 &  \\\\\n\\end{tabular}\n",
            "text/markdown": "\nA data.frame: 4 × 2\n\n| <!--/--> | Produto &lt;dbl&gt; | Nome &lt;chr&gt; |\n|---|---|---|\n| 1 | 1 | A |\n| 2 | 2 | B |\n| 3 | 3 | C |\n| 4 | 5 | <!----> |\n\n",
            "text/html": [
              "<table>\n",
              "<caption>A data.frame: 4 × 2</caption>\n",
              "<thead>\n",
              "\t<tr><th></th><th scope=col>Produto</th><th scope=col>Nome</th></tr>\n",
              "\t<tr><th></th><th scope=col>&lt;dbl&gt;</th><th scope=col>&lt;chr&gt;</th></tr>\n",
              "</thead>\n",
              "<tbody>\n",
              "\t<tr><th scope=row>1</th><td>1</td><td>A</td></tr>\n",
              "\t<tr><th scope=row>2</th><td>2</td><td>B</td></tr>\n",
              "\t<tr><th scope=row>3</th><td>3</td><td>C</td></tr>\n",
              "\t<tr><th scope=row>4</th><td>5</td><td> </td></tr>\n",
              "</tbody>\n",
              "</table>\n"
            ]
          },
          "metadata": {
            "tags": []
          }
        }
      ]
    },
    {
      "cell_type": "code",
      "metadata": {
        "id": "PZpEXdulEVH4"
      },
      "source": [
        "library (dplyr)"
      ],
      "execution_count": 50,
      "outputs": []
    },
    {
      "cell_type": "code",
      "metadata": {
        "colab": {
          "base_uri": "https://localhost:8080/",
          "height": 294
        },
        "id": "sniFpTwiCbmr",
        "outputId": "0997ad2c-66f3-49d0-8452-3d9abd9b5a83"
      },
      "source": [
        "# Agora vamos unir os dados dos dois data.frames\n",
        "#Usar a biblioteca \"dplyr\" que já nativa na maioria das versões\n",
        "df3 <-left_join(df1,df2,\"Produto\")\n",
        "head(df3)\n",
        "\n",
        "df4 <-right_join(df1,df2,\"Produto\")\n",
        "head(df4)"
      ],
      "execution_count": 51,
      "outputs": [
        {
          "output_type": "display_data",
          "data": {
            "text/plain": [
              "  Produto Preco Nome\n",
              "1 1       15    A   \n",
              "2 2       10    B   \n",
              "3 3       25    C   \n",
              "4 5       20        "
            ],
            "text/latex": "A data.frame: 4 × 3\n\\begin{tabular}{r|lll}\n  & Produto & Preco & Nome\\\\\n  & <dbl> & <dbl> & <chr>\\\\\n\\hline\n\t1 & 1 & 15 & A\\\\\n\t2 & 2 & 10 & B\\\\\n\t3 & 3 & 25 & C\\\\\n\t4 & 5 & 20 &  \\\\\n\\end{tabular}\n",
            "text/markdown": "\nA data.frame: 4 × 3\n\n| <!--/--> | Produto &lt;dbl&gt; | Preco &lt;dbl&gt; | Nome &lt;chr&gt; |\n|---|---|---|---|\n| 1 | 1 | 15 | A |\n| 2 | 2 | 10 | B |\n| 3 | 3 | 25 | C |\n| 4 | 5 | 20 | <!----> |\n\n",
            "text/html": [
              "<table>\n",
              "<caption>A data.frame: 4 × 3</caption>\n",
              "<thead>\n",
              "\t<tr><th></th><th scope=col>Produto</th><th scope=col>Preco</th><th scope=col>Nome</th></tr>\n",
              "\t<tr><th></th><th scope=col>&lt;dbl&gt;</th><th scope=col>&lt;dbl&gt;</th><th scope=col>&lt;chr&gt;</th></tr>\n",
              "</thead>\n",
              "<tbody>\n",
              "\t<tr><th scope=row>1</th><td>1</td><td>15</td><td>A</td></tr>\n",
              "\t<tr><th scope=row>2</th><td>2</td><td>10</td><td>B</td></tr>\n",
              "\t<tr><th scope=row>3</th><td>3</td><td>25</td><td>C</td></tr>\n",
              "\t<tr><th scope=row>4</th><td>5</td><td>20</td><td> </td></tr>\n",
              "</tbody>\n",
              "</table>\n"
            ]
          },
          "metadata": {
            "tags": []
          }
        },
        {
          "output_type": "display_data",
          "data": {
            "text/plain": [
              "  Produto Preco Nome\n",
              "1 1       15    A   \n",
              "2 2       10    B   \n",
              "3 3       25    C   \n",
              "4 5       20        "
            ],
            "text/latex": "A data.frame: 4 × 3\n\\begin{tabular}{r|lll}\n  & Produto & Preco & Nome\\\\\n  & <dbl> & <dbl> & <chr>\\\\\n\\hline\n\t1 & 1 & 15 & A\\\\\n\t2 & 2 & 10 & B\\\\\n\t3 & 3 & 25 & C\\\\\n\t4 & 5 & 20 &  \\\\\n\\end{tabular}\n",
            "text/markdown": "\nA data.frame: 4 × 3\n\n| <!--/--> | Produto &lt;dbl&gt; | Preco &lt;dbl&gt; | Nome &lt;chr&gt; |\n|---|---|---|---|\n| 1 | 1 | 15 | A |\n| 2 | 2 | 10 | B |\n| 3 | 3 | 25 | C |\n| 4 | 5 | 20 | <!----> |\n\n",
            "text/html": [
              "<table>\n",
              "<caption>A data.frame: 4 × 3</caption>\n",
              "<thead>\n",
              "\t<tr><th></th><th scope=col>Produto</th><th scope=col>Preco</th><th scope=col>Nome</th></tr>\n",
              "\t<tr><th></th><th scope=col>&lt;dbl&gt;</th><th scope=col>&lt;dbl&gt;</th><th scope=col>&lt;chr&gt;</th></tr>\n",
              "</thead>\n",
              "<tbody>\n",
              "\t<tr><th scope=row>1</th><td>1</td><td>15</td><td>A</td></tr>\n",
              "\t<tr><th scope=row>2</th><td>2</td><td>10</td><td>B</td></tr>\n",
              "\t<tr><th scope=row>3</th><td>3</td><td>25</td><td>C</td></tr>\n",
              "\t<tr><th scope=row>4</th><td>5</td><td>20</td><td> </td></tr>\n",
              "</tbody>\n",
              "</table>\n"
            ]
          },
          "metadata": {
            "tags": []
          }
        }
      ]
    },
    {
      "cell_type": "code",
      "metadata": {
        "colab": {
          "base_uri": "https://localhost:8080/",
          "height": 155
        },
        "id": "fERNja9dCbvu",
        "outputId": "74a3a446-dac2-45d6-bb9e-fe60ec336761"
      },
      "source": [
        "# Podemos utilizar a função \"inner_join()\" para unir os valores de duas tabelas\n",
        "df5 <- inner_join(df1,df2,'Produto')\n",
        "head(df5)"
      ],
      "execution_count": 52,
      "outputs": [
        {
          "output_type": "display_data",
          "data": {
            "text/plain": [
              "  Produto Preco Nome\n",
              "1 1       15    A   \n",
              "2 2       10    B   \n",
              "3 3       25    C   \n",
              "4 5       20        "
            ],
            "text/latex": "A data.frame: 4 × 3\n\\begin{tabular}{r|lll}\n  & Produto & Preco & Nome\\\\\n  & <dbl> & <dbl> & <chr>\\\\\n\\hline\n\t1 & 1 & 15 & A\\\\\n\t2 & 2 & 10 & B\\\\\n\t3 & 3 & 25 & C\\\\\n\t4 & 5 & 20 &  \\\\\n\\end{tabular}\n",
            "text/markdown": "\nA data.frame: 4 × 3\n\n| <!--/--> | Produto &lt;dbl&gt; | Preco &lt;dbl&gt; | Nome &lt;chr&gt; |\n|---|---|---|---|\n| 1 | 1 | 15 | A |\n| 2 | 2 | 10 | B |\n| 3 | 3 | 25 | C |\n| 4 | 5 | 20 | <!----> |\n\n",
            "text/html": [
              "<table>\n",
              "<caption>A data.frame: 4 × 3</caption>\n",
              "<thead>\n",
              "\t<tr><th></th><th scope=col>Produto</th><th scope=col>Preco</th><th scope=col>Nome</th></tr>\n",
              "\t<tr><th></th><th scope=col>&lt;dbl&gt;</th><th scope=col>&lt;dbl&gt;</th><th scope=col>&lt;chr&gt;</th></tr>\n",
              "</thead>\n",
              "<tbody>\n",
              "\t<tr><th scope=row>1</th><td>1</td><td>15</td><td>A</td></tr>\n",
              "\t<tr><th scope=row>2</th><td>2</td><td>10</td><td>B</td></tr>\n",
              "\t<tr><th scope=row>3</th><td>3</td><td>25</td><td>C</td></tr>\n",
              "\t<tr><th scope=row>4</th><td>5</td><td>20</td><td> </td></tr>\n",
              "</tbody>\n",
              "</table>\n"
            ]
          },
          "metadata": {
            "tags": []
          }
        }
      ]
    },
    {
      "cell_type": "markdown",
      "metadata": {
        "id": "9yfgzNWwBELV"
      },
      "source": [
        "## 2.11.2 - Selecionando os Dados"
      ]
    },
    {
      "cell_type": "code",
      "metadata": {
        "colab": {
          "base_uri": "https://localhost:8080/",
          "height": 195
        },
        "id": "tCVCMGI7HVX6",
        "outputId": "6de7cdd7-13b7-46ec-d500-851a64bbcc28"
      },
      "source": [
        "# Vamos explorar mais à manipulação de dados com as funções do “dplyr” \n",
        "# Vamos utilizar o dataset \"iris\" que já vem na base do R. para treinamento.\n",
        "# Importante saber que o \"iris\" possui das medidas(centimetros), da pétala e da\n",
        "# sepala de uma flor. Essa flor possui 3 tipos: setosa, virgínica e versicolor.\n",
        "\n",
        "head(iris)"
      ],
      "execution_count": 53,
      "outputs": [
        {
          "output_type": "display_data",
          "data": {
            "text/plain": [
              "  Sepal.Length Sepal.Width Petal.Length Petal.Width Species\n",
              "1 5.1          3.5         1.4          0.2         setosa \n",
              "2 4.9          3.0         1.4          0.2         setosa \n",
              "3 4.7          3.2         1.3          0.2         setosa \n",
              "4 4.6          3.1         1.5          0.2         setosa \n",
              "5 5.0          3.6         1.4          0.2         setosa \n",
              "6 5.4          3.9         1.7          0.4         setosa "
            ],
            "text/latex": "A data.frame: 6 × 5\n\\begin{tabular}{r|lllll}\n  & Sepal.Length & Sepal.Width & Petal.Length & Petal.Width & Species\\\\\n  & <dbl> & <dbl> & <dbl> & <dbl> & <fct>\\\\\n\\hline\n\t1 & 5.1 & 3.5 & 1.4 & 0.2 & setosa\\\\\n\t2 & 4.9 & 3.0 & 1.4 & 0.2 & setosa\\\\\n\t3 & 4.7 & 3.2 & 1.3 & 0.2 & setosa\\\\\n\t4 & 4.6 & 3.1 & 1.5 & 0.2 & setosa\\\\\n\t5 & 5.0 & 3.6 & 1.4 & 0.2 & setosa\\\\\n\t6 & 5.4 & 3.9 & 1.7 & 0.4 & setosa\\\\\n\\end{tabular}\n",
            "text/markdown": "\nA data.frame: 6 × 5\n\n| <!--/--> | Sepal.Length &lt;dbl&gt; | Sepal.Width &lt;dbl&gt; | Petal.Length &lt;dbl&gt; | Petal.Width &lt;dbl&gt; | Species &lt;fct&gt; |\n|---|---|---|---|---|---|\n| 1 | 5.1 | 3.5 | 1.4 | 0.2 | setosa |\n| 2 | 4.9 | 3.0 | 1.4 | 0.2 | setosa |\n| 3 | 4.7 | 3.2 | 1.3 | 0.2 | setosa |\n| 4 | 4.6 | 3.1 | 1.5 | 0.2 | setosa |\n| 5 | 5.0 | 3.6 | 1.4 | 0.2 | setosa |\n| 6 | 5.4 | 3.9 | 1.7 | 0.4 | setosa |\n\n",
            "text/html": [
              "<table>\n",
              "<caption>A data.frame: 6 × 5</caption>\n",
              "<thead>\n",
              "\t<tr><th></th><th scope=col>Sepal.Length</th><th scope=col>Sepal.Width</th><th scope=col>Petal.Length</th><th scope=col>Petal.Width</th><th scope=col>Species</th></tr>\n",
              "\t<tr><th></th><th scope=col>&lt;dbl&gt;</th><th scope=col>&lt;dbl&gt;</th><th scope=col>&lt;dbl&gt;</th><th scope=col>&lt;dbl&gt;</th><th scope=col>&lt;fct&gt;</th></tr>\n",
              "</thead>\n",
              "<tbody>\n",
              "\t<tr><th scope=row>1</th><td>5.1</td><td>3.5</td><td>1.4</td><td>0.2</td><td>setosa</td></tr>\n",
              "\t<tr><th scope=row>2</th><td>4.9</td><td>3.0</td><td>1.4</td><td>0.2</td><td>setosa</td></tr>\n",
              "\t<tr><th scope=row>3</th><td>4.7</td><td>3.2</td><td>1.3</td><td>0.2</td><td>setosa</td></tr>\n",
              "\t<tr><th scope=row>4</th><td>4.6</td><td>3.1</td><td>1.5</td><td>0.2</td><td>setosa</td></tr>\n",
              "\t<tr><th scope=row>5</th><td>5.0</td><td>3.6</td><td>1.4</td><td>0.2</td><td>setosa</td></tr>\n",
              "\t<tr><th scope=row>6</th><td>5.4</td><td>3.9</td><td>1.7</td><td>0.4</td><td>setosa</td></tr>\n",
              "</tbody>\n",
              "</table>\n"
            ]
          },
          "metadata": {
            "tags": []
          }
        }
      ]
    },
    {
      "cell_type": "code",
      "metadata": {
        "colab": {
          "base_uri": "https://localhost:8080/"
        },
        "id": "Fe5qbX-xQGbo",
        "outputId": "31d127e1-37d5-49b2-fe73-27350a7f4ab6"
      },
      "source": [
        "# para obeter informações (Nr.de observações, variavéis, tipo e valores das colunas) do dataset podemos usar a função \"glimpse()\"\n",
        "glimpse(iris)\n",
        "# No cvaso o \"iris\" possui 150 linhas e 5 colunas"
      ],
      "execution_count": 54,
      "outputs": [
        {
          "output_type": "stream",
          "text": [
            "Rows: 150\n",
            "Columns: 5\n",
            "$ Sepal.Length \u001b[3m\u001b[90m<dbl>\u001b[39m\u001b[23m 5.1, 4.9, 4.7, 4.6, 5.0, 5.4, 4.6, 5.0, 4.4, 4.9, 5.4, 4…\n",
            "$ Sepal.Width  \u001b[3m\u001b[90m<dbl>\u001b[39m\u001b[23m 3.5, 3.0, 3.2, 3.1, 3.6, 3.9, 3.4, 3.4, 2.9, 3.1, 3.7, 3…\n",
            "$ Petal.Length \u001b[3m\u001b[90m<dbl>\u001b[39m\u001b[23m 1.4, 1.4, 1.3, 1.5, 1.4, 1.7, 1.4, 1.5, 1.4, 1.5, 1.5, 1…\n",
            "$ Petal.Width  \u001b[3m\u001b[90m<dbl>\u001b[39m\u001b[23m 0.2, 0.2, 0.2, 0.2, 0.2, 0.4, 0.3, 0.2, 0.2, 0.1, 0.2, 0…\n",
            "$ Species      \u001b[3m\u001b[90m<fct>\u001b[39m\u001b[23m setosa, setosa, setosa, setosa, setosa, setosa, setosa, …\n"
          ],
          "name": "stdout"
        }
      ]
    },
    {
      "cell_type": "code",
      "metadata": {
        "colab": {
          "base_uri": "https://localhost:8080/",
          "height": 212
        },
        "id": "cngvp1DCQlsB",
        "outputId": "73229e1c-352e-4472-b836-018dc45e0609"
      },
      "source": [
        "# Para filtrar os dados usamos a função: \"filter()\"\n",
        "versicolor <- filter(iris, Species == \"versicolor\")\n",
        "dim(versicolor) # mostra as dimensões da coluna, neste caso = 50x5 (50 linhas e 5 colunas)\n",
        "head(versicolor)"
      ],
      "execution_count": 55,
      "outputs": [
        {
          "output_type": "display_data",
          "data": {
            "text/plain": [
              "[1] 50  5"
            ],
            "text/latex": "\\begin{enumerate*}\n\\item 50\n\\item 5\n\\end{enumerate*}\n",
            "text/markdown": "1. 50\n2. 5\n\n\n",
            "text/html": [
              "<style>\n",
              ".list-inline {list-style: none; margin:0; padding: 0}\n",
              ".list-inline>li {display: inline-block}\n",
              ".list-inline>li:not(:last-child)::after {content: \"\\00b7\"; padding: 0 .5ex}\n",
              "</style>\n",
              "<ol class=list-inline><li>50</li><li>5</li></ol>\n"
            ]
          },
          "metadata": {
            "tags": []
          }
        },
        {
          "output_type": "display_data",
          "data": {
            "text/plain": [
              "  Sepal.Length Sepal.Width Petal.Length Petal.Width Species   \n",
              "1 7.0          3.2         4.7          1.4         versicolor\n",
              "2 6.4          3.2         4.5          1.5         versicolor\n",
              "3 6.9          3.1         4.9          1.5         versicolor\n",
              "4 5.5          2.3         4.0          1.3         versicolor\n",
              "5 6.5          2.8         4.6          1.5         versicolor\n",
              "6 5.7          2.8         4.5          1.3         versicolor"
            ],
            "text/latex": "A data.frame: 6 × 5\n\\begin{tabular}{r|lllll}\n  & Sepal.Length & Sepal.Width & Petal.Length & Petal.Width & Species\\\\\n  & <dbl> & <dbl> & <dbl> & <dbl> & <fct>\\\\\n\\hline\n\t1 & 7.0 & 3.2 & 4.7 & 1.4 & versicolor\\\\\n\t2 & 6.4 & 3.2 & 4.5 & 1.5 & versicolor\\\\\n\t3 & 6.9 & 3.1 & 4.9 & 1.5 & versicolor\\\\\n\t4 & 5.5 & 2.3 & 4.0 & 1.3 & versicolor\\\\\n\t5 & 6.5 & 2.8 & 4.6 & 1.5 & versicolor\\\\\n\t6 & 5.7 & 2.8 & 4.5 & 1.3 & versicolor\\\\\n\\end{tabular}\n",
            "text/markdown": "\nA data.frame: 6 × 5\n\n| <!--/--> | Sepal.Length &lt;dbl&gt; | Sepal.Width &lt;dbl&gt; | Petal.Length &lt;dbl&gt; | Petal.Width &lt;dbl&gt; | Species &lt;fct&gt; |\n|---|---|---|---|---|---|\n| 1 | 7.0 | 3.2 | 4.7 | 1.4 | versicolor |\n| 2 | 6.4 | 3.2 | 4.5 | 1.5 | versicolor |\n| 3 | 6.9 | 3.1 | 4.9 | 1.5 | versicolor |\n| 4 | 5.5 | 2.3 | 4.0 | 1.3 | versicolor |\n| 5 | 6.5 | 2.8 | 4.6 | 1.5 | versicolor |\n| 6 | 5.7 | 2.8 | 4.5 | 1.3 | versicolor |\n\n",
            "text/html": [
              "<table>\n",
              "<caption>A data.frame: 6 × 5</caption>\n",
              "<thead>\n",
              "\t<tr><th></th><th scope=col>Sepal.Length</th><th scope=col>Sepal.Width</th><th scope=col>Petal.Length</th><th scope=col>Petal.Width</th><th scope=col>Species</th></tr>\n",
              "\t<tr><th></th><th scope=col>&lt;dbl&gt;</th><th scope=col>&lt;dbl&gt;</th><th scope=col>&lt;dbl&gt;</th><th scope=col>&lt;dbl&gt;</th><th scope=col>&lt;fct&gt;</th></tr>\n",
              "</thead>\n",
              "<tbody>\n",
              "\t<tr><th scope=row>1</th><td>7.0</td><td>3.2</td><td>4.7</td><td>1.4</td><td>versicolor</td></tr>\n",
              "\t<tr><th scope=row>2</th><td>6.4</td><td>3.2</td><td>4.5</td><td>1.5</td><td>versicolor</td></tr>\n",
              "\t<tr><th scope=row>3</th><td>6.9</td><td>3.1</td><td>4.9</td><td>1.5</td><td>versicolor</td></tr>\n",
              "\t<tr><th scope=row>4</th><td>5.5</td><td>2.3</td><td>4.0</td><td>1.3</td><td>versicolor</td></tr>\n",
              "\t<tr><th scope=row>5</th><td>6.5</td><td>2.8</td><td>4.6</td><td>1.5</td><td>versicolor</td></tr>\n",
              "\t<tr><th scope=row>6</th><td>5.7</td><td>2.8</td><td>4.5</td><td>1.3</td><td>versicolor</td></tr>\n",
              "</tbody>\n",
              "</table>\n"
            ]
          },
          "metadata": {
            "tags": []
          }
        }
      ]
    },
    {
      "cell_type": "code",
      "metadata": {
        "colab": {
          "base_uri": "https://localhost:8080/",
          "height": 274
        },
        "id": "-bBmAFHMRYhn",
        "outputId": "08753cbc-a048-40ae-b292-204097a01cb5"
      },
      "source": [
        "# Para selecionar algumas linhas especificas usamos o \"slice()\"\n",
        "slice(versicolor, 9:11) # é informado o intervalo das posições \n",
        "slice(iris, 1:4)"
      ],
      "execution_count": 56,
      "outputs": [
        {
          "output_type": "display_data",
          "data": {
            "text/plain": [
              "  Sepal.Length Sepal.Width Petal.Length Petal.Width Species   \n",
              "1 6.6          2.9         4.6          1.3         versicolor\n",
              "2 5.2          2.7         3.9          1.4         versicolor\n",
              "3 5.0          2.0         3.5          1.0         versicolor"
            ],
            "text/latex": "A data.frame: 3 × 5\n\\begin{tabular}{lllll}\n Sepal.Length & Sepal.Width & Petal.Length & Petal.Width & Species\\\\\n <dbl> & <dbl> & <dbl> & <dbl> & <fct>\\\\\n\\hline\n\t 6.6 & 2.9 & 4.6 & 1.3 & versicolor\\\\\n\t 5.2 & 2.7 & 3.9 & 1.4 & versicolor\\\\\n\t 5.0 & 2.0 & 3.5 & 1.0 & versicolor\\\\\n\\end{tabular}\n",
            "text/markdown": "\nA data.frame: 3 × 5\n\n| Sepal.Length &lt;dbl&gt; | Sepal.Width &lt;dbl&gt; | Petal.Length &lt;dbl&gt; | Petal.Width &lt;dbl&gt; | Species &lt;fct&gt; |\n|---|---|---|---|---|\n| 6.6 | 2.9 | 4.6 | 1.3 | versicolor |\n| 5.2 | 2.7 | 3.9 | 1.4 | versicolor |\n| 5.0 | 2.0 | 3.5 | 1.0 | versicolor |\n\n",
            "text/html": [
              "<table>\n",
              "<caption>A data.frame: 3 × 5</caption>\n",
              "<thead>\n",
              "\t<tr><th scope=col>Sepal.Length</th><th scope=col>Sepal.Width</th><th scope=col>Petal.Length</th><th scope=col>Petal.Width</th><th scope=col>Species</th></tr>\n",
              "\t<tr><th scope=col>&lt;dbl&gt;</th><th scope=col>&lt;dbl&gt;</th><th scope=col>&lt;dbl&gt;</th><th scope=col>&lt;dbl&gt;</th><th scope=col>&lt;fct&gt;</th></tr>\n",
              "</thead>\n",
              "<tbody>\n",
              "\t<tr><td>6.6</td><td>2.9</td><td>4.6</td><td>1.3</td><td>versicolor</td></tr>\n",
              "\t<tr><td>5.2</td><td>2.7</td><td>3.9</td><td>1.4</td><td>versicolor</td></tr>\n",
              "\t<tr><td>5.0</td><td>2.0</td><td>3.5</td><td>1.0</td><td>versicolor</td></tr>\n",
              "</tbody>\n",
              "</table>\n"
            ]
          },
          "metadata": {
            "tags": []
          }
        },
        {
          "output_type": "display_data",
          "data": {
            "text/plain": [
              "  Sepal.Length Sepal.Width Petal.Length Petal.Width Species\n",
              "1 5.1          3.5         1.4          0.2         setosa \n",
              "2 4.9          3.0         1.4          0.2         setosa \n",
              "3 4.7          3.2         1.3          0.2         setosa \n",
              "4 4.6          3.1         1.5          0.2         setosa "
            ],
            "text/latex": "A data.frame: 4 × 5\n\\begin{tabular}{lllll}\n Sepal.Length & Sepal.Width & Petal.Length & Petal.Width & Species\\\\\n <dbl> & <dbl> & <dbl> & <dbl> & <fct>\\\\\n\\hline\n\t 5.1 & 3.5 & 1.4 & 0.2 & setosa\\\\\n\t 4.9 & 3.0 & 1.4 & 0.2 & setosa\\\\\n\t 4.7 & 3.2 & 1.3 & 0.2 & setosa\\\\\n\t 4.6 & 3.1 & 1.5 & 0.2 & setosa\\\\\n\\end{tabular}\n",
            "text/markdown": "\nA data.frame: 4 × 5\n\n| Sepal.Length &lt;dbl&gt; | Sepal.Width &lt;dbl&gt; | Petal.Length &lt;dbl&gt; | Petal.Width &lt;dbl&gt; | Species &lt;fct&gt; |\n|---|---|---|---|---|\n| 5.1 | 3.5 | 1.4 | 0.2 | setosa |\n| 4.9 | 3.0 | 1.4 | 0.2 | setosa |\n| 4.7 | 3.2 | 1.3 | 0.2 | setosa |\n| 4.6 | 3.1 | 1.5 | 0.2 | setosa |\n\n",
            "text/html": [
              "<table>\n",
              "<caption>A data.frame: 4 × 5</caption>\n",
              "<thead>\n",
              "\t<tr><th scope=col>Sepal.Length</th><th scope=col>Sepal.Width</th><th scope=col>Petal.Length</th><th scope=col>Petal.Width</th><th scope=col>Species</th></tr>\n",
              "\t<tr><th scope=col>&lt;dbl&gt;</th><th scope=col>&lt;dbl&gt;</th><th scope=col>&lt;dbl&gt;</th><th scope=col>&lt;dbl&gt;</th><th scope=col>&lt;fct&gt;</th></tr>\n",
              "</thead>\n",
              "<tbody>\n",
              "\t<tr><td>5.1</td><td>3.5</td><td>1.4</td><td>0.2</td><td>setosa</td></tr>\n",
              "\t<tr><td>4.9</td><td>3.0</td><td>1.4</td><td>0.2</td><td>setosa</td></tr>\n",
              "\t<tr><td>4.7</td><td>3.2</td><td>1.3</td><td>0.2</td><td>setosa</td></tr>\n",
              "\t<tr><td>4.6</td><td>3.1</td><td>1.5</td><td>0.2</td><td>setosa</td></tr>\n",
              "</tbody>\n",
              "</table>\n"
            ]
          },
          "metadata": {
            "tags": []
          }
        }
      ]
    },
    {
      "cell_type": "code",
      "metadata": {
        "colab": {
          "base_uri": "https://localhost:8080/",
          "height": 1000
        },
        "id": "0N921zaSR1im",
        "outputId": "fda1da8e-bd21-498f-a18e-81d4567e0596"
      },
      "source": [
        "# Para aplicar o Filtro por Coluinas utilizamos a função \"select()\"\n",
        "select(versicolor, 2:4)\n",
        "select(iris, 2:4)"
      ],
      "execution_count": 57,
      "outputs": [
        {
          "output_type": "display_data",
          "data": {
            "text/plain": [
              "   Sepal.Width Petal.Length Petal.Width\n",
              "1  3.2         4.7          1.4        \n",
              "2  3.2         4.5          1.5        \n",
              "3  3.1         4.9          1.5        \n",
              "4  2.3         4.0          1.3        \n",
              "5  2.8         4.6          1.5        \n",
              "6  2.8         4.5          1.3        \n",
              "7  3.3         4.7          1.6        \n",
              "8  2.4         3.3          1.0        \n",
              "9  2.9         4.6          1.3        \n",
              "10 2.7         3.9          1.4        \n",
              "11 2.0         3.5          1.0        \n",
              "12 3.0         4.2          1.5        \n",
              "13 2.2         4.0          1.0        \n",
              "14 2.9         4.7          1.4        \n",
              "15 2.9         3.6          1.3        \n",
              "16 3.1         4.4          1.4        \n",
              "17 3.0         4.5          1.5        \n",
              "18 2.7         4.1          1.0        \n",
              "19 2.2         4.5          1.5        \n",
              "20 2.5         3.9          1.1        \n",
              "21 3.2         4.8          1.8        \n",
              "22 2.8         4.0          1.3        \n",
              "23 2.5         4.9          1.5        \n",
              "24 2.8         4.7          1.2        \n",
              "25 2.9         4.3          1.3        \n",
              "26 3.0         4.4          1.4        \n",
              "27 2.8         4.8          1.4        \n",
              "28 3.0         5.0          1.7        \n",
              "29 2.9         4.5          1.5        \n",
              "30 2.6         3.5          1.0        \n",
              "31 2.4         3.8          1.1        \n",
              "32 2.4         3.7          1.0        \n",
              "33 2.7         3.9          1.2        \n",
              "34 2.7         5.1          1.6        \n",
              "35 3.0         4.5          1.5        \n",
              "36 3.4         4.5          1.6        \n",
              "37 3.1         4.7          1.5        \n",
              "38 2.3         4.4          1.3        \n",
              "39 3.0         4.1          1.3        \n",
              "40 2.5         4.0          1.3        \n",
              "41 2.6         4.4          1.2        \n",
              "42 3.0         4.6          1.4        \n",
              "43 2.6         4.0          1.2        \n",
              "44 2.3         3.3          1.0        \n",
              "45 2.7         4.2          1.3        \n",
              "46 3.0         4.2          1.2        \n",
              "47 2.9         4.2          1.3        \n",
              "48 2.9         4.3          1.3        \n",
              "49 2.5         3.0          1.1        \n",
              "50 2.8         4.1          1.3        "
            ],
            "text/latex": "A data.frame: 50 × 3\n\\begin{tabular}{lll}\n Sepal.Width & Petal.Length & Petal.Width\\\\\n <dbl> & <dbl> & <dbl>\\\\\n\\hline\n\t 3.2 & 4.7 & 1.4\\\\\n\t 3.2 & 4.5 & 1.5\\\\\n\t 3.1 & 4.9 & 1.5\\\\\n\t 2.3 & 4.0 & 1.3\\\\\n\t 2.8 & 4.6 & 1.5\\\\\n\t 2.8 & 4.5 & 1.3\\\\\n\t 3.3 & 4.7 & 1.6\\\\\n\t 2.4 & 3.3 & 1.0\\\\\n\t 2.9 & 4.6 & 1.3\\\\\n\t 2.7 & 3.9 & 1.4\\\\\n\t 2.0 & 3.5 & 1.0\\\\\n\t 3.0 & 4.2 & 1.5\\\\\n\t 2.2 & 4.0 & 1.0\\\\\n\t 2.9 & 4.7 & 1.4\\\\\n\t 2.9 & 3.6 & 1.3\\\\\n\t 3.1 & 4.4 & 1.4\\\\\n\t 3.0 & 4.5 & 1.5\\\\\n\t 2.7 & 4.1 & 1.0\\\\\n\t 2.2 & 4.5 & 1.5\\\\\n\t 2.5 & 3.9 & 1.1\\\\\n\t 3.2 & 4.8 & 1.8\\\\\n\t 2.8 & 4.0 & 1.3\\\\\n\t 2.5 & 4.9 & 1.5\\\\\n\t 2.8 & 4.7 & 1.2\\\\\n\t 2.9 & 4.3 & 1.3\\\\\n\t 3.0 & 4.4 & 1.4\\\\\n\t 2.8 & 4.8 & 1.4\\\\\n\t 3.0 & 5.0 & 1.7\\\\\n\t 2.9 & 4.5 & 1.5\\\\\n\t 2.6 & 3.5 & 1.0\\\\\n\t 2.4 & 3.8 & 1.1\\\\\n\t 2.4 & 3.7 & 1.0\\\\\n\t 2.7 & 3.9 & 1.2\\\\\n\t 2.7 & 5.1 & 1.6\\\\\n\t 3.0 & 4.5 & 1.5\\\\\n\t 3.4 & 4.5 & 1.6\\\\\n\t 3.1 & 4.7 & 1.5\\\\\n\t 2.3 & 4.4 & 1.3\\\\\n\t 3.0 & 4.1 & 1.3\\\\\n\t 2.5 & 4.0 & 1.3\\\\\n\t 2.6 & 4.4 & 1.2\\\\\n\t 3.0 & 4.6 & 1.4\\\\\n\t 2.6 & 4.0 & 1.2\\\\\n\t 2.3 & 3.3 & 1.0\\\\\n\t 2.7 & 4.2 & 1.3\\\\\n\t 3.0 & 4.2 & 1.2\\\\\n\t 2.9 & 4.2 & 1.3\\\\\n\t 2.9 & 4.3 & 1.3\\\\\n\t 2.5 & 3.0 & 1.1\\\\\n\t 2.8 & 4.1 & 1.3\\\\\n\\end{tabular}\n",
            "text/markdown": "\nA data.frame: 50 × 3\n\n| Sepal.Width &lt;dbl&gt; | Petal.Length &lt;dbl&gt; | Petal.Width &lt;dbl&gt; |\n|---|---|---|\n| 3.2 | 4.7 | 1.4 |\n| 3.2 | 4.5 | 1.5 |\n| 3.1 | 4.9 | 1.5 |\n| 2.3 | 4.0 | 1.3 |\n| 2.8 | 4.6 | 1.5 |\n| 2.8 | 4.5 | 1.3 |\n| 3.3 | 4.7 | 1.6 |\n| 2.4 | 3.3 | 1.0 |\n| 2.9 | 4.6 | 1.3 |\n| 2.7 | 3.9 | 1.4 |\n| 2.0 | 3.5 | 1.0 |\n| 3.0 | 4.2 | 1.5 |\n| 2.2 | 4.0 | 1.0 |\n| 2.9 | 4.7 | 1.4 |\n| 2.9 | 3.6 | 1.3 |\n| 3.1 | 4.4 | 1.4 |\n| 3.0 | 4.5 | 1.5 |\n| 2.7 | 4.1 | 1.0 |\n| 2.2 | 4.5 | 1.5 |\n| 2.5 | 3.9 | 1.1 |\n| 3.2 | 4.8 | 1.8 |\n| 2.8 | 4.0 | 1.3 |\n| 2.5 | 4.9 | 1.5 |\n| 2.8 | 4.7 | 1.2 |\n| 2.9 | 4.3 | 1.3 |\n| 3.0 | 4.4 | 1.4 |\n| 2.8 | 4.8 | 1.4 |\n| 3.0 | 5.0 | 1.7 |\n| 2.9 | 4.5 | 1.5 |\n| 2.6 | 3.5 | 1.0 |\n| 2.4 | 3.8 | 1.1 |\n| 2.4 | 3.7 | 1.0 |\n| 2.7 | 3.9 | 1.2 |\n| 2.7 | 5.1 | 1.6 |\n| 3.0 | 4.5 | 1.5 |\n| 3.4 | 4.5 | 1.6 |\n| 3.1 | 4.7 | 1.5 |\n| 2.3 | 4.4 | 1.3 |\n| 3.0 | 4.1 | 1.3 |\n| 2.5 | 4.0 | 1.3 |\n| 2.6 | 4.4 | 1.2 |\n| 3.0 | 4.6 | 1.4 |\n| 2.6 | 4.0 | 1.2 |\n| 2.3 | 3.3 | 1.0 |\n| 2.7 | 4.2 | 1.3 |\n| 3.0 | 4.2 | 1.2 |\n| 2.9 | 4.2 | 1.3 |\n| 2.9 | 4.3 | 1.3 |\n| 2.5 | 3.0 | 1.1 |\n| 2.8 | 4.1 | 1.3 |\n\n",
            "text/html": [
              "<table>\n",
              "<caption>A data.frame: 50 × 3</caption>\n",
              "<thead>\n",
              "\t<tr><th scope=col>Sepal.Width</th><th scope=col>Petal.Length</th><th scope=col>Petal.Width</th></tr>\n",
              "\t<tr><th scope=col>&lt;dbl&gt;</th><th scope=col>&lt;dbl&gt;</th><th scope=col>&lt;dbl&gt;</th></tr>\n",
              "</thead>\n",
              "<tbody>\n",
              "\t<tr><td>3.2</td><td>4.7</td><td>1.4</td></tr>\n",
              "\t<tr><td>3.2</td><td>4.5</td><td>1.5</td></tr>\n",
              "\t<tr><td>3.1</td><td>4.9</td><td>1.5</td></tr>\n",
              "\t<tr><td>2.3</td><td>4.0</td><td>1.3</td></tr>\n",
              "\t<tr><td>2.8</td><td>4.6</td><td>1.5</td></tr>\n",
              "\t<tr><td>2.8</td><td>4.5</td><td>1.3</td></tr>\n",
              "\t<tr><td>3.3</td><td>4.7</td><td>1.6</td></tr>\n",
              "\t<tr><td>2.4</td><td>3.3</td><td>1.0</td></tr>\n",
              "\t<tr><td>2.9</td><td>4.6</td><td>1.3</td></tr>\n",
              "\t<tr><td>2.7</td><td>3.9</td><td>1.4</td></tr>\n",
              "\t<tr><td>2.0</td><td>3.5</td><td>1.0</td></tr>\n",
              "\t<tr><td>3.0</td><td>4.2</td><td>1.5</td></tr>\n",
              "\t<tr><td>2.2</td><td>4.0</td><td>1.0</td></tr>\n",
              "\t<tr><td>2.9</td><td>4.7</td><td>1.4</td></tr>\n",
              "\t<tr><td>2.9</td><td>3.6</td><td>1.3</td></tr>\n",
              "\t<tr><td>3.1</td><td>4.4</td><td>1.4</td></tr>\n",
              "\t<tr><td>3.0</td><td>4.5</td><td>1.5</td></tr>\n",
              "\t<tr><td>2.7</td><td>4.1</td><td>1.0</td></tr>\n",
              "\t<tr><td>2.2</td><td>4.5</td><td>1.5</td></tr>\n",
              "\t<tr><td>2.5</td><td>3.9</td><td>1.1</td></tr>\n",
              "\t<tr><td>3.2</td><td>4.8</td><td>1.8</td></tr>\n",
              "\t<tr><td>2.8</td><td>4.0</td><td>1.3</td></tr>\n",
              "\t<tr><td>2.5</td><td>4.9</td><td>1.5</td></tr>\n",
              "\t<tr><td>2.8</td><td>4.7</td><td>1.2</td></tr>\n",
              "\t<tr><td>2.9</td><td>4.3</td><td>1.3</td></tr>\n",
              "\t<tr><td>3.0</td><td>4.4</td><td>1.4</td></tr>\n",
              "\t<tr><td>2.8</td><td>4.8</td><td>1.4</td></tr>\n",
              "\t<tr><td>3.0</td><td>5.0</td><td>1.7</td></tr>\n",
              "\t<tr><td>2.9</td><td>4.5</td><td>1.5</td></tr>\n",
              "\t<tr><td>2.6</td><td>3.5</td><td>1.0</td></tr>\n",
              "\t<tr><td>2.4</td><td>3.8</td><td>1.1</td></tr>\n",
              "\t<tr><td>2.4</td><td>3.7</td><td>1.0</td></tr>\n",
              "\t<tr><td>2.7</td><td>3.9</td><td>1.2</td></tr>\n",
              "\t<tr><td>2.7</td><td>5.1</td><td>1.6</td></tr>\n",
              "\t<tr><td>3.0</td><td>4.5</td><td>1.5</td></tr>\n",
              "\t<tr><td>3.4</td><td>4.5</td><td>1.6</td></tr>\n",
              "\t<tr><td>3.1</td><td>4.7</td><td>1.5</td></tr>\n",
              "\t<tr><td>2.3</td><td>4.4</td><td>1.3</td></tr>\n",
              "\t<tr><td>3.0</td><td>4.1</td><td>1.3</td></tr>\n",
              "\t<tr><td>2.5</td><td>4.0</td><td>1.3</td></tr>\n",
              "\t<tr><td>2.6</td><td>4.4</td><td>1.2</td></tr>\n",
              "\t<tr><td>3.0</td><td>4.6</td><td>1.4</td></tr>\n",
              "\t<tr><td>2.6</td><td>4.0</td><td>1.2</td></tr>\n",
              "\t<tr><td>2.3</td><td>3.3</td><td>1.0</td></tr>\n",
              "\t<tr><td>2.7</td><td>4.2</td><td>1.3</td></tr>\n",
              "\t<tr><td>3.0</td><td>4.2</td><td>1.2</td></tr>\n",
              "\t<tr><td>2.9</td><td>4.2</td><td>1.3</td></tr>\n",
              "\t<tr><td>2.9</td><td>4.3</td><td>1.3</td></tr>\n",
              "\t<tr><td>2.5</td><td>3.0</td><td>1.1</td></tr>\n",
              "\t<tr><td>2.8</td><td>4.1</td><td>1.3</td></tr>\n",
              "</tbody>\n",
              "</table>\n"
            ]
          },
          "metadata": {
            "tags": []
          }
        },
        {
          "output_type": "display_data",
          "data": {
            "text/plain": [
              "    Sepal.Width Petal.Length Petal.Width\n",
              "1   3.5         1.4          0.2        \n",
              "2   3.0         1.4          0.2        \n",
              "3   3.2         1.3          0.2        \n",
              "4   3.1         1.5          0.2        \n",
              "5   3.6         1.4          0.2        \n",
              "6   3.9         1.7          0.4        \n",
              "7   3.4         1.4          0.3        \n",
              "8   3.4         1.5          0.2        \n",
              "9   2.9         1.4          0.2        \n",
              "10  3.1         1.5          0.1        \n",
              "11  3.7         1.5          0.2        \n",
              "12  3.4         1.6          0.2        \n",
              "13  3.0         1.4          0.1        \n",
              "14  3.0         1.1          0.1        \n",
              "15  4.0         1.2          0.2        \n",
              "16  4.4         1.5          0.4        \n",
              "17  3.9         1.3          0.4        \n",
              "18  3.5         1.4          0.3        \n",
              "19  3.8         1.7          0.3        \n",
              "20  3.8         1.5          0.3        \n",
              "21  3.4         1.7          0.2        \n",
              "22  3.7         1.5          0.4        \n",
              "23  3.6         1.0          0.2        \n",
              "24  3.3         1.7          0.5        \n",
              "25  3.4         1.9          0.2        \n",
              "26  3.0         1.6          0.2        \n",
              "27  3.4         1.6          0.4        \n",
              "28  3.5         1.5          0.2        \n",
              "29  3.4         1.4          0.2        \n",
              "30  3.2         1.6          0.2        \n",
              "⋮   ⋮           ⋮            ⋮          \n",
              "121 3.2         5.7          2.3        \n",
              "122 2.8         4.9          2.0        \n",
              "123 2.8         6.7          2.0        \n",
              "124 2.7         4.9          1.8        \n",
              "125 3.3         5.7          2.1        \n",
              "126 3.2         6.0          1.8        \n",
              "127 2.8         4.8          1.8        \n",
              "128 3.0         4.9          1.8        \n",
              "129 2.8         5.6          2.1        \n",
              "130 3.0         5.8          1.6        \n",
              "131 2.8         6.1          1.9        \n",
              "132 3.8         6.4          2.0        \n",
              "133 2.8         5.6          2.2        \n",
              "134 2.8         5.1          1.5        \n",
              "135 2.6         5.6          1.4        \n",
              "136 3.0         6.1          2.3        \n",
              "137 3.4         5.6          2.4        \n",
              "138 3.1         5.5          1.8        \n",
              "139 3.0         4.8          1.8        \n",
              "140 3.1         5.4          2.1        \n",
              "141 3.1         5.6          2.4        \n",
              "142 3.1         5.1          2.3        \n",
              "143 2.7         5.1          1.9        \n",
              "144 3.2         5.9          2.3        \n",
              "145 3.3         5.7          2.5        \n",
              "146 3.0         5.2          2.3        \n",
              "147 2.5         5.0          1.9        \n",
              "148 3.0         5.2          2.0        \n",
              "149 3.4         5.4          2.3        \n",
              "150 3.0         5.1          1.8        "
            ],
            "text/latex": "A data.frame: 150 × 3\n\\begin{tabular}{lll}\n Sepal.Width & Petal.Length & Petal.Width\\\\\n <dbl> & <dbl> & <dbl>\\\\\n\\hline\n\t 3.5 & 1.4 & 0.2\\\\\n\t 3.0 & 1.4 & 0.2\\\\\n\t 3.2 & 1.3 & 0.2\\\\\n\t 3.1 & 1.5 & 0.2\\\\\n\t 3.6 & 1.4 & 0.2\\\\\n\t 3.9 & 1.7 & 0.4\\\\\n\t 3.4 & 1.4 & 0.3\\\\\n\t 3.4 & 1.5 & 0.2\\\\\n\t 2.9 & 1.4 & 0.2\\\\\n\t 3.1 & 1.5 & 0.1\\\\\n\t 3.7 & 1.5 & 0.2\\\\\n\t 3.4 & 1.6 & 0.2\\\\\n\t 3.0 & 1.4 & 0.1\\\\\n\t 3.0 & 1.1 & 0.1\\\\\n\t 4.0 & 1.2 & 0.2\\\\\n\t 4.4 & 1.5 & 0.4\\\\\n\t 3.9 & 1.3 & 0.4\\\\\n\t 3.5 & 1.4 & 0.3\\\\\n\t 3.8 & 1.7 & 0.3\\\\\n\t 3.8 & 1.5 & 0.3\\\\\n\t 3.4 & 1.7 & 0.2\\\\\n\t 3.7 & 1.5 & 0.4\\\\\n\t 3.6 & 1.0 & 0.2\\\\\n\t 3.3 & 1.7 & 0.5\\\\\n\t 3.4 & 1.9 & 0.2\\\\\n\t 3.0 & 1.6 & 0.2\\\\\n\t 3.4 & 1.6 & 0.4\\\\\n\t 3.5 & 1.5 & 0.2\\\\\n\t 3.4 & 1.4 & 0.2\\\\\n\t 3.2 & 1.6 & 0.2\\\\\n\t ⋮ & ⋮ & ⋮\\\\\n\t 3.2 & 5.7 & 2.3\\\\\n\t 2.8 & 4.9 & 2.0\\\\\n\t 2.8 & 6.7 & 2.0\\\\\n\t 2.7 & 4.9 & 1.8\\\\\n\t 3.3 & 5.7 & 2.1\\\\\n\t 3.2 & 6.0 & 1.8\\\\\n\t 2.8 & 4.8 & 1.8\\\\\n\t 3.0 & 4.9 & 1.8\\\\\n\t 2.8 & 5.6 & 2.1\\\\\n\t 3.0 & 5.8 & 1.6\\\\\n\t 2.8 & 6.1 & 1.9\\\\\n\t 3.8 & 6.4 & 2.0\\\\\n\t 2.8 & 5.6 & 2.2\\\\\n\t 2.8 & 5.1 & 1.5\\\\\n\t 2.6 & 5.6 & 1.4\\\\\n\t 3.0 & 6.1 & 2.3\\\\\n\t 3.4 & 5.6 & 2.4\\\\\n\t 3.1 & 5.5 & 1.8\\\\\n\t 3.0 & 4.8 & 1.8\\\\\n\t 3.1 & 5.4 & 2.1\\\\\n\t 3.1 & 5.6 & 2.4\\\\\n\t 3.1 & 5.1 & 2.3\\\\\n\t 2.7 & 5.1 & 1.9\\\\\n\t 3.2 & 5.9 & 2.3\\\\\n\t 3.3 & 5.7 & 2.5\\\\\n\t 3.0 & 5.2 & 2.3\\\\\n\t 2.5 & 5.0 & 1.9\\\\\n\t 3.0 & 5.2 & 2.0\\\\\n\t 3.4 & 5.4 & 2.3\\\\\n\t 3.0 & 5.1 & 1.8\\\\\n\\end{tabular}\n",
            "text/markdown": "\nA data.frame: 150 × 3\n\n| Sepal.Width &lt;dbl&gt; | Petal.Length &lt;dbl&gt; | Petal.Width &lt;dbl&gt; |\n|---|---|---|\n| 3.5 | 1.4 | 0.2 |\n| 3.0 | 1.4 | 0.2 |\n| 3.2 | 1.3 | 0.2 |\n| 3.1 | 1.5 | 0.2 |\n| 3.6 | 1.4 | 0.2 |\n| 3.9 | 1.7 | 0.4 |\n| 3.4 | 1.4 | 0.3 |\n| 3.4 | 1.5 | 0.2 |\n| 2.9 | 1.4 | 0.2 |\n| 3.1 | 1.5 | 0.1 |\n| 3.7 | 1.5 | 0.2 |\n| 3.4 | 1.6 | 0.2 |\n| 3.0 | 1.4 | 0.1 |\n| 3.0 | 1.1 | 0.1 |\n| 4.0 | 1.2 | 0.2 |\n| 4.4 | 1.5 | 0.4 |\n| 3.9 | 1.3 | 0.4 |\n| 3.5 | 1.4 | 0.3 |\n| 3.8 | 1.7 | 0.3 |\n| 3.8 | 1.5 | 0.3 |\n| 3.4 | 1.7 | 0.2 |\n| 3.7 | 1.5 | 0.4 |\n| 3.6 | 1.0 | 0.2 |\n| 3.3 | 1.7 | 0.5 |\n| 3.4 | 1.9 | 0.2 |\n| 3.0 | 1.6 | 0.2 |\n| 3.4 | 1.6 | 0.4 |\n| 3.5 | 1.5 | 0.2 |\n| 3.4 | 1.4 | 0.2 |\n| 3.2 | 1.6 | 0.2 |\n| ⋮ | ⋮ | ⋮ |\n| 3.2 | 5.7 | 2.3 |\n| 2.8 | 4.9 | 2.0 |\n| 2.8 | 6.7 | 2.0 |\n| 2.7 | 4.9 | 1.8 |\n| 3.3 | 5.7 | 2.1 |\n| 3.2 | 6.0 | 1.8 |\n| 2.8 | 4.8 | 1.8 |\n| 3.0 | 4.9 | 1.8 |\n| 2.8 | 5.6 | 2.1 |\n| 3.0 | 5.8 | 1.6 |\n| 2.8 | 6.1 | 1.9 |\n| 3.8 | 6.4 | 2.0 |\n| 2.8 | 5.6 | 2.2 |\n| 2.8 | 5.1 | 1.5 |\n| 2.6 | 5.6 | 1.4 |\n| 3.0 | 6.1 | 2.3 |\n| 3.4 | 5.6 | 2.4 |\n| 3.1 | 5.5 | 1.8 |\n| 3.0 | 4.8 | 1.8 |\n| 3.1 | 5.4 | 2.1 |\n| 3.1 | 5.6 | 2.4 |\n| 3.1 | 5.1 | 2.3 |\n| 2.7 | 5.1 | 1.9 |\n| 3.2 | 5.9 | 2.3 |\n| 3.3 | 5.7 | 2.5 |\n| 3.0 | 5.2 | 2.3 |\n| 2.5 | 5.0 | 1.9 |\n| 3.0 | 5.2 | 2.0 |\n| 3.4 | 5.4 | 2.3 |\n| 3.0 | 5.1 | 1.8 |\n\n",
            "text/html": [
              "<table>\n",
              "<caption>A data.frame: 150 × 3</caption>\n",
              "<thead>\n",
              "\t<tr><th scope=col>Sepal.Width</th><th scope=col>Petal.Length</th><th scope=col>Petal.Width</th></tr>\n",
              "\t<tr><th scope=col>&lt;dbl&gt;</th><th scope=col>&lt;dbl&gt;</th><th scope=col>&lt;dbl&gt;</th></tr>\n",
              "</thead>\n",
              "<tbody>\n",
              "\t<tr><td>3.5</td><td>1.4</td><td>0.2</td></tr>\n",
              "\t<tr><td>3.0</td><td>1.4</td><td>0.2</td></tr>\n",
              "\t<tr><td>3.2</td><td>1.3</td><td>0.2</td></tr>\n",
              "\t<tr><td>3.1</td><td>1.5</td><td>0.2</td></tr>\n",
              "\t<tr><td>3.6</td><td>1.4</td><td>0.2</td></tr>\n",
              "\t<tr><td>3.9</td><td>1.7</td><td>0.4</td></tr>\n",
              "\t<tr><td>3.4</td><td>1.4</td><td>0.3</td></tr>\n",
              "\t<tr><td>3.4</td><td>1.5</td><td>0.2</td></tr>\n",
              "\t<tr><td>2.9</td><td>1.4</td><td>0.2</td></tr>\n",
              "\t<tr><td>3.1</td><td>1.5</td><td>0.1</td></tr>\n",
              "\t<tr><td>3.7</td><td>1.5</td><td>0.2</td></tr>\n",
              "\t<tr><td>3.4</td><td>1.6</td><td>0.2</td></tr>\n",
              "\t<tr><td>3.0</td><td>1.4</td><td>0.1</td></tr>\n",
              "\t<tr><td>3.0</td><td>1.1</td><td>0.1</td></tr>\n",
              "\t<tr><td>4.0</td><td>1.2</td><td>0.2</td></tr>\n",
              "\t<tr><td>4.4</td><td>1.5</td><td>0.4</td></tr>\n",
              "\t<tr><td>3.9</td><td>1.3</td><td>0.4</td></tr>\n",
              "\t<tr><td>3.5</td><td>1.4</td><td>0.3</td></tr>\n",
              "\t<tr><td>3.8</td><td>1.7</td><td>0.3</td></tr>\n",
              "\t<tr><td>3.8</td><td>1.5</td><td>0.3</td></tr>\n",
              "\t<tr><td>3.4</td><td>1.7</td><td>0.2</td></tr>\n",
              "\t<tr><td>3.7</td><td>1.5</td><td>0.4</td></tr>\n",
              "\t<tr><td>3.6</td><td>1.0</td><td>0.2</td></tr>\n",
              "\t<tr><td>3.3</td><td>1.7</td><td>0.5</td></tr>\n",
              "\t<tr><td>3.4</td><td>1.9</td><td>0.2</td></tr>\n",
              "\t<tr><td>3.0</td><td>1.6</td><td>0.2</td></tr>\n",
              "\t<tr><td>3.4</td><td>1.6</td><td>0.4</td></tr>\n",
              "\t<tr><td>3.5</td><td>1.5</td><td>0.2</td></tr>\n",
              "\t<tr><td>3.4</td><td>1.4</td><td>0.2</td></tr>\n",
              "\t<tr><td>3.2</td><td>1.6</td><td>0.2</td></tr>\n",
              "\t<tr><td>⋮</td><td>⋮</td><td>⋮</td></tr>\n",
              "\t<tr><td>3.2</td><td>5.7</td><td>2.3</td></tr>\n",
              "\t<tr><td>2.8</td><td>4.9</td><td>2.0</td></tr>\n",
              "\t<tr><td>2.8</td><td>6.7</td><td>2.0</td></tr>\n",
              "\t<tr><td>2.7</td><td>4.9</td><td>1.8</td></tr>\n",
              "\t<tr><td>3.3</td><td>5.7</td><td>2.1</td></tr>\n",
              "\t<tr><td>3.2</td><td>6.0</td><td>1.8</td></tr>\n",
              "\t<tr><td>2.8</td><td>4.8</td><td>1.8</td></tr>\n",
              "\t<tr><td>3.0</td><td>4.9</td><td>1.8</td></tr>\n",
              "\t<tr><td>2.8</td><td>5.6</td><td>2.1</td></tr>\n",
              "\t<tr><td>3.0</td><td>5.8</td><td>1.6</td></tr>\n",
              "\t<tr><td>2.8</td><td>6.1</td><td>1.9</td></tr>\n",
              "\t<tr><td>3.8</td><td>6.4</td><td>2.0</td></tr>\n",
              "\t<tr><td>2.8</td><td>5.6</td><td>2.2</td></tr>\n",
              "\t<tr><td>2.8</td><td>5.1</td><td>1.5</td></tr>\n",
              "\t<tr><td>2.6</td><td>5.6</td><td>1.4</td></tr>\n",
              "\t<tr><td>3.0</td><td>6.1</td><td>2.3</td></tr>\n",
              "\t<tr><td>3.4</td><td>5.6</td><td>2.4</td></tr>\n",
              "\t<tr><td>3.1</td><td>5.5</td><td>1.8</td></tr>\n",
              "\t<tr><td>3.0</td><td>4.8</td><td>1.8</td></tr>\n",
              "\t<tr><td>3.1</td><td>5.4</td><td>2.1</td></tr>\n",
              "\t<tr><td>3.1</td><td>5.6</td><td>2.4</td></tr>\n",
              "\t<tr><td>3.1</td><td>5.1</td><td>2.3</td></tr>\n",
              "\t<tr><td>2.7</td><td>5.1</td><td>1.9</td></tr>\n",
              "\t<tr><td>3.2</td><td>5.9</td><td>2.3</td></tr>\n",
              "\t<tr><td>3.3</td><td>5.7</td><td>2.5</td></tr>\n",
              "\t<tr><td>3.0</td><td>5.2</td><td>2.3</td></tr>\n",
              "\t<tr><td>2.5</td><td>5.0</td><td>1.9</td></tr>\n",
              "\t<tr><td>3.0</td><td>5.2</td><td>2.0</td></tr>\n",
              "\t<tr><td>3.4</td><td>5.4</td><td>2.3</td></tr>\n",
              "\t<tr><td>3.0</td><td>5.1</td><td>1.8</td></tr>\n",
              "</tbody>\n",
              "</table>\n"
            ]
          },
          "metadata": {
            "tags": []
          }
        }
      ]
    },
    {
      "cell_type": "code",
      "metadata": {
        "colab": {
          "base_uri": "https://localhost:8080/",
          "height": 1000
        },
        "id": "jHN0_5h1TU5i",
        "outputId": "01599a00-f2e5-47a0-910b-cdb283bb02b6"
      },
      "source": [
        " # Para remover uma coluna da seleção, utilizamos o \"select(dataset,-coluna)\"\n",
        " select(iris, -Sepal.Width)"
      ],
      "execution_count": 58,
      "outputs": [
        {
          "output_type": "display_data",
          "data": {
            "text/plain": [
              "    Sepal.Length Petal.Length Petal.Width Species  \n",
              "1   5.1          1.4          0.2         setosa   \n",
              "2   4.9          1.4          0.2         setosa   \n",
              "3   4.7          1.3          0.2         setosa   \n",
              "4   4.6          1.5          0.2         setosa   \n",
              "5   5.0          1.4          0.2         setosa   \n",
              "6   5.4          1.7          0.4         setosa   \n",
              "7   4.6          1.4          0.3         setosa   \n",
              "8   5.0          1.5          0.2         setosa   \n",
              "9   4.4          1.4          0.2         setosa   \n",
              "10  4.9          1.5          0.1         setosa   \n",
              "11  5.4          1.5          0.2         setosa   \n",
              "12  4.8          1.6          0.2         setosa   \n",
              "13  4.8          1.4          0.1         setosa   \n",
              "14  4.3          1.1          0.1         setosa   \n",
              "15  5.8          1.2          0.2         setosa   \n",
              "16  5.7          1.5          0.4         setosa   \n",
              "17  5.4          1.3          0.4         setosa   \n",
              "18  5.1          1.4          0.3         setosa   \n",
              "19  5.7          1.7          0.3         setosa   \n",
              "20  5.1          1.5          0.3         setosa   \n",
              "21  5.4          1.7          0.2         setosa   \n",
              "22  5.1          1.5          0.4         setosa   \n",
              "23  4.6          1.0          0.2         setosa   \n",
              "24  5.1          1.7          0.5         setosa   \n",
              "25  4.8          1.9          0.2         setosa   \n",
              "26  5.0          1.6          0.2         setosa   \n",
              "27  5.0          1.6          0.4         setosa   \n",
              "28  5.2          1.5          0.2         setosa   \n",
              "29  5.2          1.4          0.2         setosa   \n",
              "30  4.7          1.6          0.2         setosa   \n",
              "⋮   ⋮            ⋮            ⋮           ⋮        \n",
              "121 6.9          5.7          2.3         virginica\n",
              "122 5.6          4.9          2.0         virginica\n",
              "123 7.7          6.7          2.0         virginica\n",
              "124 6.3          4.9          1.8         virginica\n",
              "125 6.7          5.7          2.1         virginica\n",
              "126 7.2          6.0          1.8         virginica\n",
              "127 6.2          4.8          1.8         virginica\n",
              "128 6.1          4.9          1.8         virginica\n",
              "129 6.4          5.6          2.1         virginica\n",
              "130 7.2          5.8          1.6         virginica\n",
              "131 7.4          6.1          1.9         virginica\n",
              "132 7.9          6.4          2.0         virginica\n",
              "133 6.4          5.6          2.2         virginica\n",
              "134 6.3          5.1          1.5         virginica\n",
              "135 6.1          5.6          1.4         virginica\n",
              "136 7.7          6.1          2.3         virginica\n",
              "137 6.3          5.6          2.4         virginica\n",
              "138 6.4          5.5          1.8         virginica\n",
              "139 6.0          4.8          1.8         virginica\n",
              "140 6.9          5.4          2.1         virginica\n",
              "141 6.7          5.6          2.4         virginica\n",
              "142 6.9          5.1          2.3         virginica\n",
              "143 5.8          5.1          1.9         virginica\n",
              "144 6.8          5.9          2.3         virginica\n",
              "145 6.7          5.7          2.5         virginica\n",
              "146 6.7          5.2          2.3         virginica\n",
              "147 6.3          5.0          1.9         virginica\n",
              "148 6.5          5.2          2.0         virginica\n",
              "149 6.2          5.4          2.3         virginica\n",
              "150 5.9          5.1          1.8         virginica"
            ],
            "text/latex": "A data.frame: 150 × 4\n\\begin{tabular}{llll}\n Sepal.Length & Petal.Length & Petal.Width & Species\\\\\n <dbl> & <dbl> & <dbl> & <fct>\\\\\n\\hline\n\t 5.1 & 1.4 & 0.2 & setosa\\\\\n\t 4.9 & 1.4 & 0.2 & setosa\\\\\n\t 4.7 & 1.3 & 0.2 & setosa\\\\\n\t 4.6 & 1.5 & 0.2 & setosa\\\\\n\t 5.0 & 1.4 & 0.2 & setosa\\\\\n\t 5.4 & 1.7 & 0.4 & setosa\\\\\n\t 4.6 & 1.4 & 0.3 & setosa\\\\\n\t 5.0 & 1.5 & 0.2 & setosa\\\\\n\t 4.4 & 1.4 & 0.2 & setosa\\\\\n\t 4.9 & 1.5 & 0.1 & setosa\\\\\n\t 5.4 & 1.5 & 0.2 & setosa\\\\\n\t 4.8 & 1.6 & 0.2 & setosa\\\\\n\t 4.8 & 1.4 & 0.1 & setosa\\\\\n\t 4.3 & 1.1 & 0.1 & setosa\\\\\n\t 5.8 & 1.2 & 0.2 & setosa\\\\\n\t 5.7 & 1.5 & 0.4 & setosa\\\\\n\t 5.4 & 1.3 & 0.4 & setosa\\\\\n\t 5.1 & 1.4 & 0.3 & setosa\\\\\n\t 5.7 & 1.7 & 0.3 & setosa\\\\\n\t 5.1 & 1.5 & 0.3 & setosa\\\\\n\t 5.4 & 1.7 & 0.2 & setosa\\\\\n\t 5.1 & 1.5 & 0.4 & setosa\\\\\n\t 4.6 & 1.0 & 0.2 & setosa\\\\\n\t 5.1 & 1.7 & 0.5 & setosa\\\\\n\t 4.8 & 1.9 & 0.2 & setosa\\\\\n\t 5.0 & 1.6 & 0.2 & setosa\\\\\n\t 5.0 & 1.6 & 0.4 & setosa\\\\\n\t 5.2 & 1.5 & 0.2 & setosa\\\\\n\t 5.2 & 1.4 & 0.2 & setosa\\\\\n\t 4.7 & 1.6 & 0.2 & setosa\\\\\n\t ⋮ & ⋮ & ⋮ & ⋮\\\\\n\t 6.9 & 5.7 & 2.3 & virginica\\\\\n\t 5.6 & 4.9 & 2.0 & virginica\\\\\n\t 7.7 & 6.7 & 2.0 & virginica\\\\\n\t 6.3 & 4.9 & 1.8 & virginica\\\\\n\t 6.7 & 5.7 & 2.1 & virginica\\\\\n\t 7.2 & 6.0 & 1.8 & virginica\\\\\n\t 6.2 & 4.8 & 1.8 & virginica\\\\\n\t 6.1 & 4.9 & 1.8 & virginica\\\\\n\t 6.4 & 5.6 & 2.1 & virginica\\\\\n\t 7.2 & 5.8 & 1.6 & virginica\\\\\n\t 7.4 & 6.1 & 1.9 & virginica\\\\\n\t 7.9 & 6.4 & 2.0 & virginica\\\\\n\t 6.4 & 5.6 & 2.2 & virginica\\\\\n\t 6.3 & 5.1 & 1.5 & virginica\\\\\n\t 6.1 & 5.6 & 1.4 & virginica\\\\\n\t 7.7 & 6.1 & 2.3 & virginica\\\\\n\t 6.3 & 5.6 & 2.4 & virginica\\\\\n\t 6.4 & 5.5 & 1.8 & virginica\\\\\n\t 6.0 & 4.8 & 1.8 & virginica\\\\\n\t 6.9 & 5.4 & 2.1 & virginica\\\\\n\t 6.7 & 5.6 & 2.4 & virginica\\\\\n\t 6.9 & 5.1 & 2.3 & virginica\\\\\n\t 5.8 & 5.1 & 1.9 & virginica\\\\\n\t 6.8 & 5.9 & 2.3 & virginica\\\\\n\t 6.7 & 5.7 & 2.5 & virginica\\\\\n\t 6.7 & 5.2 & 2.3 & virginica\\\\\n\t 6.3 & 5.0 & 1.9 & virginica\\\\\n\t 6.5 & 5.2 & 2.0 & virginica\\\\\n\t 6.2 & 5.4 & 2.3 & virginica\\\\\n\t 5.9 & 5.1 & 1.8 & virginica\\\\\n\\end{tabular}\n",
            "text/markdown": "\nA data.frame: 150 × 4\n\n| Sepal.Length &lt;dbl&gt; | Petal.Length &lt;dbl&gt; | Petal.Width &lt;dbl&gt; | Species &lt;fct&gt; |\n|---|---|---|---|\n| 5.1 | 1.4 | 0.2 | setosa |\n| 4.9 | 1.4 | 0.2 | setosa |\n| 4.7 | 1.3 | 0.2 | setosa |\n| 4.6 | 1.5 | 0.2 | setosa |\n| 5.0 | 1.4 | 0.2 | setosa |\n| 5.4 | 1.7 | 0.4 | setosa |\n| 4.6 | 1.4 | 0.3 | setosa |\n| 5.0 | 1.5 | 0.2 | setosa |\n| 4.4 | 1.4 | 0.2 | setosa |\n| 4.9 | 1.5 | 0.1 | setosa |\n| 5.4 | 1.5 | 0.2 | setosa |\n| 4.8 | 1.6 | 0.2 | setosa |\n| 4.8 | 1.4 | 0.1 | setosa |\n| 4.3 | 1.1 | 0.1 | setosa |\n| 5.8 | 1.2 | 0.2 | setosa |\n| 5.7 | 1.5 | 0.4 | setosa |\n| 5.4 | 1.3 | 0.4 | setosa |\n| 5.1 | 1.4 | 0.3 | setosa |\n| 5.7 | 1.7 | 0.3 | setosa |\n| 5.1 | 1.5 | 0.3 | setosa |\n| 5.4 | 1.7 | 0.2 | setosa |\n| 5.1 | 1.5 | 0.4 | setosa |\n| 4.6 | 1.0 | 0.2 | setosa |\n| 5.1 | 1.7 | 0.5 | setosa |\n| 4.8 | 1.9 | 0.2 | setosa |\n| 5.0 | 1.6 | 0.2 | setosa |\n| 5.0 | 1.6 | 0.4 | setosa |\n| 5.2 | 1.5 | 0.2 | setosa |\n| 5.2 | 1.4 | 0.2 | setosa |\n| 4.7 | 1.6 | 0.2 | setosa |\n| ⋮ | ⋮ | ⋮ | ⋮ |\n| 6.9 | 5.7 | 2.3 | virginica |\n| 5.6 | 4.9 | 2.0 | virginica |\n| 7.7 | 6.7 | 2.0 | virginica |\n| 6.3 | 4.9 | 1.8 | virginica |\n| 6.7 | 5.7 | 2.1 | virginica |\n| 7.2 | 6.0 | 1.8 | virginica |\n| 6.2 | 4.8 | 1.8 | virginica |\n| 6.1 | 4.9 | 1.8 | virginica |\n| 6.4 | 5.6 | 2.1 | virginica |\n| 7.2 | 5.8 | 1.6 | virginica |\n| 7.4 | 6.1 | 1.9 | virginica |\n| 7.9 | 6.4 | 2.0 | virginica |\n| 6.4 | 5.6 | 2.2 | virginica |\n| 6.3 | 5.1 | 1.5 | virginica |\n| 6.1 | 5.6 | 1.4 | virginica |\n| 7.7 | 6.1 | 2.3 | virginica |\n| 6.3 | 5.6 | 2.4 | virginica |\n| 6.4 | 5.5 | 1.8 | virginica |\n| 6.0 | 4.8 | 1.8 | virginica |\n| 6.9 | 5.4 | 2.1 | virginica |\n| 6.7 | 5.6 | 2.4 | virginica |\n| 6.9 | 5.1 | 2.3 | virginica |\n| 5.8 | 5.1 | 1.9 | virginica |\n| 6.8 | 5.9 | 2.3 | virginica |\n| 6.7 | 5.7 | 2.5 | virginica |\n| 6.7 | 5.2 | 2.3 | virginica |\n| 6.3 | 5.0 | 1.9 | virginica |\n| 6.5 | 5.2 | 2.0 | virginica |\n| 6.2 | 5.4 | 2.3 | virginica |\n| 5.9 | 5.1 | 1.8 | virginica |\n\n",
            "text/html": [
              "<table>\n",
              "<caption>A data.frame: 150 × 4</caption>\n",
              "<thead>\n",
              "\t<tr><th scope=col>Sepal.Length</th><th scope=col>Petal.Length</th><th scope=col>Petal.Width</th><th scope=col>Species</th></tr>\n",
              "\t<tr><th scope=col>&lt;dbl&gt;</th><th scope=col>&lt;dbl&gt;</th><th scope=col>&lt;dbl&gt;</th><th scope=col>&lt;fct&gt;</th></tr>\n",
              "</thead>\n",
              "<tbody>\n",
              "\t<tr><td>5.1</td><td>1.4</td><td>0.2</td><td>setosa</td></tr>\n",
              "\t<tr><td>4.9</td><td>1.4</td><td>0.2</td><td>setosa</td></tr>\n",
              "\t<tr><td>4.7</td><td>1.3</td><td>0.2</td><td>setosa</td></tr>\n",
              "\t<tr><td>4.6</td><td>1.5</td><td>0.2</td><td>setosa</td></tr>\n",
              "\t<tr><td>5.0</td><td>1.4</td><td>0.2</td><td>setosa</td></tr>\n",
              "\t<tr><td>5.4</td><td>1.7</td><td>0.4</td><td>setosa</td></tr>\n",
              "\t<tr><td>4.6</td><td>1.4</td><td>0.3</td><td>setosa</td></tr>\n",
              "\t<tr><td>5.0</td><td>1.5</td><td>0.2</td><td>setosa</td></tr>\n",
              "\t<tr><td>4.4</td><td>1.4</td><td>0.2</td><td>setosa</td></tr>\n",
              "\t<tr><td>4.9</td><td>1.5</td><td>0.1</td><td>setosa</td></tr>\n",
              "\t<tr><td>5.4</td><td>1.5</td><td>0.2</td><td>setosa</td></tr>\n",
              "\t<tr><td>4.8</td><td>1.6</td><td>0.2</td><td>setosa</td></tr>\n",
              "\t<tr><td>4.8</td><td>1.4</td><td>0.1</td><td>setosa</td></tr>\n",
              "\t<tr><td>4.3</td><td>1.1</td><td>0.1</td><td>setosa</td></tr>\n",
              "\t<tr><td>5.8</td><td>1.2</td><td>0.2</td><td>setosa</td></tr>\n",
              "\t<tr><td>5.7</td><td>1.5</td><td>0.4</td><td>setosa</td></tr>\n",
              "\t<tr><td>5.4</td><td>1.3</td><td>0.4</td><td>setosa</td></tr>\n",
              "\t<tr><td>5.1</td><td>1.4</td><td>0.3</td><td>setosa</td></tr>\n",
              "\t<tr><td>5.7</td><td>1.7</td><td>0.3</td><td>setosa</td></tr>\n",
              "\t<tr><td>5.1</td><td>1.5</td><td>0.3</td><td>setosa</td></tr>\n",
              "\t<tr><td>5.4</td><td>1.7</td><td>0.2</td><td>setosa</td></tr>\n",
              "\t<tr><td>5.1</td><td>1.5</td><td>0.4</td><td>setosa</td></tr>\n",
              "\t<tr><td>4.6</td><td>1.0</td><td>0.2</td><td>setosa</td></tr>\n",
              "\t<tr><td>5.1</td><td>1.7</td><td>0.5</td><td>setosa</td></tr>\n",
              "\t<tr><td>4.8</td><td>1.9</td><td>0.2</td><td>setosa</td></tr>\n",
              "\t<tr><td>5.0</td><td>1.6</td><td>0.2</td><td>setosa</td></tr>\n",
              "\t<tr><td>5.0</td><td>1.6</td><td>0.4</td><td>setosa</td></tr>\n",
              "\t<tr><td>5.2</td><td>1.5</td><td>0.2</td><td>setosa</td></tr>\n",
              "\t<tr><td>5.2</td><td>1.4</td><td>0.2</td><td>setosa</td></tr>\n",
              "\t<tr><td>4.7</td><td>1.6</td><td>0.2</td><td>setosa</td></tr>\n",
              "\t<tr><td>⋮</td><td>⋮</td><td>⋮</td><td>⋮</td></tr>\n",
              "\t<tr><td>6.9</td><td>5.7</td><td>2.3</td><td>virginica</td></tr>\n",
              "\t<tr><td>5.6</td><td>4.9</td><td>2.0</td><td>virginica</td></tr>\n",
              "\t<tr><td>7.7</td><td>6.7</td><td>2.0</td><td>virginica</td></tr>\n",
              "\t<tr><td>6.3</td><td>4.9</td><td>1.8</td><td>virginica</td></tr>\n",
              "\t<tr><td>6.7</td><td>5.7</td><td>2.1</td><td>virginica</td></tr>\n",
              "\t<tr><td>7.2</td><td>6.0</td><td>1.8</td><td>virginica</td></tr>\n",
              "\t<tr><td>6.2</td><td>4.8</td><td>1.8</td><td>virginica</td></tr>\n",
              "\t<tr><td>6.1</td><td>4.9</td><td>1.8</td><td>virginica</td></tr>\n",
              "\t<tr><td>6.4</td><td>5.6</td><td>2.1</td><td>virginica</td></tr>\n",
              "\t<tr><td>7.2</td><td>5.8</td><td>1.6</td><td>virginica</td></tr>\n",
              "\t<tr><td>7.4</td><td>6.1</td><td>1.9</td><td>virginica</td></tr>\n",
              "\t<tr><td>7.9</td><td>6.4</td><td>2.0</td><td>virginica</td></tr>\n",
              "\t<tr><td>6.4</td><td>5.6</td><td>2.2</td><td>virginica</td></tr>\n",
              "\t<tr><td>6.3</td><td>5.1</td><td>1.5</td><td>virginica</td></tr>\n",
              "\t<tr><td>6.1</td><td>5.6</td><td>1.4</td><td>virginica</td></tr>\n",
              "\t<tr><td>7.7</td><td>6.1</td><td>2.3</td><td>virginica</td></tr>\n",
              "\t<tr><td>6.3</td><td>5.6</td><td>2.4</td><td>virginica</td></tr>\n",
              "\t<tr><td>6.4</td><td>5.5</td><td>1.8</td><td>virginica</td></tr>\n",
              "\t<tr><td>6.0</td><td>4.8</td><td>1.8</td><td>virginica</td></tr>\n",
              "\t<tr><td>6.9</td><td>5.4</td><td>2.1</td><td>virginica</td></tr>\n",
              "\t<tr><td>6.7</td><td>5.6</td><td>2.4</td><td>virginica</td></tr>\n",
              "\t<tr><td>6.9</td><td>5.1</td><td>2.3</td><td>virginica</td></tr>\n",
              "\t<tr><td>5.8</td><td>5.1</td><td>1.9</td><td>virginica</td></tr>\n",
              "\t<tr><td>6.8</td><td>5.9</td><td>2.3</td><td>virginica</td></tr>\n",
              "\t<tr><td>6.7</td><td>5.7</td><td>2.5</td><td>virginica</td></tr>\n",
              "\t<tr><td>6.7</td><td>5.2</td><td>2.3</td><td>virginica</td></tr>\n",
              "\t<tr><td>6.3</td><td>5.0</td><td>1.9</td><td>virginica</td></tr>\n",
              "\t<tr><td>6.5</td><td>5.2</td><td>2.0</td><td>virginica</td></tr>\n",
              "\t<tr><td>6.2</td><td>5.4</td><td>2.3</td><td>virginica</td></tr>\n",
              "\t<tr><td>5.9</td><td>5.1</td><td>1.8</td><td>virginica</td></tr>\n",
              "</tbody>\n",
              "</table>\n"
            ]
          },
          "metadata": {
            "tags": []
          }
        }
      ]
    },
    {
      "cell_type": "code",
      "metadata": {
        "colab": {
          "base_uri": "https://localhost:8080/",
          "height": 1000
        },
        "id": "1Q297x1TT-7d",
        "outputId": "6ad40262-dbe9-42fd-a857-81fe77f73e0d"
      },
      "source": [
        "# Para combinar o valor de 1 ou mais colunas usamos a função \"mutate()\"\n",
        "# criando uma nova coluna com base em counas existentes\n",
        "iris2 <- mutate(iris, nova.coluna = Sepal.Length + Sepal.Width) # Somamos o valor de 2 colunas\n",
        "\n",
        "head(iris2)\n",
        "\n",
        "iris2[,c(\"Sepal.Length\", \"Sepal.Width\", \"nova.coluna\")]\n",
        "\n",
        "head(iris2)\n"
      ],
      "execution_count": 59,
      "outputs": [
        {
          "output_type": "display_data",
          "data": {
            "text/plain": [
              "  Sepal.Length Sepal.Width Petal.Length Petal.Width Species nova.coluna\n",
              "1 5.1          3.5         1.4          0.2         setosa  8.6        \n",
              "2 4.9          3.0         1.4          0.2         setosa  7.9        \n",
              "3 4.7          3.2         1.3          0.2         setosa  7.9        \n",
              "4 4.6          3.1         1.5          0.2         setosa  7.7        \n",
              "5 5.0          3.6         1.4          0.2         setosa  8.6        \n",
              "6 5.4          3.9         1.7          0.4         setosa  9.3        "
            ],
            "text/latex": "A data.frame: 6 × 6\n\\begin{tabular}{r|llllll}\n  & Sepal.Length & Sepal.Width & Petal.Length & Petal.Width & Species & nova.coluna\\\\\n  & <dbl> & <dbl> & <dbl> & <dbl> & <fct> & <dbl>\\\\\n\\hline\n\t1 & 5.1 & 3.5 & 1.4 & 0.2 & setosa & 8.6\\\\\n\t2 & 4.9 & 3.0 & 1.4 & 0.2 & setosa & 7.9\\\\\n\t3 & 4.7 & 3.2 & 1.3 & 0.2 & setosa & 7.9\\\\\n\t4 & 4.6 & 3.1 & 1.5 & 0.2 & setosa & 7.7\\\\\n\t5 & 5.0 & 3.6 & 1.4 & 0.2 & setosa & 8.6\\\\\n\t6 & 5.4 & 3.9 & 1.7 & 0.4 & setosa & 9.3\\\\\n\\end{tabular}\n",
            "text/markdown": "\nA data.frame: 6 × 6\n\n| <!--/--> | Sepal.Length &lt;dbl&gt; | Sepal.Width &lt;dbl&gt; | Petal.Length &lt;dbl&gt; | Petal.Width &lt;dbl&gt; | Species &lt;fct&gt; | nova.coluna &lt;dbl&gt; |\n|---|---|---|---|---|---|---|\n| 1 | 5.1 | 3.5 | 1.4 | 0.2 | setosa | 8.6 |\n| 2 | 4.9 | 3.0 | 1.4 | 0.2 | setosa | 7.9 |\n| 3 | 4.7 | 3.2 | 1.3 | 0.2 | setosa | 7.9 |\n| 4 | 4.6 | 3.1 | 1.5 | 0.2 | setosa | 7.7 |\n| 5 | 5.0 | 3.6 | 1.4 | 0.2 | setosa | 8.6 |\n| 6 | 5.4 | 3.9 | 1.7 | 0.4 | setosa | 9.3 |\n\n",
            "text/html": [
              "<table>\n",
              "<caption>A data.frame: 6 × 6</caption>\n",
              "<thead>\n",
              "\t<tr><th></th><th scope=col>Sepal.Length</th><th scope=col>Sepal.Width</th><th scope=col>Petal.Length</th><th scope=col>Petal.Width</th><th scope=col>Species</th><th scope=col>nova.coluna</th></tr>\n",
              "\t<tr><th></th><th scope=col>&lt;dbl&gt;</th><th scope=col>&lt;dbl&gt;</th><th scope=col>&lt;dbl&gt;</th><th scope=col>&lt;dbl&gt;</th><th scope=col>&lt;fct&gt;</th><th scope=col>&lt;dbl&gt;</th></tr>\n",
              "</thead>\n",
              "<tbody>\n",
              "\t<tr><th scope=row>1</th><td>5.1</td><td>3.5</td><td>1.4</td><td>0.2</td><td>setosa</td><td>8.6</td></tr>\n",
              "\t<tr><th scope=row>2</th><td>4.9</td><td>3.0</td><td>1.4</td><td>0.2</td><td>setosa</td><td>7.9</td></tr>\n",
              "\t<tr><th scope=row>3</th><td>4.7</td><td>3.2</td><td>1.3</td><td>0.2</td><td>setosa</td><td>7.9</td></tr>\n",
              "\t<tr><th scope=row>4</th><td>4.6</td><td>3.1</td><td>1.5</td><td>0.2</td><td>setosa</td><td>7.7</td></tr>\n",
              "\t<tr><th scope=row>5</th><td>5.0</td><td>3.6</td><td>1.4</td><td>0.2</td><td>setosa</td><td>8.6</td></tr>\n",
              "\t<tr><th scope=row>6</th><td>5.4</td><td>3.9</td><td>1.7</td><td>0.4</td><td>setosa</td><td>9.3</td></tr>\n",
              "</tbody>\n",
              "</table>\n"
            ]
          },
          "metadata": {
            "tags": []
          }
        },
        {
          "output_type": "display_data",
          "data": {
            "text/plain": [
              "    Sepal.Length Sepal.Width nova.coluna\n",
              "1   5.1          3.5          8.6       \n",
              "2   4.9          3.0          7.9       \n",
              "3   4.7          3.2          7.9       \n",
              "4   4.6          3.1          7.7       \n",
              "5   5.0          3.6          8.6       \n",
              "6   5.4          3.9          9.3       \n",
              "7   4.6          3.4          8.0       \n",
              "8   5.0          3.4          8.4       \n",
              "9   4.4          2.9          7.3       \n",
              "10  4.9          3.1          8.0       \n",
              "11  5.4          3.7          9.1       \n",
              "12  4.8          3.4          8.2       \n",
              "13  4.8          3.0          7.8       \n",
              "14  4.3          3.0          7.3       \n",
              "15  5.8          4.0          9.8       \n",
              "16  5.7          4.4         10.1       \n",
              "17  5.4          3.9          9.3       \n",
              "18  5.1          3.5          8.6       \n",
              "19  5.7          3.8          9.5       \n",
              "20  5.1          3.8          8.9       \n",
              "21  5.4          3.4          8.8       \n",
              "22  5.1          3.7          8.8       \n",
              "23  4.6          3.6          8.2       \n",
              "24  5.1          3.3          8.4       \n",
              "25  4.8          3.4          8.2       \n",
              "26  5.0          3.0          8.0       \n",
              "27  5.0          3.4          8.4       \n",
              "28  5.2          3.5          8.7       \n",
              "29  5.2          3.4          8.6       \n",
              "30  4.7          3.2          7.9       \n",
              "⋮   ⋮            ⋮           ⋮          \n",
              "121 6.9          3.2         10.1       \n",
              "122 5.6          2.8          8.4       \n",
              "123 7.7          2.8         10.5       \n",
              "124 6.3          2.7          9.0       \n",
              "125 6.7          3.3         10.0       \n",
              "126 7.2          3.2         10.4       \n",
              "127 6.2          2.8          9.0       \n",
              "128 6.1          3.0          9.1       \n",
              "129 6.4          2.8          9.2       \n",
              "130 7.2          3.0         10.2       \n",
              "131 7.4          2.8         10.2       \n",
              "132 7.9          3.8         11.7       \n",
              "133 6.4          2.8          9.2       \n",
              "134 6.3          2.8          9.1       \n",
              "135 6.1          2.6          8.7       \n",
              "136 7.7          3.0         10.7       \n",
              "137 6.3          3.4          9.7       \n",
              "138 6.4          3.1          9.5       \n",
              "139 6.0          3.0          9.0       \n",
              "140 6.9          3.1         10.0       \n",
              "141 6.7          3.1          9.8       \n",
              "142 6.9          3.1         10.0       \n",
              "143 5.8          2.7          8.5       \n",
              "144 6.8          3.2         10.0       \n",
              "145 6.7          3.3         10.0       \n",
              "146 6.7          3.0          9.7       \n",
              "147 6.3          2.5          8.8       \n",
              "148 6.5          3.0          9.5       \n",
              "149 6.2          3.4          9.6       \n",
              "150 5.9          3.0          8.9       "
            ],
            "text/latex": "A data.frame: 150 × 3\n\\begin{tabular}{lll}\n Sepal.Length & Sepal.Width & nova.coluna\\\\\n <dbl> & <dbl> & <dbl>\\\\\n\\hline\n\t 5.1 & 3.5 &  8.6\\\\\n\t 4.9 & 3.0 &  7.9\\\\\n\t 4.7 & 3.2 &  7.9\\\\\n\t 4.6 & 3.1 &  7.7\\\\\n\t 5.0 & 3.6 &  8.6\\\\\n\t 5.4 & 3.9 &  9.3\\\\\n\t 4.6 & 3.4 &  8.0\\\\\n\t 5.0 & 3.4 &  8.4\\\\\n\t 4.4 & 2.9 &  7.3\\\\\n\t 4.9 & 3.1 &  8.0\\\\\n\t 5.4 & 3.7 &  9.1\\\\\n\t 4.8 & 3.4 &  8.2\\\\\n\t 4.8 & 3.0 &  7.8\\\\\n\t 4.3 & 3.0 &  7.3\\\\\n\t 5.8 & 4.0 &  9.8\\\\\n\t 5.7 & 4.4 & 10.1\\\\\n\t 5.4 & 3.9 &  9.3\\\\\n\t 5.1 & 3.5 &  8.6\\\\\n\t 5.7 & 3.8 &  9.5\\\\\n\t 5.1 & 3.8 &  8.9\\\\\n\t 5.4 & 3.4 &  8.8\\\\\n\t 5.1 & 3.7 &  8.8\\\\\n\t 4.6 & 3.6 &  8.2\\\\\n\t 5.1 & 3.3 &  8.4\\\\\n\t 4.8 & 3.4 &  8.2\\\\\n\t 5.0 & 3.0 &  8.0\\\\\n\t 5.0 & 3.4 &  8.4\\\\\n\t 5.2 & 3.5 &  8.7\\\\\n\t 5.2 & 3.4 &  8.6\\\\\n\t 4.7 & 3.2 &  7.9\\\\\n\t ⋮ & ⋮ & ⋮\\\\\n\t 6.9 & 3.2 & 10.1\\\\\n\t 5.6 & 2.8 &  8.4\\\\\n\t 7.7 & 2.8 & 10.5\\\\\n\t 6.3 & 2.7 &  9.0\\\\\n\t 6.7 & 3.3 & 10.0\\\\\n\t 7.2 & 3.2 & 10.4\\\\\n\t 6.2 & 2.8 &  9.0\\\\\n\t 6.1 & 3.0 &  9.1\\\\\n\t 6.4 & 2.8 &  9.2\\\\\n\t 7.2 & 3.0 & 10.2\\\\\n\t 7.4 & 2.8 & 10.2\\\\\n\t 7.9 & 3.8 & 11.7\\\\\n\t 6.4 & 2.8 &  9.2\\\\\n\t 6.3 & 2.8 &  9.1\\\\\n\t 6.1 & 2.6 &  8.7\\\\\n\t 7.7 & 3.0 & 10.7\\\\\n\t 6.3 & 3.4 &  9.7\\\\\n\t 6.4 & 3.1 &  9.5\\\\\n\t 6.0 & 3.0 &  9.0\\\\\n\t 6.9 & 3.1 & 10.0\\\\\n\t 6.7 & 3.1 &  9.8\\\\\n\t 6.9 & 3.1 & 10.0\\\\\n\t 5.8 & 2.7 &  8.5\\\\\n\t 6.8 & 3.2 & 10.0\\\\\n\t 6.7 & 3.3 & 10.0\\\\\n\t 6.7 & 3.0 &  9.7\\\\\n\t 6.3 & 2.5 &  8.8\\\\\n\t 6.5 & 3.0 &  9.5\\\\\n\t 6.2 & 3.4 &  9.6\\\\\n\t 5.9 & 3.0 &  8.9\\\\\n\\end{tabular}\n",
            "text/markdown": "\nA data.frame: 150 × 3\n\n| Sepal.Length &lt;dbl&gt; | Sepal.Width &lt;dbl&gt; | nova.coluna &lt;dbl&gt; |\n|---|---|---|\n| 5.1 | 3.5 |  8.6 |\n| 4.9 | 3.0 |  7.9 |\n| 4.7 | 3.2 |  7.9 |\n| 4.6 | 3.1 |  7.7 |\n| 5.0 | 3.6 |  8.6 |\n| 5.4 | 3.9 |  9.3 |\n| 4.6 | 3.4 |  8.0 |\n| 5.0 | 3.4 |  8.4 |\n| 4.4 | 2.9 |  7.3 |\n| 4.9 | 3.1 |  8.0 |\n| 5.4 | 3.7 |  9.1 |\n| 4.8 | 3.4 |  8.2 |\n| 4.8 | 3.0 |  7.8 |\n| 4.3 | 3.0 |  7.3 |\n| 5.8 | 4.0 |  9.8 |\n| 5.7 | 4.4 | 10.1 |\n| 5.4 | 3.9 |  9.3 |\n| 5.1 | 3.5 |  8.6 |\n| 5.7 | 3.8 |  9.5 |\n| 5.1 | 3.8 |  8.9 |\n| 5.4 | 3.4 |  8.8 |\n| 5.1 | 3.7 |  8.8 |\n| 4.6 | 3.6 |  8.2 |\n| 5.1 | 3.3 |  8.4 |\n| 4.8 | 3.4 |  8.2 |\n| 5.0 | 3.0 |  8.0 |\n| 5.0 | 3.4 |  8.4 |\n| 5.2 | 3.5 |  8.7 |\n| 5.2 | 3.4 |  8.6 |\n| 4.7 | 3.2 |  7.9 |\n| ⋮ | ⋮ | ⋮ |\n| 6.9 | 3.2 | 10.1 |\n| 5.6 | 2.8 |  8.4 |\n| 7.7 | 2.8 | 10.5 |\n| 6.3 | 2.7 |  9.0 |\n| 6.7 | 3.3 | 10.0 |\n| 7.2 | 3.2 | 10.4 |\n| 6.2 | 2.8 |  9.0 |\n| 6.1 | 3.0 |  9.1 |\n| 6.4 | 2.8 |  9.2 |\n| 7.2 | 3.0 | 10.2 |\n| 7.4 | 2.8 | 10.2 |\n| 7.9 | 3.8 | 11.7 |\n| 6.4 | 2.8 |  9.2 |\n| 6.3 | 2.8 |  9.1 |\n| 6.1 | 2.6 |  8.7 |\n| 7.7 | 3.0 | 10.7 |\n| 6.3 | 3.4 |  9.7 |\n| 6.4 | 3.1 |  9.5 |\n| 6.0 | 3.0 |  9.0 |\n| 6.9 | 3.1 | 10.0 |\n| 6.7 | 3.1 |  9.8 |\n| 6.9 | 3.1 | 10.0 |\n| 5.8 | 2.7 |  8.5 |\n| 6.8 | 3.2 | 10.0 |\n| 6.7 | 3.3 | 10.0 |\n| 6.7 | 3.0 |  9.7 |\n| 6.3 | 2.5 |  8.8 |\n| 6.5 | 3.0 |  9.5 |\n| 6.2 | 3.4 |  9.6 |\n| 5.9 | 3.0 |  8.9 |\n\n",
            "text/html": [
              "<table>\n",
              "<caption>A data.frame: 150 × 3</caption>\n",
              "<thead>\n",
              "\t<tr><th scope=col>Sepal.Length</th><th scope=col>Sepal.Width</th><th scope=col>nova.coluna</th></tr>\n",
              "\t<tr><th scope=col>&lt;dbl&gt;</th><th scope=col>&lt;dbl&gt;</th><th scope=col>&lt;dbl&gt;</th></tr>\n",
              "</thead>\n",
              "<tbody>\n",
              "\t<tr><td>5.1</td><td>3.5</td><td> 8.6</td></tr>\n",
              "\t<tr><td>4.9</td><td>3.0</td><td> 7.9</td></tr>\n",
              "\t<tr><td>4.7</td><td>3.2</td><td> 7.9</td></tr>\n",
              "\t<tr><td>4.6</td><td>3.1</td><td> 7.7</td></tr>\n",
              "\t<tr><td>5.0</td><td>3.6</td><td> 8.6</td></tr>\n",
              "\t<tr><td>5.4</td><td>3.9</td><td> 9.3</td></tr>\n",
              "\t<tr><td>4.6</td><td>3.4</td><td> 8.0</td></tr>\n",
              "\t<tr><td>5.0</td><td>3.4</td><td> 8.4</td></tr>\n",
              "\t<tr><td>4.4</td><td>2.9</td><td> 7.3</td></tr>\n",
              "\t<tr><td>4.9</td><td>3.1</td><td> 8.0</td></tr>\n",
              "\t<tr><td>5.4</td><td>3.7</td><td> 9.1</td></tr>\n",
              "\t<tr><td>4.8</td><td>3.4</td><td> 8.2</td></tr>\n",
              "\t<tr><td>4.8</td><td>3.0</td><td> 7.8</td></tr>\n",
              "\t<tr><td>4.3</td><td>3.0</td><td> 7.3</td></tr>\n",
              "\t<tr><td>5.8</td><td>4.0</td><td> 9.8</td></tr>\n",
              "\t<tr><td>5.7</td><td>4.4</td><td>10.1</td></tr>\n",
              "\t<tr><td>5.4</td><td>3.9</td><td> 9.3</td></tr>\n",
              "\t<tr><td>5.1</td><td>3.5</td><td> 8.6</td></tr>\n",
              "\t<tr><td>5.7</td><td>3.8</td><td> 9.5</td></tr>\n",
              "\t<tr><td>5.1</td><td>3.8</td><td> 8.9</td></tr>\n",
              "\t<tr><td>5.4</td><td>3.4</td><td> 8.8</td></tr>\n",
              "\t<tr><td>5.1</td><td>3.7</td><td> 8.8</td></tr>\n",
              "\t<tr><td>4.6</td><td>3.6</td><td> 8.2</td></tr>\n",
              "\t<tr><td>5.1</td><td>3.3</td><td> 8.4</td></tr>\n",
              "\t<tr><td>4.8</td><td>3.4</td><td> 8.2</td></tr>\n",
              "\t<tr><td>5.0</td><td>3.0</td><td> 8.0</td></tr>\n",
              "\t<tr><td>5.0</td><td>3.4</td><td> 8.4</td></tr>\n",
              "\t<tr><td>5.2</td><td>3.5</td><td> 8.7</td></tr>\n",
              "\t<tr><td>5.2</td><td>3.4</td><td> 8.6</td></tr>\n",
              "\t<tr><td>4.7</td><td>3.2</td><td> 7.9</td></tr>\n",
              "\t<tr><td>⋮</td><td>⋮</td><td>⋮</td></tr>\n",
              "\t<tr><td>6.9</td><td>3.2</td><td>10.1</td></tr>\n",
              "\t<tr><td>5.6</td><td>2.8</td><td> 8.4</td></tr>\n",
              "\t<tr><td>7.7</td><td>2.8</td><td>10.5</td></tr>\n",
              "\t<tr><td>6.3</td><td>2.7</td><td> 9.0</td></tr>\n",
              "\t<tr><td>6.7</td><td>3.3</td><td>10.0</td></tr>\n",
              "\t<tr><td>7.2</td><td>3.2</td><td>10.4</td></tr>\n",
              "\t<tr><td>6.2</td><td>2.8</td><td> 9.0</td></tr>\n",
              "\t<tr><td>6.1</td><td>3.0</td><td> 9.1</td></tr>\n",
              "\t<tr><td>6.4</td><td>2.8</td><td> 9.2</td></tr>\n",
              "\t<tr><td>7.2</td><td>3.0</td><td>10.2</td></tr>\n",
              "\t<tr><td>7.4</td><td>2.8</td><td>10.2</td></tr>\n",
              "\t<tr><td>7.9</td><td>3.8</td><td>11.7</td></tr>\n",
              "\t<tr><td>6.4</td><td>2.8</td><td> 9.2</td></tr>\n",
              "\t<tr><td>6.3</td><td>2.8</td><td> 9.1</td></tr>\n",
              "\t<tr><td>6.1</td><td>2.6</td><td> 8.7</td></tr>\n",
              "\t<tr><td>7.7</td><td>3.0</td><td>10.7</td></tr>\n",
              "\t<tr><td>6.3</td><td>3.4</td><td> 9.7</td></tr>\n",
              "\t<tr><td>6.4</td><td>3.1</td><td> 9.5</td></tr>\n",
              "\t<tr><td>6.0</td><td>3.0</td><td> 9.0</td></tr>\n",
              "\t<tr><td>6.9</td><td>3.1</td><td>10.0</td></tr>\n",
              "\t<tr><td>6.7</td><td>3.1</td><td> 9.8</td></tr>\n",
              "\t<tr><td>6.9</td><td>3.1</td><td>10.0</td></tr>\n",
              "\t<tr><td>5.8</td><td>2.7</td><td> 8.5</td></tr>\n",
              "\t<tr><td>6.8</td><td>3.2</td><td>10.0</td></tr>\n",
              "\t<tr><td>6.7</td><td>3.3</td><td>10.0</td></tr>\n",
              "\t<tr><td>6.7</td><td>3.0</td><td> 9.7</td></tr>\n",
              "\t<tr><td>6.3</td><td>2.5</td><td> 8.8</td></tr>\n",
              "\t<tr><td>6.5</td><td>3.0</td><td> 9.5</td></tr>\n",
              "\t<tr><td>6.2</td><td>3.4</td><td> 9.6</td></tr>\n",
              "\t<tr><td>5.9</td><td>3.0</td><td> 8.9</td></tr>\n",
              "</tbody>\n",
              "</table>\n"
            ]
          },
          "metadata": {
            "tags": []
          }
        },
        {
          "output_type": "display_data",
          "data": {
            "text/plain": [
              "  Sepal.Length Sepal.Width Petal.Length Petal.Width Species nova.coluna\n",
              "1 5.1          3.5         1.4          0.2         setosa  8.6        \n",
              "2 4.9          3.0         1.4          0.2         setosa  7.9        \n",
              "3 4.7          3.2         1.3          0.2         setosa  7.9        \n",
              "4 4.6          3.1         1.5          0.2         setosa  7.7        \n",
              "5 5.0          3.6         1.4          0.2         setosa  8.6        \n",
              "6 5.4          3.9         1.7          0.4         setosa  9.3        "
            ],
            "text/latex": "A data.frame: 6 × 6\n\\begin{tabular}{r|llllll}\n  & Sepal.Length & Sepal.Width & Petal.Length & Petal.Width & Species & nova.coluna\\\\\n  & <dbl> & <dbl> & <dbl> & <dbl> & <fct> & <dbl>\\\\\n\\hline\n\t1 & 5.1 & 3.5 & 1.4 & 0.2 & setosa & 8.6\\\\\n\t2 & 4.9 & 3.0 & 1.4 & 0.2 & setosa & 7.9\\\\\n\t3 & 4.7 & 3.2 & 1.3 & 0.2 & setosa & 7.9\\\\\n\t4 & 4.6 & 3.1 & 1.5 & 0.2 & setosa & 7.7\\\\\n\t5 & 5.0 & 3.6 & 1.4 & 0.2 & setosa & 8.6\\\\\n\t6 & 5.4 & 3.9 & 1.7 & 0.4 & setosa & 9.3\\\\\n\\end{tabular}\n",
            "text/markdown": "\nA data.frame: 6 × 6\n\n| <!--/--> | Sepal.Length &lt;dbl&gt; | Sepal.Width &lt;dbl&gt; | Petal.Length &lt;dbl&gt; | Petal.Width &lt;dbl&gt; | Species &lt;fct&gt; | nova.coluna &lt;dbl&gt; |\n|---|---|---|---|---|---|---|\n| 1 | 5.1 | 3.5 | 1.4 | 0.2 | setosa | 8.6 |\n| 2 | 4.9 | 3.0 | 1.4 | 0.2 | setosa | 7.9 |\n| 3 | 4.7 | 3.2 | 1.3 | 0.2 | setosa | 7.9 |\n| 4 | 4.6 | 3.1 | 1.5 | 0.2 | setosa | 7.7 |\n| 5 | 5.0 | 3.6 | 1.4 | 0.2 | setosa | 8.6 |\n| 6 | 5.4 | 3.9 | 1.7 | 0.4 | setosa | 9.3 |\n\n",
            "text/html": [
              "<table>\n",
              "<caption>A data.frame: 6 × 6</caption>\n",
              "<thead>\n",
              "\t<tr><th></th><th scope=col>Sepal.Length</th><th scope=col>Sepal.Width</th><th scope=col>Petal.Length</th><th scope=col>Petal.Width</th><th scope=col>Species</th><th scope=col>nova.coluna</th></tr>\n",
              "\t<tr><th></th><th scope=col>&lt;dbl&gt;</th><th scope=col>&lt;dbl&gt;</th><th scope=col>&lt;dbl&gt;</th><th scope=col>&lt;dbl&gt;</th><th scope=col>&lt;fct&gt;</th><th scope=col>&lt;dbl&gt;</th></tr>\n",
              "</thead>\n",
              "<tbody>\n",
              "\t<tr><th scope=row>1</th><td>5.1</td><td>3.5</td><td>1.4</td><td>0.2</td><td>setosa</td><td>8.6</td></tr>\n",
              "\t<tr><th scope=row>2</th><td>4.9</td><td>3.0</td><td>1.4</td><td>0.2</td><td>setosa</td><td>7.9</td></tr>\n",
              "\t<tr><th scope=row>3</th><td>4.7</td><td>3.2</td><td>1.3</td><td>0.2</td><td>setosa</td><td>7.9</td></tr>\n",
              "\t<tr><th scope=row>4</th><td>4.6</td><td>3.1</td><td>1.5</td><td>0.2</td><td>setosa</td><td>7.7</td></tr>\n",
              "\t<tr><th scope=row>5</th><td>5.0</td><td>3.6</td><td>1.4</td><td>0.2</td><td>setosa</td><td>8.6</td></tr>\n",
              "\t<tr><th scope=row>6</th><td>5.4</td><td>3.9</td><td>1.7</td><td>0.4</td><td>setosa</td><td>9.3</td></tr>\n",
              "</tbody>\n",
              "</table>\n"
            ]
          },
          "metadata": {
            "tags": []
          }
        }
      ]
    },
    {
      "cell_type": "code",
      "metadata": {
        "colab": {
          "base_uri": "https://localhost:8080/",
          "height": 1000
        },
        "id": "dw-ZAtIKVisW",
        "outputId": "df84b57b-9099-434a-d874-f65b984a0a42"
      },
      "source": [
        "# Para Ordenar os dados de uma data.frame usamos a função \"arrange()\"\n",
        "# primeiro selecionamos a coluna Sepal.Width do dataset iris \n",
        "select(iris, Sepal.Length) %>% # Para usar mais de uma função utilizamos o operador \"%>%\"\n",
        "arrange(Sepal.Length) \n",
        " # depois ordenamos os dados da COLUNA"
      ],
      "execution_count": 60,
      "outputs": [
        {
          "output_type": "display_data",
          "data": {
            "text/plain": [
              "    Sepal.Length\n",
              "1   4.3         \n",
              "2   4.4         \n",
              "3   4.4         \n",
              "4   4.4         \n",
              "5   4.5         \n",
              "6   4.6         \n",
              "7   4.6         \n",
              "8   4.6         \n",
              "9   4.6         \n",
              "10  4.7         \n",
              "11  4.7         \n",
              "12  4.8         \n",
              "13  4.8         \n",
              "14  4.8         \n",
              "15  4.8         \n",
              "16  4.8         \n",
              "17  4.9         \n",
              "18  4.9         \n",
              "19  4.9         \n",
              "20  4.9         \n",
              "21  4.9         \n",
              "22  4.9         \n",
              "23  5.0         \n",
              "24  5.0         \n",
              "25  5.0         \n",
              "26  5.0         \n",
              "27  5.0         \n",
              "28  5.0         \n",
              "29  5.0         \n",
              "30  5.0         \n",
              "⋮   ⋮           \n",
              "121 6.6         \n",
              "122 6.6         \n",
              "123 6.7         \n",
              "124 6.7         \n",
              "125 6.7         \n",
              "126 6.7         \n",
              "127 6.7         \n",
              "128 6.7         \n",
              "129 6.7         \n",
              "130 6.7         \n",
              "131 6.8         \n",
              "132 6.8         \n",
              "133 6.8         \n",
              "134 6.9         \n",
              "135 6.9         \n",
              "136 6.9         \n",
              "137 6.9         \n",
              "138 7.0         \n",
              "139 7.1         \n",
              "140 7.2         \n",
              "141 7.2         \n",
              "142 7.2         \n",
              "143 7.3         \n",
              "144 7.4         \n",
              "145 7.6         \n",
              "146 7.7         \n",
              "147 7.7         \n",
              "148 7.7         \n",
              "149 7.7         \n",
              "150 7.9         "
            ],
            "text/latex": "A data.frame: 150 × 1\n\\begin{tabular}{l}\n Sepal.Length\\\\\n <dbl>\\\\\n\\hline\n\t 4.3\\\\\n\t 4.4\\\\\n\t 4.4\\\\\n\t 4.4\\\\\n\t 4.5\\\\\n\t 4.6\\\\\n\t 4.6\\\\\n\t 4.6\\\\\n\t 4.6\\\\\n\t 4.7\\\\\n\t 4.7\\\\\n\t 4.8\\\\\n\t 4.8\\\\\n\t 4.8\\\\\n\t 4.8\\\\\n\t 4.8\\\\\n\t 4.9\\\\\n\t 4.9\\\\\n\t 4.9\\\\\n\t 4.9\\\\\n\t 4.9\\\\\n\t 4.9\\\\\n\t 5.0\\\\\n\t 5.0\\\\\n\t 5.0\\\\\n\t 5.0\\\\\n\t 5.0\\\\\n\t 5.0\\\\\n\t 5.0\\\\\n\t 5.0\\\\\n\t ⋮\\\\\n\t 6.6\\\\\n\t 6.6\\\\\n\t 6.7\\\\\n\t 6.7\\\\\n\t 6.7\\\\\n\t 6.7\\\\\n\t 6.7\\\\\n\t 6.7\\\\\n\t 6.7\\\\\n\t 6.7\\\\\n\t 6.8\\\\\n\t 6.8\\\\\n\t 6.8\\\\\n\t 6.9\\\\\n\t 6.9\\\\\n\t 6.9\\\\\n\t 6.9\\\\\n\t 7.0\\\\\n\t 7.1\\\\\n\t 7.2\\\\\n\t 7.2\\\\\n\t 7.2\\\\\n\t 7.3\\\\\n\t 7.4\\\\\n\t 7.6\\\\\n\t 7.7\\\\\n\t 7.7\\\\\n\t 7.7\\\\\n\t 7.7\\\\\n\t 7.9\\\\\n\\end{tabular}\n",
            "text/markdown": "\nA data.frame: 150 × 1\n\n| Sepal.Length &lt;dbl&gt; |\n|---|\n| 4.3 |\n| 4.4 |\n| 4.4 |\n| 4.4 |\n| 4.5 |\n| 4.6 |\n| 4.6 |\n| 4.6 |\n| 4.6 |\n| 4.7 |\n| 4.7 |\n| 4.8 |\n| 4.8 |\n| 4.8 |\n| 4.8 |\n| 4.8 |\n| 4.9 |\n| 4.9 |\n| 4.9 |\n| 4.9 |\n| 4.9 |\n| 4.9 |\n| 5.0 |\n| 5.0 |\n| 5.0 |\n| 5.0 |\n| 5.0 |\n| 5.0 |\n| 5.0 |\n| 5.0 |\n| ⋮ |\n| 6.6 |\n| 6.6 |\n| 6.7 |\n| 6.7 |\n| 6.7 |\n| 6.7 |\n| 6.7 |\n| 6.7 |\n| 6.7 |\n| 6.7 |\n| 6.8 |\n| 6.8 |\n| 6.8 |\n| 6.9 |\n| 6.9 |\n| 6.9 |\n| 6.9 |\n| 7.0 |\n| 7.1 |\n| 7.2 |\n| 7.2 |\n| 7.2 |\n| 7.3 |\n| 7.4 |\n| 7.6 |\n| 7.7 |\n| 7.7 |\n| 7.7 |\n| 7.7 |\n| 7.9 |\n\n",
            "text/html": [
              "<table>\n",
              "<caption>A data.frame: 150 × 1</caption>\n",
              "<thead>\n",
              "\t<tr><th scope=col>Sepal.Length</th></tr>\n",
              "\t<tr><th scope=col>&lt;dbl&gt;</th></tr>\n",
              "</thead>\n",
              "<tbody>\n",
              "\t<tr><td>4.3</td></tr>\n",
              "\t<tr><td>4.4</td></tr>\n",
              "\t<tr><td>4.4</td></tr>\n",
              "\t<tr><td>4.4</td></tr>\n",
              "\t<tr><td>4.5</td></tr>\n",
              "\t<tr><td>4.6</td></tr>\n",
              "\t<tr><td>4.6</td></tr>\n",
              "\t<tr><td>4.6</td></tr>\n",
              "\t<tr><td>4.6</td></tr>\n",
              "\t<tr><td>4.7</td></tr>\n",
              "\t<tr><td>4.7</td></tr>\n",
              "\t<tr><td>4.8</td></tr>\n",
              "\t<tr><td>4.8</td></tr>\n",
              "\t<tr><td>4.8</td></tr>\n",
              "\t<tr><td>4.8</td></tr>\n",
              "\t<tr><td>4.8</td></tr>\n",
              "\t<tr><td>4.9</td></tr>\n",
              "\t<tr><td>4.9</td></tr>\n",
              "\t<tr><td>4.9</td></tr>\n",
              "\t<tr><td>4.9</td></tr>\n",
              "\t<tr><td>4.9</td></tr>\n",
              "\t<tr><td>4.9</td></tr>\n",
              "\t<tr><td>5.0</td></tr>\n",
              "\t<tr><td>5.0</td></tr>\n",
              "\t<tr><td>5.0</td></tr>\n",
              "\t<tr><td>5.0</td></tr>\n",
              "\t<tr><td>5.0</td></tr>\n",
              "\t<tr><td>5.0</td></tr>\n",
              "\t<tr><td>5.0</td></tr>\n",
              "\t<tr><td>5.0</td></tr>\n",
              "\t<tr><td>⋮</td></tr>\n",
              "\t<tr><td>6.6</td></tr>\n",
              "\t<tr><td>6.6</td></tr>\n",
              "\t<tr><td>6.7</td></tr>\n",
              "\t<tr><td>6.7</td></tr>\n",
              "\t<tr><td>6.7</td></tr>\n",
              "\t<tr><td>6.7</td></tr>\n",
              "\t<tr><td>6.7</td></tr>\n",
              "\t<tr><td>6.7</td></tr>\n",
              "\t<tr><td>6.7</td></tr>\n",
              "\t<tr><td>6.7</td></tr>\n",
              "\t<tr><td>6.8</td></tr>\n",
              "\t<tr><td>6.8</td></tr>\n",
              "\t<tr><td>6.8</td></tr>\n",
              "\t<tr><td>6.9</td></tr>\n",
              "\t<tr><td>6.9</td></tr>\n",
              "\t<tr><td>6.9</td></tr>\n",
              "\t<tr><td>6.9</td></tr>\n",
              "\t<tr><td>7.0</td></tr>\n",
              "\t<tr><td>7.1</td></tr>\n",
              "\t<tr><td>7.2</td></tr>\n",
              "\t<tr><td>7.2</td></tr>\n",
              "\t<tr><td>7.2</td></tr>\n",
              "\t<tr><td>7.3</td></tr>\n",
              "\t<tr><td>7.4</td></tr>\n",
              "\t<tr><td>7.6</td></tr>\n",
              "\t<tr><td>7.7</td></tr>\n",
              "\t<tr><td>7.7</td></tr>\n",
              "\t<tr><td>7.7</td></tr>\n",
              "\t<tr><td>7.7</td></tr>\n",
              "\t<tr><td>7.9</td></tr>\n",
              "</tbody>\n",
              "</table>\n"
            ]
          },
          "metadata": {
            "tags": []
          }
        }
      ]
    },
    {
      "cell_type": "code",
      "metadata": {
        "colab": {
          "base_uri": "https://localhost:8080/",
          "height": 169
        },
        "id": "ImZwwlRWXKJH",
        "outputId": "6cd1569d-d17c-43eb-bf5d-404e2d10fd4b"
      },
      "source": [
        "# Usar a função \"group_by()\". Serve para agrupar os dados por uma determinada coluna\n",
        "iris %>% group_by(Species) %>%\n",
        "    summarise(mean(Sepal.Length))\n",
        "# O resultado é a média do tamanho da sépala(\"Sepal.Length\") para cada especie(\"Species\")"
      ],
      "execution_count": 61,
      "outputs": [
        {
          "output_type": "stream",
          "text": [
            "`summarise()` ungrouping output (override with `.groups` argument)\n",
            "\n"
          ],
          "name": "stderr"
        },
        {
          "output_type": "display_data",
          "data": {
            "text/plain": [
              "  Species    mean(Sepal.Length)\n",
              "1 setosa     5.006             \n",
              "2 versicolor 5.936             \n",
              "3 virginica  6.588             "
            ],
            "text/latex": "A tibble: 3 × 2\n\\begin{tabular}{ll}\n Species & mean(Sepal.Length)\\\\\n <fct> & <dbl>\\\\\n\\hline\n\t setosa     & 5.006\\\\\n\t versicolor & 5.936\\\\\n\t virginica  & 6.588\\\\\n\\end{tabular}\n",
            "text/markdown": "\nA tibble: 3 × 2\n\n| Species &lt;fct&gt; | mean(Sepal.Length) &lt;dbl&gt; |\n|---|---|\n| setosa     | 5.006 |\n| versicolor | 5.936 |\n| virginica  | 6.588 |\n\n",
            "text/html": [
              "<table>\n",
              "<caption>A tibble: 3 × 2</caption>\n",
              "<thead>\n",
              "\t<tr><th scope=col>Species</th><th scope=col>mean(Sepal.Length)</th></tr>\n",
              "\t<tr><th scope=col>&lt;fct&gt;</th><th scope=col>&lt;dbl&gt;</th></tr>\n",
              "</thead>\n",
              "<tbody>\n",
              "\t<tr><td>setosa    </td><td>5.006</td></tr>\n",
              "\t<tr><td>versicolor</td><td>5.936</td></tr>\n",
              "\t<tr><td>virginica </td><td>6.588</td></tr>\n",
              "</tbody>\n",
              "</table>\n"
            ]
          },
          "metadata": {
            "tags": []
          }
        }
      ]
    },
    {
      "cell_type": "markdown",
      "metadata": {
        "id": "GMuwWgAuAnM5"
      },
      "source": [
        "## 2.11.3 - Transformando os Dados\n",
        "\n",
        "Vamos aprender a Transformar os dados com a linguagem \"R\"\n",
        "\n",
        "vamos utilizar o pacote tidyr"
      ]
    },
    {
      "cell_type": "code",
      "metadata": {
        "colab": {
          "base_uri": "https://localhost:8080/",
          "height": 135
        },
        "id": "ClDJ0kHoAnun",
        "outputId": "fffcc01a-2a1e-4d6b-954c-d154236f56a4"
      },
      "source": [
        "library(tidyr)\n",
        "# Vamos criar de exemplo data.frame com os dados de produtos e quantidade de vendas por ano\n",
        "dfDate <- data.frame(Produto=c('A','B','c'),\n",
        "                    A.2015 = c(10,12,20),\n",
        "                    A.2016 = c(20,25,35),\n",
        "                    A.2017 = c(15,20,30)\n",
        "                    )\n",
        "head(dfDate)"
      ],
      "execution_count": 64,
      "outputs": [
        {
          "output_type": "display_data",
          "data": {
            "text/plain": [
              "  Produto A.2015 A.2016 A.2017\n",
              "1 A       10     20     15    \n",
              "2 B       12     25     20    \n",
              "3 c       20     35     30    "
            ],
            "text/latex": "A data.frame: 3 × 4\n\\begin{tabular}{r|llll}\n  & Produto & A.2015 & A.2016 & A.2017\\\\\n  & <chr> & <dbl> & <dbl> & <dbl>\\\\\n\\hline\n\t1 & A & 10 & 20 & 15\\\\\n\t2 & B & 12 & 25 & 20\\\\\n\t3 & c & 20 & 35 & 30\\\\\n\\end{tabular}\n",
            "text/markdown": "\nA data.frame: 3 × 4\n\n| <!--/--> | Produto &lt;chr&gt; | A.2015 &lt;dbl&gt; | A.2016 &lt;dbl&gt; | A.2017 &lt;dbl&gt; |\n|---|---|---|---|---|\n| 1 | A | 10 | 20 | 15 |\n| 2 | B | 12 | 25 | 20 |\n| 3 | c | 20 | 35 | 30 |\n\n",
            "text/html": [
              "<table>\n",
              "<caption>A data.frame: 3 × 4</caption>\n",
              "<thead>\n",
              "\t<tr><th></th><th scope=col>Produto</th><th scope=col>A.2015</th><th scope=col>A.2016</th><th scope=col>A.2017</th></tr>\n",
              "\t<tr><th></th><th scope=col>&lt;chr&gt;</th><th scope=col>&lt;dbl&gt;</th><th scope=col>&lt;dbl&gt;</th><th scope=col>&lt;dbl&gt;</th></tr>\n",
              "</thead>\n",
              "<tbody>\n",
              "\t<tr><th scope=row>1</th><td>A</td><td>10</td><td>20</td><td>15</td></tr>\n",
              "\t<tr><th scope=row>2</th><td>B</td><td>12</td><td>25</td><td>20</td></tr>\n",
              "\t<tr><th scope=row>3</th><td>c</td><td>20</td><td>35</td><td>30</td></tr>\n",
              "</tbody>\n",
              "</table>\n"
            ]
          },
          "metadata": {
            "tags": []
          }
        }
      ]
    },
    {
      "cell_type": "code",
      "metadata": {
        "colab": {
          "base_uri": "https://localhost:8080/",
          "height": 195
        },
        "id": "LMicv_A2FKOm",
        "outputId": "1c9ec17e-34ec-4c10-dfb8-f4978b08b58c"
      },
      "source": [
        "# Transformando Colunas em Linhas com a função \"gather()\"\n",
        "# O Comando vai criar as variaveis \"Ano\" e \"Coluna\". Depois indicamos a posição das Colunas que serão transformadas\n",
        "dfDate2 <- gather(dfDate, \"Ano\", \"Quantidade\", 2:4)\n",
        "head(dfDate2)\n"
      ],
      "execution_count": 67,
      "outputs": [
        {
          "output_type": "display_data",
          "data": {
            "text/plain": [
              "  Produto Ano    Quantidade\n",
              "1 A       A.2015 10        \n",
              "2 B       A.2015 12        \n",
              "3 c       A.2015 20        \n",
              "4 A       A.2016 20        \n",
              "5 B       A.2016 25        \n",
              "6 c       A.2016 35        "
            ],
            "text/latex": "A data.frame: 6 × 3\n\\begin{tabular}{r|lll}\n  & Produto & Ano & Quantidade\\\\\n  & <chr> & <chr> & <dbl>\\\\\n\\hline\n\t1 & A & A.2015 & 10\\\\\n\t2 & B & A.2015 & 12\\\\\n\t3 & c & A.2015 & 20\\\\\n\t4 & A & A.2016 & 20\\\\\n\t5 & B & A.2016 & 25\\\\\n\t6 & c & A.2016 & 35\\\\\n\\end{tabular}\n",
            "text/markdown": "\nA data.frame: 6 × 3\n\n| <!--/--> | Produto &lt;chr&gt; | Ano &lt;chr&gt; | Quantidade &lt;dbl&gt; |\n|---|---|---|---|\n| 1 | A | A.2015 | 10 |\n| 2 | B | A.2015 | 12 |\n| 3 | c | A.2015 | 20 |\n| 4 | A | A.2016 | 20 |\n| 5 | B | A.2016 | 25 |\n| 6 | c | A.2016 | 35 |\n\n",
            "text/html": [
              "<table>\n",
              "<caption>A data.frame: 6 × 3</caption>\n",
              "<thead>\n",
              "\t<tr><th></th><th scope=col>Produto</th><th scope=col>Ano</th><th scope=col>Quantidade</th></tr>\n",
              "\t<tr><th></th><th scope=col>&lt;chr&gt;</th><th scope=col>&lt;chr&gt;</th><th scope=col>&lt;dbl&gt;</th></tr>\n",
              "</thead>\n",
              "<tbody>\n",
              "\t<tr><th scope=row>1</th><td>A</td><td>A.2015</td><td>10</td></tr>\n",
              "\t<tr><th scope=row>2</th><td>B</td><td>A.2015</td><td>12</td></tr>\n",
              "\t<tr><th scope=row>3</th><td>c</td><td>A.2015</td><td>20</td></tr>\n",
              "\t<tr><th scope=row>4</th><td>A</td><td>A.2016</td><td>20</td></tr>\n",
              "\t<tr><th scope=row>5</th><td>B</td><td>A.2016</td><td>25</td></tr>\n",
              "\t<tr><th scope=row>6</th><td>c</td><td>A.2016</td><td>35</td></tr>\n",
              "</tbody>\n",
              "</table>\n"
            ]
          },
          "metadata": {
            "tags": []
          }
        }
      ]
    },
    {
      "cell_type": "code",
      "metadata": {
        "colab": {
          "base_uri": "https://localhost:8080/",
          "height": 195
        },
        "id": "RFSKiKtKF_V4",
        "outputId": "02abce88-e3c3-420b-fc4d-531b146d1e07"
      },
      "source": [
        "# Vamos agora corrigir as informaçõpes da coluna Ano, com a função \"separate()\".\n",
        "# Essa função separa um texto de acordo com um condição\n",
        "dfDate3 <- separate(dfDate2, Ano, c(\"A\", \"Ano\"))\n",
        "head(dfDate3)\n",
        "# Como resultado separamos a Coluna em outras duas Colunas \"A\" e \"Ano\"\n",
        "#Depois vamos excluir a coluna A (indice 2)\n"
      ],
      "execution_count": 69,
      "outputs": [
        {
          "output_type": "display_data",
          "data": {
            "text/plain": [
              "  Produto A Ano  Quantidade\n",
              "1 A       A 2015 10        \n",
              "2 B       A 2015 12        \n",
              "3 c       A 2015 20        \n",
              "4 A       A 2016 20        \n",
              "5 B       A 2016 25        \n",
              "6 c       A 2016 35        "
            ],
            "text/latex": "A data.frame: 6 × 4\n\\begin{tabular}{r|llll}\n  & Produto & A & Ano & Quantidade\\\\\n  & <chr> & <chr> & <chr> & <dbl>\\\\\n\\hline\n\t1 & A & A & 2015 & 10\\\\\n\t2 & B & A & 2015 & 12\\\\\n\t3 & c & A & 2015 & 20\\\\\n\t4 & A & A & 2016 & 20\\\\\n\t5 & B & A & 2016 & 25\\\\\n\t6 & c & A & 2016 & 35\\\\\n\\end{tabular}\n",
            "text/markdown": "\nA data.frame: 6 × 4\n\n| <!--/--> | Produto &lt;chr&gt; | A &lt;chr&gt; | Ano &lt;chr&gt; | Quantidade &lt;dbl&gt; |\n|---|---|---|---|---|\n| 1 | A | A | 2015 | 10 |\n| 2 | B | A | 2015 | 12 |\n| 3 | c | A | 2015 | 20 |\n| 4 | A | A | 2016 | 20 |\n| 5 | B | A | 2016 | 25 |\n| 6 | c | A | 2016 | 35 |\n\n",
            "text/html": [
              "<table>\n",
              "<caption>A data.frame: 6 × 4</caption>\n",
              "<thead>\n",
              "\t<tr><th></th><th scope=col>Produto</th><th scope=col>A</th><th scope=col>Ano</th><th scope=col>Quantidade</th></tr>\n",
              "\t<tr><th></th><th scope=col>&lt;chr&gt;</th><th scope=col>&lt;chr&gt;</th><th scope=col>&lt;chr&gt;</th><th scope=col>&lt;dbl&gt;</th></tr>\n",
              "</thead>\n",
              "<tbody>\n",
              "\t<tr><th scope=row>1</th><td>A</td><td>A</td><td>2015</td><td>10</td></tr>\n",
              "\t<tr><th scope=row>2</th><td>B</td><td>A</td><td>2015</td><td>12</td></tr>\n",
              "\t<tr><th scope=row>3</th><td>c</td><td>A</td><td>2015</td><td>20</td></tr>\n",
              "\t<tr><th scope=row>4</th><td>A</td><td>A</td><td>2016</td><td>20</td></tr>\n",
              "\t<tr><th scope=row>5</th><td>B</td><td>A</td><td>2016</td><td>25</td></tr>\n",
              "\t<tr><th scope=row>6</th><td>c</td><td>A</td><td>2016</td><td>35</td></tr>\n",
              "</tbody>\n",
              "</table>\n"
            ]
          },
          "metadata": {
            "tags": []
          }
        }
      ]
    },
    {
      "cell_type": "code",
      "metadata": {
        "colab": {
          "base_uri": "https://localhost:8080/",
          "height": 255
        },
        "id": "FjA41anJGzw_",
        "outputId": "f6782743-75a8-4931-ed0c-08d428aa2e99"
      },
      "source": [
        "dfDate3 <- dfDate3 [-2]\n",
        "dfDate3\n",
        "# Observe que o resultado já não aparece a letra A."
      ],
      "execution_count": 70,
      "outputs": [
        {
          "output_type": "display_data",
          "data": {
            "text/plain": [
              "  Produto Ano  Quantidade\n",
              "1 A       2015 10        \n",
              "2 B       2015 12        \n",
              "3 c       2015 20        \n",
              "4 A       2016 20        \n",
              "5 B       2016 25        \n",
              "6 c       2016 35        \n",
              "7 A       2017 15        \n",
              "8 B       2017 20        \n",
              "9 c       2017 30        "
            ],
            "text/latex": "A data.frame: 9 × 3\n\\begin{tabular}{lll}\n Produto & Ano & Quantidade\\\\\n <chr> & <chr> & <dbl>\\\\\n\\hline\n\t A & 2015 & 10\\\\\n\t B & 2015 & 12\\\\\n\t c & 2015 & 20\\\\\n\t A & 2016 & 20\\\\\n\t B & 2016 & 25\\\\\n\t c & 2016 & 35\\\\\n\t A & 2017 & 15\\\\\n\t B & 2017 & 20\\\\\n\t c & 2017 & 30\\\\\n\\end{tabular}\n",
            "text/markdown": "\nA data.frame: 9 × 3\n\n| Produto &lt;chr&gt; | Ano &lt;chr&gt; | Quantidade &lt;dbl&gt; |\n|---|---|---|\n| A | 2015 | 10 |\n| B | 2015 | 12 |\n| c | 2015 | 20 |\n| A | 2016 | 20 |\n| B | 2016 | 25 |\n| c | 2016 | 35 |\n| A | 2017 | 15 |\n| B | 2017 | 20 |\n| c | 2017 | 30 |\n\n",
            "text/html": [
              "<table>\n",
              "<caption>A data.frame: 9 × 3</caption>\n",
              "<thead>\n",
              "\t<tr><th scope=col>Produto</th><th scope=col>Ano</th><th scope=col>Quantidade</th></tr>\n",
              "\t<tr><th scope=col>&lt;chr&gt;</th><th scope=col>&lt;chr&gt;</th><th scope=col>&lt;dbl&gt;</th></tr>\n",
              "</thead>\n",
              "<tbody>\n",
              "\t<tr><td>A</td><td>2015</td><td>10</td></tr>\n",
              "\t<tr><td>B</td><td>2015</td><td>12</td></tr>\n",
              "\t<tr><td>c</td><td>2015</td><td>20</td></tr>\n",
              "\t<tr><td>A</td><td>2016</td><td>20</td></tr>\n",
              "\t<tr><td>B</td><td>2016</td><td>25</td></tr>\n",
              "\t<tr><td>c</td><td>2016</td><td>35</td></tr>\n",
              "\t<tr><td>A</td><td>2017</td><td>15</td></tr>\n",
              "\t<tr><td>B</td><td>2017</td><td>20</td></tr>\n",
              "\t<tr><td>c</td><td>2017</td><td>30</td></tr>\n",
              "</tbody>\n",
              "</table>\n"
            ]
          },
          "metadata": {
            "tags": []
          }
        }
      ]
    },
    {
      "cell_type": "code",
      "metadata": {
        "colab": {
          "base_uri": "https://localhost:8080/",
          "height": 255
        },
        "id": "mCqalPMmHal_",
        "outputId": "8c77cfa3-109d-460f-fa65-fc82d9a6d1b1"
      },
      "source": [
        "# Vamos acrescentar a coluna \"Mês\" ao dfDate3\n",
        "dfDate3$mes <- c('01','02','03')\n",
        "dfDate3"
      ],
      "execution_count": 71,
      "outputs": [
        {
          "output_type": "display_data",
          "data": {
            "text/plain": [
              "  Produto Ano  Quantidade mes\n",
              "1 A       2015 10         01 \n",
              "2 B       2015 12         02 \n",
              "3 c       2015 20         03 \n",
              "4 A       2016 20         01 \n",
              "5 B       2016 25         02 \n",
              "6 c       2016 35         03 \n",
              "7 A       2017 15         01 \n",
              "8 B       2017 20         02 \n",
              "9 c       2017 30         03 "
            ],
            "text/latex": "A data.frame: 9 × 4\n\\begin{tabular}{llll}\n Produto & Ano & Quantidade & mes\\\\\n <chr> & <chr> & <dbl> & <chr>\\\\\n\\hline\n\t A & 2015 & 10 & 01\\\\\n\t B & 2015 & 12 & 02\\\\\n\t c & 2015 & 20 & 03\\\\\n\t A & 2016 & 20 & 01\\\\\n\t B & 2016 & 25 & 02\\\\\n\t c & 2016 & 35 & 03\\\\\n\t A & 2017 & 15 & 01\\\\\n\t B & 2017 & 20 & 02\\\\\n\t c & 2017 & 30 & 03\\\\\n\\end{tabular}\n",
            "text/markdown": "\nA data.frame: 9 × 4\n\n| Produto &lt;chr&gt; | Ano &lt;chr&gt; | Quantidade &lt;dbl&gt; | mes &lt;chr&gt; |\n|---|---|---|---|\n| A | 2015 | 10 | 01 |\n| B | 2015 | 12 | 02 |\n| c | 2015 | 20 | 03 |\n| A | 2016 | 20 | 01 |\n| B | 2016 | 25 | 02 |\n| c | 2016 | 35 | 03 |\n| A | 2017 | 15 | 01 |\n| B | 2017 | 20 | 02 |\n| c | 2017 | 30 | 03 |\n\n",
            "text/html": [
              "<table>\n",
              "<caption>A data.frame: 9 × 4</caption>\n",
              "<thead>\n",
              "\t<tr><th scope=col>Produto</th><th scope=col>Ano</th><th scope=col>Quantidade</th><th scope=col>mes</th></tr>\n",
              "\t<tr><th scope=col>&lt;chr&gt;</th><th scope=col>&lt;chr&gt;</th><th scope=col>&lt;dbl&gt;</th><th scope=col>&lt;chr&gt;</th></tr>\n",
              "</thead>\n",
              "<tbody>\n",
              "\t<tr><td>A</td><td>2015</td><td>10</td><td>01</td></tr>\n",
              "\t<tr><td>B</td><td>2015</td><td>12</td><td>02</td></tr>\n",
              "\t<tr><td>c</td><td>2015</td><td>20</td><td>03</td></tr>\n",
              "\t<tr><td>A</td><td>2016</td><td>20</td><td>01</td></tr>\n",
              "\t<tr><td>B</td><td>2016</td><td>25</td><td>02</td></tr>\n",
              "\t<tr><td>c</td><td>2016</td><td>35</td><td>03</td></tr>\n",
              "\t<tr><td>A</td><td>2017</td><td>15</td><td>01</td></tr>\n",
              "\t<tr><td>B</td><td>2017</td><td>20</td><td>02</td></tr>\n",
              "\t<tr><td>c</td><td>2017</td><td>30</td><td>03</td></tr>\n",
              "</tbody>\n",
              "</table>\n"
            ]
          },
          "metadata": {
            "tags": []
          }
        }
      ]
    },
    {
      "cell_type": "code",
      "metadata": {
        "colab": {
          "base_uri": "https://localhost:8080/",
          "height": 195
        },
        "id": "4Eq0FALgH_k0",
        "outputId": "0f28dbab-e3b5-46dd-8620-ec1c626601b3"
      },
      "source": [
        "# Após criar coluna Mes , vamos juntar com a Coluna Ano.\n",
        "# Usando a função \"unite(NovaColuna, Coluna1, Coluna2, sep=\"separador\")\"\n",
        "\n",
        "\n",
        "dfDate4 <- dfDate3 %>%\n",
        "  unite(Data,mes,Ano,sep='/')\n",
        "head(dfDate4)"
      ],
      "execution_count": 73,
      "outputs": [
        {
          "output_type": "display_data",
          "data": {
            "text/plain": [
              "  Produto Data    Quantidade\n",
              "1 A       01/2015 10        \n",
              "2 B       02/2015 12        \n",
              "3 c       03/2015 20        \n",
              "4 A       01/2016 20        \n",
              "5 B       02/2016 25        \n",
              "6 c       03/2016 35        "
            ],
            "text/latex": "A data.frame: 6 × 3\n\\begin{tabular}{r|lll}\n  & Produto & Data & Quantidade\\\\\n  & <chr> & <chr> & <dbl>\\\\\n\\hline\n\t1 & A & 01/2015 & 10\\\\\n\t2 & B & 02/2015 & 12\\\\\n\t3 & c & 03/2015 & 20\\\\\n\t4 & A & 01/2016 & 20\\\\\n\t5 & B & 02/2016 & 25\\\\\n\t6 & c & 03/2016 & 35\\\\\n\\end{tabular}\n",
            "text/markdown": "\nA data.frame: 6 × 3\n\n| <!--/--> | Produto &lt;chr&gt; | Data &lt;chr&gt; | Quantidade &lt;dbl&gt; |\n|---|---|---|---|\n| 1 | A | 01/2015 | 10 |\n| 2 | B | 02/2015 | 12 |\n| 3 | c | 03/2015 | 20 |\n| 4 | A | 01/2016 | 20 |\n| 5 | B | 02/2016 | 25 |\n| 6 | c | 03/2016 | 35 |\n\n",
            "text/html": [
              "<table>\n",
              "<caption>A data.frame: 6 × 3</caption>\n",
              "<thead>\n",
              "\t<tr><th></th><th scope=col>Produto</th><th scope=col>Data</th><th scope=col>Quantidade</th></tr>\n",
              "\t<tr><th></th><th scope=col>&lt;chr&gt;</th><th scope=col>&lt;chr&gt;</th><th scope=col>&lt;dbl&gt;</th></tr>\n",
              "</thead>\n",
              "<tbody>\n",
              "\t<tr><th scope=row>1</th><td>A</td><td>01/2015</td><td>10</td></tr>\n",
              "\t<tr><th scope=row>2</th><td>B</td><td>02/2015</td><td>12</td></tr>\n",
              "\t<tr><th scope=row>3</th><td>c</td><td>03/2015</td><td>20</td></tr>\n",
              "\t<tr><th scope=row>4</th><td>A</td><td>01/2016</td><td>20</td></tr>\n",
              "\t<tr><th scope=row>5</th><td>B</td><td>02/2016</td><td>25</td></tr>\n",
              "\t<tr><th scope=row>6</th><td>c</td><td>03/2016</td><td>35</td></tr>\n",
              "</tbody>\n",
              "</table>\n"
            ]
          },
          "metadata": {
            "tags": []
          }
        }
      ]
    },
    {
      "cell_type": "markdown",
      "metadata": {
        "id": "8RqIIBpWL7gh"
      },
      "source": [
        "# **3 - Machine Learning**"
      ]
    },
    {
      "cell_type": "markdown",
      "metadata": {
        "id": "JQjkP1K8jOQ3"
      },
      "source": [
        "**Machine learning** ou aprendizagem de máquina é uma representação que tem como objetivo criar um modelo a partir de dados históricos para generalizar decisões. Mas o que vem a ser um modelo nesse contexto? \n",
        "\n",
        "Modelo é uma representação dos relacionamentos existentes nos dados por meio de uma fórmula matemática.\n",
        "\n",
        "Antes de ver os algoritmos, vamos entender alguns termos utilizados em conjunto de dados. \n",
        "\n",
        "**Instâncias ou observações**\n",
        "–\n",
        "São as linhas do dataset.\n",
        "\n",
        "**Variável resposta/dependente, classe, label ou target**\n",
        "–\n",
        "É a variável/coluna que se quer prever.\n",
        "\n",
        "**Features, atributos, dimensões ou variáveis independentes/explicativas**\n",
        "–\n",
        "São colunas do dataset que podem ser utilizadas para prever a variável target. \n",
        "\n"
      ]
    },
    {
      "cell_type": "code",
      "metadata": {
        "id": "RZOyOMK3hikn"
      },
      "source": [
        ""
      ],
      "execution_count": null,
      "outputs": []
    }
  ]
}