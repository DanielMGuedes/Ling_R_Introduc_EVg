{
  "nbformat": 4,
  "nbformat_minor": 0,
  "metadata": {
    "colab": {
      "name": "Linguagen_R_Tratamento_de_Dados.ipynb",
      "provenance": [],
      "collapsed_sections": [],
      "toc_visible": true,
      "authorship_tag": "ABX9TyNZPJAHvLUYCb1iNtrNJClM",
      "include_colab_link": true
    },
    "kernelspec": {
      "name": "ir",
      "display_name": "R"
    }
  },
  "cells": [
    {
      "cell_type": "markdown",
      "metadata": {
        "id": "view-in-github",
        "colab_type": "text"
      },
      "source": [
        "<a href=\"https://colab.research.google.com/github/DanielMGuedes/Ling_R_Introduc_EVg/blob/main/Linguagen_R_Tratamento_de_Dados.ipynb\" target=\"_parent\"><img src=\"https://colab.research.google.com/assets/colab-badge.svg\" alt=\"Open In Colab\"/></a>"
      ]
    },
    {
      "cell_type": "markdown",
      "metadata": {
        "id": "KVWF1WsxAv1o"
      },
      "source": [
        "# **Análise de Dados em Linguagem R**\n",
        "A análise de dados tem grande importância na tomada de decisões, auxiliando instituições na detecção de anomalias, monitoramento de indicadores ou melhoria de processos. Neste Mini-curso, aprenda a utilizar a linguagem R na preparação e exploração dos dados, apresentando os resultados por meio de gráficos e painéis gerenciais."
      ]
    },
    {
      "cell_type": "markdown",
      "metadata": {
        "id": "4aSwRxhUey1r"
      },
      "source": [
        "# **Criando o primeiro Script em R** *2.1*\n",
        "\n",
        "\n",
        "*   Criar uma variavel\n",
        "* Conhecer o comando \"<-\" = recebe(serve para atribuir valores a uma variavel\n",
        "*   utilizar o comando \"print()\"\n",
        "\n",
        "\n",
        "\n",
        "vamos criar uma variavel \"msg\" e atribuir uma mensagem \"Hello Word\""
      ]
    },
    {
      "cell_type": "code",
      "metadata": {
        "id": "MnpzzbSaeTYZ"
      },
      "source": [
        "msg <- \"Heloo word\""
      ],
      "execution_count": 1,
      "outputs": []
    },
    {
      "cell_type": "markdown",
      "metadata": {
        "id": "CJPAEs6XfNJs"
      },
      "source": [
        "para mostra na tela o valor armazenado na variavel basta  digitar o comando>\n",
        "\n",
        "print(msg)"
      ]
    },
    {
      "cell_type": "code",
      "metadata": {
        "id": "2V_P8EFLfGjo",
        "outputId": "b26e2fbc-9a5e-4409-c9c1-e9664427c49a",
        "colab": {
          "base_uri": "https://localhost:8080/"
        }
      },
      "source": [
        "print (msg)"
      ],
      "execution_count": 2,
      "outputs": [
        {
          "output_type": "stream",
          "text": [
            "[1] \"Heloo word\"\n"
          ],
          "name": "stdout"
        }
      ]
    },
    {
      "cell_type": "markdown",
      "metadata": {
        "id": "difYBWj2fLFw"
      },
      "source": [
        "# Comentar seu Código (Documentação) *2.2*\n",
        "\n",
        "* Aprender a comentar o código utilizando \"#\"\n",
        "\n",
        "> Vamos criar comentários em nosso código\n",
        "\n",
        "Obs.: Uma boa prática no desenvolvimento de aplicações e códigos, é utilizar de comentários ao longo do cógigo para facilitar a identificação e objetivos daquele código. Chamamos isso de \"Documentação do Programa\"\n"
      ]
    },
    {
      "cell_type": "code",
      "metadata": {
        "id": "Z7e_oi8Nh8lq",
        "outputId": "eed9025e-7b2d-4dbf-ef35-a384cca535d4",
        "colab": {
          "base_uri": "https://localhost:8080/"
        }
      },
      "source": [
        "msg <- \"Heloo word\"\n",
        "print (msg)\n",
        "# Isso é um comentário"
      ],
      "execution_count": 3,
      "outputs": [
        {
          "output_type": "stream",
          "text": [
            "[1] \"Heloo word\"\n"
          ],
          "name": "stdout"
        }
      ]
    },
    {
      "cell_type": "markdown",
      "metadata": {
        "id": "iAHSif86isTz"
      },
      "source": [
        "observe que a saída após a execução do código, não mostra a mensagem antes de \"#\" \n"
      ]
    },
    {
      "cell_type": "markdown",
      "metadata": {
        "id": "_-pgai96jCJV"
      },
      "source": [
        "#Documentação da Função *2.3*\n",
        "\n",
        "Toda vez que tiver dúvida sobre um parametro ou função que será utilizada é possível consultar a documentação através do comando \"?\" na frente da função que se tem dúvida.\n",
        "Ex.:\n"
      ]
    },
    {
      "cell_type": "code",
      "metadata": {
        "id": "nya-pildi2PZ"
      },
      "source": [
        "?print"
      ],
      "execution_count": 4,
      "outputs": []
    },
    {
      "cell_type": "markdown",
      "metadata": {
        "id": "A5GsB0uDjrk7"
      },
      "source": [
        "O Programa tráz como saída a documentação da função \"print\".\n",
        "\n"
      ]
    },
    {
      "cell_type": "markdown",
      "metadata": {
        "id": "hEEZ4IFpthFp"
      },
      "source": [
        "# Instalando Pacotes *2.4*\n",
        "Uma das grandes vantagens do R são diversos pacotes disponíveis. \n",
        "Para usarmos as funções que um pacote oferece, primeiro é necessário instalar o pacote desejado por meio da função “install.packages()” e depois carregá-lo utilizando a função “library()”.\n",
        "Exemplo:\n"
      ]
    },
    {
      "cell_type": "code",
      "metadata": {
        "id": "ztZnDy2-tv4P",
        "outputId": "815af2ef-8b29-49c2-c292-eb5a785ccafd",
        "colab": {
          "base_uri": "https://localhost:8080/"
        }
      },
      "source": [
        "install.packages (\"ggplot2\")"
      ],
      "execution_count": 5,
      "outputs": [
        {
          "output_type": "stream",
          "text": [
            "Installing package into ‘/usr/local/lib/R/site-library’\n",
            "(as ‘lib’ is unspecified)\n",
            "\n"
          ],
          "name": "stderr"
        }
      ]
    },
    {
      "cell_type": "code",
      "metadata": {
        "id": "eQfIia8JkvM3"
      },
      "source": [
        "library(ggplot2)"
      ],
      "execution_count": 6,
      "outputs": []
    },
    {
      "cell_type": "markdown",
      "metadata": {
        "id": "_KTXvxjivwL0"
      },
      "source": [
        "Após essa instalação e carregamento. Já podemos utilizar as funções do Pacote GGPLOT2"
      ]
    },
    {
      "cell_type": "code",
      "metadata": {
        "id": "Yo8u3nkFv8LQ"
      },
      "source": [
        ""
      ],
      "execution_count": 7,
      "outputs": []
    },
    {
      "cell_type": "markdown",
      "metadata": {
        "id": "wkNRhK0Vv-7R"
      },
      "source": [
        "# Estrutura de dados *2.5*\n",
        "\n",
        "Na linguagem R temos diversas estruturas que permitem armazenar os dados produzidos. Nesse tópico, vamos conhecer essas estruturas e suas principais funções.\n",
        "\n",
        "**Vetor**\n",
        "Armazena um conjunto de valores ordenados chamados de elementos. Todos os elementos de um vetor devem ser do mesmo tipo.\n",
        "\n",
        "**Fator**\n",
        "Armazena valores categóricos (nominal ou ordinal).\n",
        "\n",
        "**Lista**\n",
        "É um tipo especial de vetor, porém é possível adicionar elementos de tipos diferentes.\n",
        "\n",
        "**Data frame**\n",
        "É utilizado para organizar elementos em linhas e colunas, semelhante a uma planilha ou base de dados. Além disso, pode ser formado por listas ou vetores.\n",
        "\n",
        "**Matriz**\n",
        "Armazena dados tabulares semelhante ao data frame, porém só aceita um tipo de dado."
      ]
    },
    {
      "cell_type": "markdown",
      "metadata": {
        "id": "c6Fl4iDU0LBF"
      },
      "source": [
        "## Vetores"
      ]
    },
    {
      "cell_type": "code",
      "metadata": {
        "id": "BGrealU4j1W6",
        "outputId": "6d0e1c8b-90f5-472a-8426-0b9eb458387a",
        "colab": {
          "base_uri": "https://localhost:8080/",
          "height": 34
        }
      },
      "source": [
        "#Vamos criar o vetor cidade com a função: \"c()\" - Obs.: A virgula separa cada elemento do vetor. Como estamos digitando strin(texto, precisamos fazer isso entre aspas)\n",
        "cidade <- c(\"Brasília\", \"São Paulo\", \"Rio de Janeiro\", \"Porto Alegre\")\n",
        "\n",
        "cidade\n"
      ],
      "execution_count": 8,
      "outputs": [
        {
          "output_type": "display_data",
          "data": {
            "text/plain": [
              "[1] \"Brasília\"       \"São Paulo\"      \"Rio de Janeiro\" \"Porto Alegre\"  "
            ],
            "text/latex": "\\begin{enumerate*}\n\\item 'Brasília'\n\\item 'São Paulo'\n\\item 'Rio de Janeiro'\n\\item 'Porto Alegre'\n\\end{enumerate*}\n",
            "text/markdown": "1. 'Brasília'\n2. 'São Paulo'\n3. 'Rio de Janeiro'\n4. 'Porto Alegre'\n\n\n",
            "text/html": [
              "<style>\n",
              ".list-inline {list-style: none; margin:0; padding: 0}\n",
              ".list-inline>li {display: inline-block}\n",
              ".list-inline>li:not(:last-child)::after {content: \"\\00b7\"; padding: 0 .5ex}\n",
              "</style>\n",
              "<ol class=list-inline><li>'Brasília'</li><li>'São Paulo'</li><li>'Rio de Janeiro'</li><li>'Porto Alegre'</li></ol>\n"
            ]
          },
          "metadata": {
            "tags": []
          }
        }
      ]
    },
    {
      "cell_type": "code",
      "metadata": {
        "id": "uaoPDiMHyjOC"
      },
      "source": [
        "#Agora vamos criar outros vetores  \"temperatura e regiao\" com a função \"c() \"\n",
        "\n",
        "temperatura <- c(32,22,35,17)\n",
        "região <- c(1,2,2,3)\n"
      ],
      "execution_count": 9,
      "outputs": []
    },
    {
      "cell_type": "markdown",
      "metadata": {
        "id": "hIUcreOI0CeC"
      },
      "source": [
        "### Operações com Vetores"
      ]
    },
    {
      "cell_type": "code",
      "metadata": {
        "id": "ejoljAECzjNk",
        "outputId": "581fb7d9-dea3-40c9-85ac-7779143b5008",
        "colab": {
          "base_uri": "https://localhost:8080/",
          "height": 34
        }
      },
      "source": [
        "# Acessando o primeiro elemento de um vetor ...\n",
        "#Comando: NomeVetor[posição]\n",
        "\n",
        "cidade[1]\n",
        "\n",
        "#Obs1.: As informações dos vetores sempre vão utilizar []\n",
        "#Obs2.: Diferente das Outras Linguagens de Programação em \"R\" a contagem de elementos na mémoria começa em 1.\n"
      ],
      "execution_count": 10,
      "outputs": [
        {
          "output_type": "display_data",
          "data": {
            "text/plain": [
              "[1] \"Brasília\""
            ],
            "text/latex": "'Brasília'",
            "text/markdown": "'Brasília'",
            "text/html": [
              "'Brasília'"
            ]
          },
          "metadata": {
            "tags": []
          }
        }
      ]
    },
    {
      "cell_type": "code",
      "metadata": {
        "id": "bKR4yH6bC0Fg",
        "outputId": "69c840f8-f2f1-4e62-cc03-fdc89581b1e1",
        "colab": {
          "base_uri": "https://localhost:8080/",
          "height": 34
        }
      },
      "source": [
        "# Acessar um intervalo de valores denro do vetor:\n",
        "# Comando: NomeVetor [x1:x2] (x1 = inicio e x2 = fim)\n",
        "temperatura[1:3]"
      ],
      "execution_count": 11,
      "outputs": [
        {
          "output_type": "display_data",
          "data": {
            "text/plain": [
              "[1] 32 22 35"
            ],
            "text/latex": "\\begin{enumerate*}\n\\item 32\n\\item 22\n\\item 35\n\\end{enumerate*}\n",
            "text/markdown": "1. 32\n2. 22\n3. 35\n\n\n",
            "text/html": [
              "<style>\n",
              ".list-inline {list-style: none; margin:0; padding: 0}\n",
              ".list-inline>li {display: inline-block}\n",
              ".list-inline>li:not(:last-child)::after {content: \"\\00b7\"; padding: 0 .5ex}\n",
              "</style>\n",
              "<ol class=list-inline><li>32</li><li>22</li><li>35</li></ol>\n"
            ]
          },
          "metadata": {
            "tags": []
          }
        }
      ]
    },
    {
      "cell_type": "code",
      "metadata": {
        "id": "7U1YzFEgECEn",
        "outputId": "6ce0cc33-1335-4b83-c5a3-5425e0dcac22",
        "colab": {
          "base_uri": "https://localhost:8080/",
          "height": 34
        }
      },
      "source": [
        "# Copiar um vetor, Para copiar um vetor é necessário ter uma outra variavél que vai receber o vetor\n",
        "# por exemplo vamos declarar a nova variavél \"cidade2\" e depois atribuir o vetor cidade nessa variavel. \n",
        "# Comando: NovaVariavel <- NomeVetor\n",
        "cidade2 <- cidade\n",
        "cidade2"
      ],
      "execution_count": 12,
      "outputs": [
        {
          "output_type": "display_data",
          "data": {
            "text/plain": [
              "[1] \"Brasília\"       \"São Paulo\"      \"Rio de Janeiro\" \"Porto Alegre\"  "
            ],
            "text/latex": "\\begin{enumerate*}\n\\item 'Brasília'\n\\item 'São Paulo'\n\\item 'Rio de Janeiro'\n\\item 'Porto Alegre'\n\\end{enumerate*}\n",
            "text/markdown": "1. 'Brasília'\n2. 'São Paulo'\n3. 'Rio de Janeiro'\n4. 'Porto Alegre'\n\n\n",
            "text/html": [
              "<style>\n",
              ".list-inline {list-style: none; margin:0; padding: 0}\n",
              ".list-inline>li {display: inline-block}\n",
              ".list-inline>li:not(:last-child)::after {content: \"\\00b7\"; padding: 0 .5ex}\n",
              "</style>\n",
              "<ol class=list-inline><li>'Brasília'</li><li>'São Paulo'</li><li>'Rio de Janeiro'</li><li>'Porto Alegre'</li></ol>\n"
            ]
          },
          "metadata": {
            "tags": []
          }
        }
      ]
    },
    {
      "cell_type": "code",
      "metadata": {
        "id": "SGBM3qDqFChg",
        "outputId": "42f7ca39-37eb-436b-9975-d123d08a5b0a",
        "colab": {
          "base_uri": "https://localhost:8080/",
          "height": 34
        }
      },
      "source": [
        "#Excluir um elemento do VETOR.\n",
        "# para excluir um elemento utilizamos o sinal de - (menos)\n",
        "#Comando: NomeVetor[-posição]\n",
        "temperatura[-2]\n",
        "# Retotnou o vetor temperatura, sem o elemento que estava na posição 2 = 22"
      ],
      "execution_count": 13,
      "outputs": [
        {
          "output_type": "display_data",
          "data": {
            "text/plain": [
              "[1] 32 35 17"
            ],
            "text/latex": "\\begin{enumerate*}\n\\item 32\n\\item 35\n\\item 17\n\\end{enumerate*}\n",
            "text/markdown": "1. 32\n2. 35\n3. 17\n\n\n",
            "text/html": [
              "<style>\n",
              ".list-inline {list-style: none; margin:0; padding: 0}\n",
              ".list-inline>li {display: inline-block}\n",
              ".list-inline>li:not(:last-child)::after {content: \"\\00b7\"; padding: 0 .5ex}\n",
              "</style>\n",
              "<ol class=list-inline><li>32</li><li>35</li><li>17</li></ol>\n"
            ]
          },
          "metadata": {
            "tags": []
          }
        }
      ]
    },
    {
      "cell_type": "code",
      "metadata": {
        "id": "9qQxJqOPGN5_",
        "outputId": "1096ce0c-22bd-468f-f46e-8990a5baef4c",
        "colab": {
          "base_uri": "https://localhost:8080/",
          "height": 34
        }
      },
      "source": [
        "# Alterar/Substituir um elemento do Vetor.\n",
        "# é necessário declarar o Vetor com a posição que será alterada.\n",
        "# Comando: NomeVetor[posição <- \"Alteração\"]\n",
        "\n",
        "cidade2[3] <- \"Belo Horizonte\"\n",
        "cidade2\n",
        "\n",
        "# A posição 3 do Vetor cidade2 foi alterada de \"Rio de Janeiro\" para \"Belo Horizonte\""
      ],
      "execution_count": 14,
      "outputs": [
        {
          "output_type": "display_data",
          "data": {
            "text/plain": [
              "[1] \"Brasília\"       \"São Paulo\"      \"Belo Horizonte\" \"Porto Alegre\"  "
            ],
            "text/latex": "\\begin{enumerate*}\n\\item 'Brasília'\n\\item 'São Paulo'\n\\item 'Belo Horizonte'\n\\item 'Porto Alegre'\n\\end{enumerate*}\n",
            "text/markdown": "1. 'Brasília'\n2. 'São Paulo'\n3. 'Belo Horizonte'\n4. 'Porto Alegre'\n\n\n",
            "text/html": [
              "<style>\n",
              ".list-inline {list-style: none; margin:0; padding: 0}\n",
              ".list-inline>li {display: inline-block}\n",
              ".list-inline>li:not(:last-child)::after {content: \"\\00b7\"; padding: 0 .5ex}\n",
              "</style>\n",
              "<ol class=list-inline><li>'Brasília'</li><li>'São Paulo'</li><li>'Belo Horizonte'</li><li>'Porto Alegre'</li></ol>\n"
            ]
          },
          "metadata": {
            "tags": []
          }
        }
      ]
    },
    {
      "cell_type": "code",
      "metadata": {
        "id": "RoqX1lKPHi9f",
        "outputId": "f93820cf-2e39-450f-96f4-e8e59be15882",
        "colab": {
          "base_uri": "https://localhost:8080/",
          "height": 34
        }
      },
      "source": [
        "# Incluir um novo elemento.\n",
        "#Comando: NomeVetor[NovaPosiçao] <- \"NovoElemento\"\n",
        "\n",
        "cidade2[5] <- \"Curitiba\"\n",
        "cidade2\n",
        "# A SAída mostra que o Vetor agora possui 5 elementos"
      ],
      "execution_count": 15,
      "outputs": [
        {
          "output_type": "display_data",
          "data": {
            "text/plain": [
              "[1] \"Brasília\"       \"São Paulo\"      \"Belo Horizonte\" \"Porto Alegre\"  \n",
              "[5] \"Curitiba\"      "
            ],
            "text/latex": "\\begin{enumerate*}\n\\item 'Brasília'\n\\item 'São Paulo'\n\\item 'Belo Horizonte'\n\\item 'Porto Alegre'\n\\item 'Curitiba'\n\\end{enumerate*}\n",
            "text/markdown": "1. 'Brasília'\n2. 'São Paulo'\n3. 'Belo Horizonte'\n4. 'Porto Alegre'\n5. 'Curitiba'\n\n\n",
            "text/html": [
              "<style>\n",
              ".list-inline {list-style: none; margin:0; padding: 0}\n",
              ".list-inline>li {display: inline-block}\n",
              ".list-inline>li:not(:last-child)::after {content: \"\\00b7\"; padding: 0 .5ex}\n",
              "</style>\n",
              "<ol class=list-inline><li>'Brasília'</li><li>'São Paulo'</li><li>'Belo Horizonte'</li><li>'Porto Alegre'</li><li>'Curitiba'</li></ol>\n"
            ]
          },
          "metadata": {
            "tags": []
          }
        }
      ]
    },
    {
      "cell_type": "code",
      "metadata": {
        "id": "jakMk2IwHjGm",
        "outputId": "a8599d34-fc59-4bb0-e154-fb019cde07dd",
        "colab": {
          "base_uri": "https://localhost:8080/",
          "height": 34
        }
      },
      "source": [
        "# Deletar/Apagar o Vetor: (NULL)\n",
        "# Comando: NomVetor <- NULL\n",
        "\n",
        "cidade2 <- NULL\n",
        "cidade2"
      ],
      "execution_count": 16,
      "outputs": [
        {
          "output_type": "display_data",
          "data": {
            "text/plain": [
              "NULL"
            ]
          },
          "metadata": {
            "tags": []
          }
        }
      ]
    },
    {
      "cell_type": "markdown",
      "metadata": {
        "id": "O3RLmE2oHjPT"
      },
      "source": [
        "## **Fator**\n",
        "\n",
        "Fatores armazem variáveis categóricas (de categorias) e tipos enumerados.\n",
        "Para criar os fatos utilizamos a função \"factor()\""
      ]
    },
    {
      "cell_type": "code",
      "metadata": {
        "id": "8xnSmGutI-Of",
        "outputId": "3a69f3cb-c9eb-45fd-b7a6-7e30e715dec0",
        "colab": {
          "base_uri": "https://localhost:8080/",
          "height": 51
        }
      },
      "source": [
        "#Criar a variável \"UF\", com uma lista de unidades federativas\n",
        "?factor\n",
        "UF <- factor(c(\"DF\", \"SP\", \"RJ\", \"RS\"))\n",
        "UF\n",
        "# A SAída do comando foi demonstrar as categorias existentes chamadas \"Levels\""
      ],
      "execution_count": 17,
      "outputs": [
        {
          "output_type": "display_data",
          "data": {
            "text/plain": [
              "[1] DF SP RJ RS\n",
              "Levels: DF RJ RS SP"
            ],
            "text/latex": "\\begin{enumerate*}\n\\item DF\n\\item SP\n\\item RJ\n\\item RS\n\\end{enumerate*}\n\n\\emph{Levels}: \\begin{enumerate*}\n\\item 'DF'\n\\item 'RJ'\n\\item 'RS'\n\\item 'SP'\n\\end{enumerate*}\n",
            "text/markdown": "1. DF\n2. SP\n3. RJ\n4. RS\n\n\n\n**Levels**: 1. 'DF'\n2. 'RJ'\n3. 'RS'\n4. 'SP'\n\n\n",
            "text/html": [
              "<style>\n",
              ".list-inline {list-style: none; margin:0; padding: 0}\n",
              ".list-inline>li {display: inline-block}\n",
              ".list-inline>li:not(:last-child)::after {content: \"\\00b7\"; padding: 0 .5ex}\n",
              "</style>\n",
              "<ol class=list-inline><li>DF</li><li>SP</li><li>RJ</li><li>RS</li></ol>\n",
              "\n",
              "<details>\n",
              "\t<summary style=display:list-item;cursor:pointer>\n",
              "\t\t<strong>Levels</strong>:\n",
              "\t</summary>\n",
              "\t<style>\n",
              "\t.list-inline {list-style: none; margin:0; padding: 0}\n",
              "\t.list-inline>li {display: inline-block}\n",
              "\t.list-inline>li:not(:last-child)::after {content: \"\\00b7\"; padding: 0 .5ex}\n",
              "\t</style>\n",
              "\t<ol class=list-inline><li>'DF'</li><li>'RJ'</li><li>'RS'</li><li>'SP'</li></ol>\n",
              "</details>"
            ]
          },
          "metadata": {
            "tags": []
          }
        }
      ]
    },
    {
      "cell_type": "code",
      "metadata": {
        "id": "qEWDp1GgI98v"
      },
      "source": [
        "# A Funcionalidade \"fatores ordenados\" :\n",
        "#Parâmetros: \"leves\" e \"ordered\".\n",
        "\n",
        "grau.instrucao <- factor(c(\"Nível Médio\",\n",
        "                        \"Superior\",\n",
        "                        \"Nivel Médio\",\n",
        "                        \"Fundamental\"),\n",
        "                  levels = c(\"Fundamental\",\n",
        "                           \"Nível Médio\",\n",
        "                            \"Superior\"),\n",
        "                  ordered = TRUE)\n",
        "    "
      ],
      "execution_count": 25,
      "outputs": []
    },
    {
      "cell_type": "code",
      "metadata": {
        "id": "_V6TOraYaRZk",
        "outputId": "6ea164b8-5c09-4cdc-b38b-423c921cf8e7",
        "colab": {
          "base_uri": "https://localhost:8080/",
          "height": 68
        }
      },
      "source": [
        "grau.instrucao"
      ],
      "execution_count": 26,
      "outputs": [
        {
          "output_type": "display_data",
          "data": {
            "text/plain": [
              "[1] Nível Médio Superior    <NA>        Fundamental\n",
              "Levels: Fundamental < Nível Médio < Superior"
            ],
            "text/latex": "\\begin{enumerate*}\n\\item Nível Médio\n\\item Superior\n\\item <NA>\n\\item Fundamental\n\\end{enumerate*}\n\n\\emph{Levels}: \\begin{enumerate*}\n\\item 'Fundamental'\n\\item 'Nível Médio'\n\\item 'Superior'\n\\end{enumerate*}\n",
            "text/markdown": "1. Nível Médio\n2. Superior\n3. &lt;NA&gt;\n4. Fundamental\n\n\n\n**Levels**: 1. 'Fundamental'\n2. 'Nível Médio'\n3. 'Superior'\n\n\n",
            "text/html": [
              "<style>\n",
              ".list-inline {list-style: none; margin:0; padding: 0}\n",
              ".list-inline>li {display: inline-block}\n",
              ".list-inline>li:not(:last-child)::after {content: \"\\00b7\"; padding: 0 .5ex}\n",
              "</style>\n",
              "<ol class=list-inline><li>Nível Médio</li><li>Superior</li><li>&lt;NA&gt;</li><li>Fundamental</li></ol>\n",
              "\n",
              "<details>\n",
              "\t<summary style=display:list-item;cursor:pointer>\n",
              "\t\t<strong>Levels</strong>:\n",
              "\t</summary>\n",
              "\t<style>\n",
              "\t.list-inline {list-style: none; margin:0; padding: 0}\n",
              "\t.list-inline>li {display: inline-block}\n",
              "\t.list-inline>li:not(:last-child)::after {content: \"\\00b7\"; padding: 0 .5ex}\n",
              "\t</style>\n",
              "\t<ol class=list-inline><li>'Fundamental'</li><li>'Nível Médio'</li><li>'Superior'</li></ol>\n",
              "</details>"
            ]
          },
          "metadata": {
            "tags": []
          }
        }
      ]
    },
    {
      "cell_type": "markdown",
      "metadata": {
        "id": "OOqcPN43dYeJ"
      },
      "source": [
        "Ao visualizar o fator ordenado \"grau.instrucao\", que foi criado. É possível verificar a ordem atribuida:O Sinal de menor indica que \"Fundamental\", vem antes de \"Nível Médio\" que vem antes de \"Superior\"."
      ]
    },
    {
      "cell_type": "markdown",
      "metadata": {
        "id": "OS6wmXZveJeK"
      },
      "source": [
        "## **Lista**\n",
        "\n",
        "Vamos aprender a estrutura de uma lista. Para criar uma lista utilizamos: \"list()\""
      ]
    },
    {
      "cell_type": "code",
      "metadata": {
        "id": "zoeDW0-ieAo1",
        "outputId": "e974e65a-1dea-49bb-a143-86c0b1abea31",
        "colab": {
          "base_uri": "https://localhost:8080/",
          "height": 147
        }
      },
      "source": [
        "?list()\n",
        "pessoa <- list(sexo = \"M\", cidade = \"Brasília\", idade = 20)\n",
        "\n",
        "pessoa"
      ],
      "execution_count": 30,
      "outputs": [
        {
          "output_type": "display_data",
          "data": {
            "text/plain": [
              "$sexo\n",
              "[1] \"M\"\n",
              "\n",
              "$cidade\n",
              "[1] \"Brasília\"\n",
              "\n",
              "$idade\n",
              "[1] 20\n"
            ],
            "text/latex": "\\begin{description}\n\\item[\\$sexo] 'M'\n\\item[\\$cidade] 'Brasília'\n\\item[\\$idade] 20\n\\end{description}\n",
            "text/markdown": "$sexo\n:   'M'\n$cidade\n:   'Brasília'\n$idade\n:   20\n\n\n",
            "text/html": [
              "<dl>\n",
              "\t<dt>$sexo</dt>\n",
              "\t\t<dd>'M'</dd>\n",
              "\t<dt>$cidade</dt>\n",
              "\t\t<dd>'Brasília'</dd>\n",
              "\t<dt>$idade</dt>\n",
              "\t\t<dd>20</dd>\n",
              "</dl>\n"
            ]
          },
          "metadata": {
            "tags": []
          }
        }
      ]
    },
    {
      "cell_type": "code",
      "metadata": {
        "id": "oZRaibtxe7tC",
        "outputId": "d32347ac-5c38-44df-949e-99c727e8970e",
        "colab": {
          "base_uri": "https://localhost:8080/",
          "height": 51
        }
      },
      "source": [
        "#Para acessar um item da lista, utilizamo a notação \"Lista[posição]\", que ira retornar o valor da posição informada:\n",
        "# O 1º exemplo retorna o atributo e o valor da lista\n",
        "# O 2º exemplo retorna apenas o valor da lista\n",
        "pessoa[1] \n",
        "#Ou\n",
        "pessoa[[1]]"
      ],
      "execution_count": 32,
      "outputs": [
        {
          "output_type": "display_data",
          "data": {
            "text/plain": [
              "$sexo\n",
              "[1] \"M\"\n"
            ],
            "text/latex": "\\textbf{\\$sexo} = 'M'",
            "text/markdown": "**$sexo** = 'M'",
            "text/html": [
              "<strong>$sexo</strong> = 'M'"
            ]
          },
          "metadata": {
            "tags": []
          }
        },
        {
          "output_type": "display_data",
          "data": {
            "text/plain": [
              "[1] \"M\""
            ],
            "text/latex": "'M'",
            "text/markdown": "'M'",
            "text/html": [
              "'M'"
            ]
          },
          "metadata": {
            "tags": []
          }
        }
      ]
    },
    {
      "cell_type": "code",
      "metadata": {
        "id": "l2o4NM6Nfg9c",
        "outputId": "9a96bf75-b2eb-4ee1-f598-2227e77cf59f",
        "colab": {
          "base_uri": "https://localhost:8080/",
          "height": 147
        }
      },
      "source": [
        "# Deletar/Apagar uma Lista: (NULL)\n",
        "# Comando: NomeLista <- NULL\n",
        "\n",
        "pessoa[[\"idade\"]] <- 22\n",
        "pessoa\n"
      ],
      "execution_count": 38,
      "outputs": [
        {
          "output_type": "display_data",
          "data": {
            "text/plain": [
              "$sexo\n",
              "[1] \"M\"\n",
              "\n",
              "$cidade\n",
              "[1] \"Brasília\"\n",
              "\n",
              "$idade\n",
              "[1] 22\n"
            ],
            "text/latex": "\\begin{description}\n\\item[\\$sexo] 'M'\n\\item[\\$cidade] 'Brasília'\n\\item[\\$idade] 22\n\\end{description}\n",
            "text/markdown": "$sexo\n:   'M'\n$cidade\n:   'Brasília'\n$idade\n:   22\n\n\n",
            "text/html": [
              "<dl>\n",
              "\t<dt>$sexo</dt>\n",
              "\t\t<dd>'M'</dd>\n",
              "\t<dt>$cidade</dt>\n",
              "\t\t<dd>'Brasília'</dd>\n",
              "\t<dt>$idade</dt>\n",
              "\t\t<dd>22</dd>\n",
              "</dl>\n"
            ]
          },
          "metadata": {
            "tags": []
          }
        }
      ]
    },
    {
      "cell_type": "code",
      "metadata": {
        "id": "JGTG_nXvgceT",
        "outputId": "17ff4ce0-8d29-4110-d0ad-24a1744e550e",
        "colab": {
          "base_uri": "https://localhost:8080/",
          "height": 113
        }
      },
      "source": [
        "pessoa[[\"idade\"]] <- NULL\n",
        "pessoa"
      ],
      "execution_count": 36,
      "outputs": [
        {
          "output_type": "display_data",
          "data": {
            "text/plain": [
              "$sexo\n",
              "[1] \"M\"\n",
              "\n",
              "$cidade\n",
              "[1] \"Brasília\"\n"
            ],
            "text/latex": "\\begin{description}\n\\item[\\$sexo] 'M'\n\\item[\\$cidade] 'Brasília'\n\\end{description}\n",
            "text/markdown": "$sexo\n:   'M'\n$cidade\n:   'Brasília'\n\n\n",
            "text/html": [
              "<dl>\n",
              "\t<dt>$sexo</dt>\n",
              "\t\t<dd>'M'</dd>\n",
              "\t<dt>$cidade</dt>\n",
              "\t\t<dd>'Brasília'</dd>\n",
              "</dl>\n"
            ]
          },
          "metadata": {
            "tags": []
          }
        }
      ]
    },
    {
      "cell_type": "code",
      "metadata": {
        "id": "nMse03IjghaJ",
        "outputId": "ee0d249a-5aa5-4e8a-f442-9269394e3d77",
        "colab": {
          "base_uri": "https://localhost:8080/",
          "height": 113
        }
      },
      "source": [
        "# Filtrando elementos da lista\n",
        "# Neste caso o valor não é deletado da lista.\n",
        "pessoa[c(\"cidade\", \"sexo\")]"
      ],
      "execution_count": 40,
      "outputs": [
        {
          "output_type": "display_data",
          "data": {
            "text/plain": [
              "$cidade\n",
              "[1] \"Brasília\"\n",
              "\n",
              "$sexo\n",
              "[1] \"M\"\n"
            ],
            "text/latex": "\\begin{description}\n\\item[\\$cidade] 'Brasília'\n\\item[\\$sexo] 'M'\n\\end{description}\n",
            "text/markdown": "$cidade\n:   'Brasília'\n$sexo\n:   'M'\n\n\n",
            "text/html": [
              "<dl>\n",
              "\t<dt>$cidade</dt>\n",
              "\t\t<dd>'Brasília'</dd>\n",
              "\t<dt>$sexo</dt>\n",
              "\t\t<dd>'M'</dd>\n",
              "</dl>\n"
            ]
          },
          "metadata": {
            "tags": []
          }
        }
      ]
    },
    {
      "cell_type": "code",
      "metadata": {
        "id": "iP3Q6N9NhW0v"
      },
      "source": [
        ""
      ],
      "execution_count": null,
      "outputs": []
    },
    {
      "cell_type": "code",
      "metadata": {
        "id": "mW55fm0vhXTk"
      },
      "source": [
        ""
      ],
      "execution_count": null,
      "outputs": []
    }
  ]
}